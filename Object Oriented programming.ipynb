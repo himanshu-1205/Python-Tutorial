{
 "cells": [
  {
   "cell_type": "markdown",
   "metadata": {},
   "source": [
    "# Object Oriented Programming\n",
    "\n",
    "Like other general-purpose programming languages, Python is also an object-oriented language since its beginning. It allows us to develop applications using an Object-Oriented approach. In Python, we can easily create and use classes and objects.\n",
    "\n",
    "An object-oriented paradigm is to design the program using classes and objects. The object is related to real-word entities such as book, house, pencil, etc. The oops concept focuses on writing the reusable code. It is a widespread technique to solve the problem by creating objects.\n",
    "\n",
    "Major principles of object-oriented programming system are given below.\n",
    "\n",
    "1. Class\n",
    "2. Object\n",
    "3. Method\n",
    "4. Inheritance\n",
    "5. Polymorphism\n",
    "6. Data Abstraction\n",
    "7. Encapsulation"
   ]
  },
  {
   "cell_type": "markdown",
   "metadata": {},
   "source": [
    "## Class\n",
    "\n",
    "The class can be defined as a collection of objects. It is a logical entity that has some specific attributes and methods. For example: if you have an employee class, then it should contain an attribute and method, i.e. an email id, name, age, salary, etc."
   ]
  },
  {
   "cell_type": "raw",
   "metadata": {},
   "source": [
    "#Syntax\n",
    "class ClassName:     \n",
    "    <statement-1>     \n",
    "    .     \n",
    "    .      \n",
    "    <statement-N>     "
   ]
  },
  {
   "cell_type": "code",
   "execution_count": 1,
   "metadata": {},
   "outputs": [],
   "source": [
    "class dog:\n",
    "    pass"
   ]
  },
  {
   "cell_type": "markdown",
   "metadata": {},
   "source": [
    "## Object\n",
    "\n",
    "The object is an entity that has state and behavior. It may be any real-world object like the mouse, keyboard, chair, table, pen, etc.\n",
    "\n",
    "Everything in Python is an object, and almost everything has attributes and methods. All functions have a built-in attribute __doc__, which returns the docstring defined in the function source code.\n",
    "\n",
    "When we define a class, it needs to create an object to allocate the memory. Consider the following example."
   ]
  },
  {
   "cell_type": "code",
   "execution_count": 2,
   "metadata": {},
   "outputs": [
    {
     "name": "stdout",
     "output_type": "stream",
     "text": [
      "Toyota 2016\n"
     ]
    }
   ],
   "source": [
    "class car:  \n",
    "    def __init__(self,modelname, year):  \n",
    "        self.modelname = modelname  \n",
    "        self.year = year  \n",
    "    def display(self):  \n",
    "        print(self.modelname,self.year)  \n",
    "  \n",
    "c1 = car(\"Toyota\", 2016)  # c1 is the object for the class car.\n",
    "c1.display()  # Accessing class entities using object"
   ]
  },
  {
   "cell_type": "markdown",
   "metadata": {},
   "source": [
    "## What is self?"
   ]
  },
  {
   "cell_type": "markdown",
   "metadata": {},
   "source": [
    "• Self is a parameter that represents an object.\n",
    "\n",
    "• Using self, can access instance variables in an object. Instance variables are for\n",
    "storing data fields. Each object is an instance of a class.\n",
    "\n",
    "• Instance variables are tied to specific objects. Each object has its own instance\n",
    "variables. You can use the syntax self . X to access the instance variable x for the\n",
    "object self in a method."
   ]
  },
  {
   "cell_type": "markdown",
   "metadata": {},
   "source": [
    "### METHOD"
   ]
  },
  {
   "cell_type": "markdown",
   "metadata": {},
   "source": [
    "• Class method must have first argument named as self, added first.\n",
    "\n",
    "• Dont pass value for this parameter when call method. (automatically)\n",
    "\n",
    "• self argument refers to object itself, that has called method.\n",
    "\n",
    "• If a method that takes no argument, it should be defined to accept the self.\n",
    "\n",
    "• If a function defined to take one parameter, then it need to take two - self and parameter."
   ]
  },
  {
   "cell_type": "code",
   "execution_count": 6,
   "metadata": {},
   "outputs": [
    {
     "name": "stdout",
     "output_type": "stream",
     "text": [
      "10\n",
      "InClass Method...\n"
     ]
    }
   ],
   "source": [
    "class ABC ():\n",
    "    a = 10\n",
    "    def display(self) :\n",
    "        print(\"InClass Method...\")\n",
    "obj = ABC()\n",
    "print(obj.a)\n",
    "obj.display()"
   ]
  },
  {
   "cell_type": "markdown",
   "metadata": {},
   "source": [
    "### Delete the Object\n"
   ]
  },
  {
   "cell_type": "code",
   "execution_count": 13,
   "metadata": {},
   "outputs": [
    {
     "name": "stdout",
     "output_type": "stream",
     "text": [
      "10\n"
     ]
    },
    {
     "ename": "NameError",
     "evalue": "name 'emp' is not defined",
     "output_type": "error",
     "traceback": [
      "\u001b[0;31m---------------------------------------------------------------------------\u001b[0m",
      "\u001b[0;31mNameError\u001b[0m                                 Traceback (most recent call last)",
      "\u001b[0;32m<ipython-input-13-ef862c8f51dd>\u001b[0m in \u001b[0;36m<module>\u001b[0;34m\u001b[0m\n\u001b[1;32m     12\u001b[0m \u001b[0;34m\u001b[0m\u001b[0m\n\u001b[1;32m     13\u001b[0m \u001b[0;32mdel\u001b[0m \u001b[0memp\u001b[0m\u001b[0;34m\u001b[0m\u001b[0;34m\u001b[0m\u001b[0m\n\u001b[0;32m---> 14\u001b[0;31m \u001b[0memp\u001b[0m\u001b[0;34m.\u001b[0m\u001b[0mdisplay\u001b[0m\u001b[0;34m(\u001b[0m\u001b[0;34m)\u001b[0m\u001b[0;34m\u001b[0m\u001b[0;34m\u001b[0m\u001b[0m\n\u001b[0m",
      "\u001b[0;31mNameError\u001b[0m: name 'emp' is not defined"
     ]
    }
   ],
   "source": [
    "class Employee:  \n",
    "    id = 10  \n",
    "    name = \"John\"  \n",
    "  \n",
    "    def display(self):  \n",
    "        print(\"ID: %d \\nName: %s\" % (self.id, self.name))\n",
    "        \n",
    "emp = Employee()  \n",
    "print(emp.id)\n",
    "  \n",
    "# Deleting the object itself  \n",
    "\n",
    "del emp  \n",
    "emp.display()  "
   ]
  },
  {
   "cell_type": "markdown",
   "metadata": {},
   "source": [
    "## Creating the constructor in python\n",
    "In Python, the method the __init__() simulates the constructor of the class. This method is called when the class is instantiated. It accepts the self-keyword as a first argument which allows accessing the attributes or method of the class.\n",
    "\n",
    "We can pass any number of arguments at the time of creating the class object, depending upon the __init__() definition. It is mostly used to initialize the class attributes. Every class must have a constructor, even if it simply relies on the default constructor.\n",
    "\n",
    "Consider the following example to initialize the Employee class attributes."
   ]
  },
  {
   "cell_type": "code",
   "execution_count": 14,
   "metadata": {},
   "outputs": [
    {
     "name": "stdout",
     "output_type": "stream",
     "text": [
      "ID: 101 \n",
      "Name: John\n",
      "ID: 102 \n",
      "Name: David\n"
     ]
    }
   ],
   "source": [
    "class Employee:  \n",
    "    def __init__(self, name, id):  \n",
    "        self.id = id  \n",
    "        self.name = name  \n",
    "  \n",
    "    def display(self):  \n",
    "        print(\"ID: %d \\nName: %s\" % (self.id, self.name))  \n",
    "  \n",
    "  \n",
    "emp1 = Employee(\"John\", 101)  \n",
    "emp2 = Employee(\"David\", 102)  \n",
    "  \n",
    "# accessing display() method to print employee 1 information  \n",
    "  \n",
    "emp1.display()  \n",
    "  \n",
    "# accessing display() method to print employee 2 information  \n",
    "emp2.display()  "
   ]
  },
  {
   "cell_type": "markdown",
   "metadata": {},
   "source": [
    "### Counting the number of objects of a class\n"
   ]
  },
  {
   "cell_type": "code",
   "execution_count": 15,
   "metadata": {},
   "outputs": [
    {
     "name": "stdout",
     "output_type": "stream",
     "text": [
      "The number of students: 3\n"
     ]
    }
   ],
   "source": [
    "class Student:    \n",
    "    count = 0    \n",
    "    def __init__(self):    \n",
    "        Student.count = Student.count + 1    \n",
    "s1=Student()    \n",
    "s2=Student()    \n",
    "s3=Student()    \n",
    "print(\"The number of students:\",Student.count)    "
   ]
  },
  {
   "cell_type": "markdown",
   "metadata": {},
   "source": [
    "### Python Non-Parameterized Constructor\n"
   ]
  },
  {
   "cell_type": "code",
   "execution_count": 16,
   "metadata": {},
   "outputs": [
    {
     "name": "stdout",
     "output_type": "stream",
     "text": [
      "This is non parametrized constructor\n",
      "Hello John\n"
     ]
    }
   ],
   "source": [
    "class Student:  \n",
    "    # Constructor - non parameterized  \n",
    "    def __init__(self):  \n",
    "        print(\"This is non parametrized constructor\")  \n",
    "    def show(self,name):  \n",
    "        print(\"Hello\",name)  \n",
    "student = Student()  \n",
    "student.show(\"John\")      "
   ]
  },
  {
   "cell_type": "markdown",
   "metadata": {},
   "source": [
    "### Python Parameterized Constructor"
   ]
  },
  {
   "cell_type": "code",
   "execution_count": 17,
   "metadata": {},
   "outputs": [
    {
     "name": "stdout",
     "output_type": "stream",
     "text": [
      "This is parametrized constructor\n",
      "Hello John\n"
     ]
    }
   ],
   "source": [
    "class Student:  \n",
    "    # Constructor - parameterized  \n",
    "    def __init__(self, name):  \n",
    "        print(\"This is parametrized constructor\")  \n",
    "        self.name = name  \n",
    "    def show(self):  \n",
    "        print(\"Hello\",self.name)  \n",
    "student = Student(\"John\")  \n",
    "student.show()    "
   ]
  },
  {
   "cell_type": "markdown",
   "metadata": {},
   "source": [
    "### Python Default Constructor\n"
   ]
  },
  {
   "cell_type": "code",
   "execution_count": 18,
   "metadata": {},
   "outputs": [
    {
     "name": "stdout",
     "output_type": "stream",
     "text": [
      "101 Joseph\n"
     ]
    }
   ],
   "source": [
    "class Student:  \n",
    "    roll_num = 101  \n",
    "    name = \"Joseph\"  \n",
    "  \n",
    "    def display(self):  \n",
    "        print(self.roll_num,self.name)  \n",
    "  \n",
    "st = Student()  \n",
    "st.display()  "
   ]
  },
  {
   "cell_type": "markdown",
   "metadata": {},
   "source": [
    "### built-in functions defined in the class\n",
    "1.  getattr(obj,name,default):- It is used to access the attribute of the object.\n",
    "2.\tsetattr(obj, name,value):- It is used to set a particular value to the specific attribute of an object.\n",
    "3.\tdelattr(obj, name):- It is used to delete a specific attribute.\n",
    "4.\thasattr(obj, name):- It returns true if the object contains some specific attribute."
   ]
  },
  {
   "cell_type": "code",
   "execution_count": 19,
   "metadata": {},
   "outputs": [
    {
     "name": "stdout",
     "output_type": "stream",
     "text": [
      "John\n",
      "23\n",
      "True\n"
     ]
    },
    {
     "ename": "AttributeError",
     "evalue": "'Student' object has no attribute 'age'",
     "output_type": "error",
     "traceback": [
      "\u001b[0;31m---------------------------------------------------------------------------\u001b[0m",
      "\u001b[0;31mAttributeError\u001b[0m                            Traceback (most recent call last)",
      "\u001b[0;32m<ipython-input-19-8811865a70d0>\u001b[0m in \u001b[0;36m<module>\u001b[0;34m\u001b[0m\n\u001b[1;32m     24\u001b[0m \u001b[0;34m\u001b[0m\u001b[0m\n\u001b[1;32m     25\u001b[0m \u001b[0;31m# this will give an error since the attribute age has been deleted\u001b[0m\u001b[0;34m\u001b[0m\u001b[0;34m\u001b[0m\u001b[0;34m\u001b[0m\u001b[0m\n\u001b[0;32m---> 26\u001b[0;31m \u001b[0mprint\u001b[0m\u001b[0;34m(\u001b[0m\u001b[0ms\u001b[0m\u001b[0;34m.\u001b[0m\u001b[0mage\u001b[0m\u001b[0;34m)\u001b[0m\u001b[0;34m\u001b[0m\u001b[0;34m\u001b[0m\u001b[0m\n\u001b[0m",
      "\u001b[0;31mAttributeError\u001b[0m: 'Student' object has no attribute 'age'"
     ]
    }
   ],
   "source": [
    "class Student:  \n",
    "    def __init__(self, name, id, age):  \n",
    "        self.name = name  \n",
    "        self.id = id  \n",
    "        self.age = age  \n",
    "  \n",
    "    # creates the object of the class Student  \n",
    "s = Student(\"John\", 101, 22)  \n",
    "  \n",
    "# prints the attribute name of the object s  \n",
    "print(getattr(s, 'name'))  \n",
    "  \n",
    "# reset the value of attribute age to 23  \n",
    "setattr(s, \"age\", 23)  \n",
    "  \n",
    "# prints the modified value of age  \n",
    "print(getattr(s, 'age'))  \n",
    "  \n",
    "# prints true if the student contains the attribute with name id  \n",
    "  \n",
    "print(hasattr(s, 'id'))  \n",
    "# deletes the attribute age  \n",
    "delattr(s, 'age')  \n",
    "  \n",
    "# this will give an error since the attribute age has been deleted  \n",
    "print(s.age)  "
   ]
  },
  {
   "cell_type": "markdown",
   "metadata": {},
   "source": [
    "### Built-in class attributes\n",
    "1.\t_ _dict_ _ :-It provides the dictionary containing the information about the class namespace.\n",
    "2.\t_ _doc_ _ :- It contains a string which has the class documentation\n",
    "3.\t_ _name_ _ :- It is used to access the class name.\n",
    "4.\t_ _module_ _ :- It is used to access the module in which, this class is defined.\n",
    "5.\t_ _bases_ _ :- It contains a tuple including all base classes."
   ]
  },
  {
   "cell_type": "code",
   "execution_count": 20,
   "metadata": {},
   "outputs": [
    {
     "name": "stdout",
     "output_type": "stream",
     "text": [
      "None\n",
      "{'name': 'John', 'id': 101, 'age': 22}\n",
      "__main__\n"
     ]
    }
   ],
   "source": [
    "class Student:    \n",
    "    def __init__(self,name,id,age):    \n",
    "        self.name = name;    \n",
    "        self.id = id;    \n",
    "        self.age = age    \n",
    "    def display_details(self):    \n",
    "        print(\"Name:%s, ID:%d, age:%d\"%(self.name,self.id))    \n",
    "s = Student(\"John\",101,22)    \n",
    "print(s.__doc__)    \n",
    "print(s.__dict__)    \n",
    "print(s.__module__)    "
   ]
  },
  {
   "cell_type": "markdown",
   "metadata": {},
   "source": [
    "## Python Inheritance\n",
    "Inheritance is an important aspect of the object-oriented paradigm. Inheritance provides code reusability to the program because we can use an existing class to create a new class instead of creating it from scratch.\n",
    "\n",
    "In inheritance, the child class acquires the properties and can access all the data members and functions defined in the parent class. A child class can also provide its specific implementation to the functions of the parent class. In this section of the tutorial, we will discuss inheritance in detail.\n",
    "\n",
    "In python, a derived class can inherit base class by just mentioning the base in the bracket after the derived class name. Consider the following syntax to inherit a base class into the derived class."
   ]
  },
  {
   "cell_type": "raw",
   "metadata": {},
   "source": [
    "Syntax:-\n",
    "class derived-class(base class):  \n",
    "    <class-suite>   \n",
    "    \n",
    "For Multiple class\n",
    "\n",
    "class derive-class(<base class 1>, <base class 2>, ..... <base class n>):  \n",
    "    <class - suite>   "
   ]
  },
  {
   "cell_type": "code",
   "execution_count": 21,
   "metadata": {},
   "outputs": [
    {
     "name": "stdout",
     "output_type": "stream",
     "text": [
      "dog barking\n",
      "Animal Speaking\n"
     ]
    }
   ],
   "source": [
    "class Animal:  \n",
    "    def speak(self):  \n",
    "        print(\"Animal Speaking\")  \n",
    "#child class Dog inherits the base class Animal  \n",
    "class Dog(Animal):  \n",
    "    def bark(self):  \n",
    "        print(\"dog barking\")  \n",
    "d = Dog()  \n",
    "d.bark()  \n",
    "d.speak()  "
   ]
  },
  {
   "cell_type": "markdown",
   "metadata": {},
   "source": [
    "### Python Multi-Level inheritance\n",
    "Multi-Level inheritance is possible in python like other object-oriented languages. Multi-level inheritance is archived when a derived class inherits another derived class. There is no limit on the number of levels up to which, the multi-level inheritance is archived in python.\n",
    "\n"
   ]
  },
  {
   "cell_type": "raw",
   "metadata": {},
   "source": [
    "Syntax:-\n",
    "class class1:  \n",
    "    <class-suite>   \n",
    "class class2(class1):  \n",
    "    <class suite>  \n",
    "class class3(class2):  \n",
    "    <class suite>  "
   ]
  },
  {
   "cell_type": "code",
   "execution_count": 22,
   "metadata": {},
   "outputs": [
    {
     "name": "stdout",
     "output_type": "stream",
     "text": [
      "dog barking\n",
      "Animal Speaking\n",
      "Eating bread...\n"
     ]
    }
   ],
   "source": [
    "class Animal:  \n",
    "    def speak(self):  \n",
    "        print(\"Animal Speaking\")  \n",
    "#The child class Dog inherits the base class Animal  \n",
    "class Dog(Animal):  \n",
    "    def bark(self):  \n",
    "        print(\"dog barking\")  \n",
    "#The child class Dogchild inherits another child class Dog  \n",
    "class DogChild(Dog):  \n",
    "    def eat(self):  \n",
    "        print(\"Eating bread...\")  \n",
    "d = DogChild()  \n",
    "d.bark()  \n",
    "d.speak()  \n",
    "d.eat()  "
   ]
  },
  {
   "cell_type": "markdown",
   "metadata": {},
   "source": [
    "### Python Multiple inheritance\n"
   ]
  },
  {
   "cell_type": "raw",
   "metadata": {},
   "source": [
    "Syntax:-\n",
    "class Base1:  \n",
    "    <class-suite>  \n",
    "  \n",
    "class Base2:  \n",
    "    <class-suite>  \n",
    ".  \n",
    ".  \n",
    ".  \n",
    "class BaseN:  \n",
    "    <class-suite>  \n",
    "  \n",
    "class Derived(Base1, Base2, ...... BaseN):  \n",
    "    <class-suite>  "
   ]
  },
  {
   "cell_type": "code",
   "execution_count": 23,
   "metadata": {},
   "outputs": [
    {
     "name": "stdout",
     "output_type": "stream",
     "text": [
      "30\n",
      "200\n",
      "0.5\n"
     ]
    }
   ],
   "source": [
    "class Calculation1:  \n",
    "    def Summation(self,a,b):  \n",
    "        return a+b;  \n",
    "class Calculation2:  \n",
    "    def Multiplication(self,a,b):  \n",
    "        return a*b;  \n",
    "class Derived(Calculation1,Calculation2):  \n",
    "    def Divide(self,a,b):  \n",
    "        return a/b;  \n",
    "d = Derived()  \n",
    "print(d.Summation(10,20))  \n",
    "print(d.Multiplication(10,20))  \n",
    "print(d.Divide(10,20))  "
   ]
  },
  {
   "cell_type": "markdown",
   "metadata": {},
   "source": [
    "### issubclass method"
   ]
  },
  {
   "cell_type": "code",
   "execution_count": 24,
   "metadata": {},
   "outputs": [
    {
     "name": "stdout",
     "output_type": "stream",
     "text": [
      "True\n",
      "False\n"
     ]
    }
   ],
   "source": [
    "class Calculation1:  \n",
    "    def Summation(self,a,b):  \n",
    "        return a+b;  \n",
    "class Calculation2:  \n",
    "    def Multiplication(self,a,b):  \n",
    "        return a*b;  \n",
    "class Derived(Calculation1,Calculation2):  \n",
    "    def Divide(self,a,b):  \n",
    "        return a/b;  \n",
    "d = Derived()  \n",
    "print(issubclass(Derived,Calculation2))  \n",
    "print(issubclass(Calculation1,Calculation2))  "
   ]
  },
  {
   "cell_type": "markdown",
   "metadata": {},
   "source": [
    "### isinstance Method"
   ]
  },
  {
   "cell_type": "code",
   "execution_count": 25,
   "metadata": {},
   "outputs": [
    {
     "name": "stdout",
     "output_type": "stream",
     "text": [
      "True\n"
     ]
    }
   ],
   "source": [
    "class Calculation1:  \n",
    "    def Summation(self,a,b):  \n",
    "        return a+b;  \n",
    "class Calculation2:  \n",
    "    def Multiplication(self,a,b):  \n",
    "        return a*b;  \n",
    "class Derived(Calculation1,Calculation2):  \n",
    "    def Divide(self,a,b):  \n",
    "        return a/b;  \n",
    "d = Derived()  \n",
    "print(isinstance(d,Derived))  "
   ]
  },
  {
   "cell_type": "markdown",
   "metadata": {},
   "source": [
    "### Method Overriding\n",
    "We can provide some specific implementation of the parent class method in our child class. When the parent class method is defined in the child class with some specific implementation, then the concept is called method overriding. We may need to perform method overriding in the scenario where the different definition of a parent class method is needed in the child class.\n",
    "\n",
    "Consider the following example to perform method overriding in python."
   ]
  },
  {
   "cell_type": "code",
   "execution_count": 26,
   "metadata": {},
   "outputs": [
    {
     "name": "stdout",
     "output_type": "stream",
     "text": [
      "Barking\n"
     ]
    }
   ],
   "source": [
    "class Animal:  \n",
    "    def speak(self):  \n",
    "        print(\"speaking\")  \n",
    "class Dog(Animal):  \n",
    "    def speak(self):  \n",
    "        print(\"Barking\")  \n",
    "d = Dog()  \n",
    "d.speak()  "
   ]
  },
  {
   "cell_type": "markdown",
   "metadata": {},
   "source": [
    "### Data abstraction in python\n",
    "Abstraction is an important aspect of object-oriented programming. In python, we can also perform data hiding by adding the double underscore (___) as a prefix to the attribute which is to be hidden. After this, the attribute will not be visible outside of the class through the object.\n",
    "\n",
    "Consider the following example."
   ]
  },
  {
   "cell_type": "code",
   "execution_count": 27,
   "metadata": {},
   "outputs": [
    {
     "name": "stdout",
     "output_type": "stream",
     "text": [
      "The number of employees 2\n"
     ]
    },
    {
     "ename": "AttributeError",
     "evalue": "'Employee' object has no attribute '__count'",
     "output_type": "error",
     "traceback": [
      "\u001b[0;31m---------------------------------------------------------------------------\u001b[0m",
      "\u001b[0;31mAttributeError\u001b[0m                            Traceback (most recent call last)",
      "\u001b[0;32m<ipython-input-27-ad9a434d9cba>\u001b[0m in \u001b[0;36m<module>\u001b[0;34m\u001b[0m\n\u001b[1;32m      8\u001b[0m \u001b[0memp2\u001b[0m \u001b[0;34m=\u001b[0m \u001b[0mEmployee\u001b[0m\u001b[0;34m(\u001b[0m\u001b[0;34m)\u001b[0m\u001b[0;34m\u001b[0m\u001b[0;34m\u001b[0m\u001b[0m\n\u001b[1;32m      9\u001b[0m \u001b[0;32mtry\u001b[0m\u001b[0;34m:\u001b[0m\u001b[0;34m\u001b[0m\u001b[0;34m\u001b[0m\u001b[0m\n\u001b[0;32m---> 10\u001b[0;31m     \u001b[0mprint\u001b[0m\u001b[0;34m(\u001b[0m\u001b[0memp\u001b[0m\u001b[0;34m.\u001b[0m\u001b[0m__count\u001b[0m\u001b[0;34m)\u001b[0m\u001b[0;34m\u001b[0m\u001b[0;34m\u001b[0m\u001b[0m\n\u001b[0m\u001b[1;32m     11\u001b[0m \u001b[0;32mfinally\u001b[0m\u001b[0;34m:\u001b[0m\u001b[0;34m\u001b[0m\u001b[0;34m\u001b[0m\u001b[0m\n\u001b[1;32m     12\u001b[0m     \u001b[0memp\u001b[0m\u001b[0;34m.\u001b[0m\u001b[0mdisplay\u001b[0m\u001b[0;34m(\u001b[0m\u001b[0;34m)\u001b[0m\u001b[0;34m\u001b[0m\u001b[0;34m\u001b[0m\u001b[0m\n",
      "\u001b[0;31mAttributeError\u001b[0m: 'Employee' object has no attribute '__count'"
     ]
    }
   ],
   "source": [
    "class Employee:  \n",
    "    __count = 0;  \n",
    "    def __init__(self):  \n",
    "        Employee.__count = Employee.__count+1  \n",
    "    def display(self):  \n",
    "        print(\"The number of employees\",Employee.__count)  \n",
    "emp = Employee()  \n",
    "emp2 = Employee()  \n",
    "try:  \n",
    "    print(emp.__count)  \n",
    "finally:  \n",
    "    emp.display()  "
   ]
  },
  {
   "cell_type": "markdown",
   "metadata": {},
   "source": [
    "### Other Special Methods\n",
    "• _ _repr_ _ ( ) :- it returns a stringrepresentation of object.Function works on any object, not just class instances.\n",
    "\n",
    "• _ _cmp_ _( ) :-It compare two class objects. function can compare objects with == operator.\n",
    "\n",
    "• _ _len_ _ ( ) :- returns the length of an object"
   ]
  },
  {
   "cell_type": "code",
   "execution_count": 29,
   "metadata": {},
   "outputs": [
    {
     "name": "stdout",
     "output_type": "stream",
     "text": [
      "VALUE IN OBJECT :  1\n",
      "LENGTH OF NAME STORED IN OBJECT IS : 6\n",
      "BOTH ARE EQUAL\n"
     ]
    }
   ],
   "source": [
    "class ABC:\n",
    "    def __init__(self, name, var):\n",
    "        self.name = name\n",
    "        self.var = var\n",
    "    def __repr__(self):\n",
    "        return repr(self.var)\n",
    "    def __len__(self):\n",
    "        return len(self.name)\n",
    "    def __cmp__(self, obj):\n",
    "        return self.var - obj.var\n",
    "obj = ABC (\"tuvxyz\" , 1 )\n",
    "print(\"VALUE IN OBJECT : \", repr(obj) )\n",
    "print(\"LENGTH OF NAME STORED IN OBJECT IS :\",\n",
    "len(obj) )\n",
    "obj1 = ABC(\"abcdef\",1)\n",
    "val = obj.__cmp__(obj1)\n",
    "if val == 0:\n",
    "    print(\"BOTH ARE EQUAL\" )\n",
    "elif val == -1:\n",
    "    print(\"FIRST IS LESS THAN SECOND\" )\n",
    "else:\n",
    "    print(\"SECOND IS LESS THAN FIRST\" )"
   ]
  },
  {
   "cell_type": "markdown",
   "metadata": {},
   "source": [
    "### USE OF __GETITEM__( ) & __SETITEM__( )"
   ]
  },
  {
   "cell_type": "code",
   "execution_count": 30,
   "metadata": {},
   "outputs": [
    {
     "name": "stdout",
     "output_type": "stream",
     "text": [
      "6\n",
      "[1, 2, 3, 22, 5, 6, 7, 8, 9]\n"
     ]
    }
   ],
   "source": [
    "class Numbers:\n",
    "    def __init__(self, myList):\n",
    "        self.myList = myList\n",
    "    def __getitem__(self, index):\n",
    "        return self.myList[index]\n",
    "    def __setitem__(self, index,val):\n",
    "        self.myList[index] = val\n",
    "NumList = Numbers( [1,2,3,4,5,6,7,8,9])\n",
    "print(NumList[5])\n",
    "NumList[3] =22\n",
    "print(NumList.myList)"
   ]
  },
  {
   "cell_type": "markdown",
   "metadata": {},
   "source": [
    "### PUBLIC AND PRIVATE DATA MEMBER\n",
    "• Public variable are those variables that are defined in class and can be\n",
    "accessed from anywhere in Program (within class as well as from outside the\n",
    "class in which it is defined.)\n",
    "\n",
    "• Private variables are those variables that are defined in\n",
    "class with a double score prefix (__). (it can be accessed only\n",
    "from within class)."
   ]
  },
  {
   "cell_type": "code",
   "execution_count": 33,
   "metadata": {},
   "outputs": [
    {
     "name": "stdout",
     "output_type": "stream",
     "text": [
      "FROM CLASS METHOD, var1 = 10\n",
      "FROM CLASS METHOD, var2 = 20\n",
      "FROM MAIN MODULE, Var1 = 10\n"
     ]
    },
    {
     "ename": "AttributeError",
     "evalue": "'ABC' object has no attribute '__var2'",
     "output_type": "error",
     "traceback": [
      "\u001b[0;31m---------------------------------------------------------------------------\u001b[0m",
      "\u001b[0;31mAttributeError\u001b[0m                            Traceback (most recent call last)",
      "\u001b[0;32m<ipython-input-33-be733033b5d0>\u001b[0m in \u001b[0;36m<module>\u001b[0;34m\u001b[0m\n\u001b[1;32m      9\u001b[0m \u001b[0mobj\u001b[0m\u001b[0;34m.\u001b[0m\u001b[0mdisplay\u001b[0m\u001b[0;34m(\u001b[0m\u001b[0;34m)\u001b[0m\u001b[0;34m\u001b[0m\u001b[0;34m\u001b[0m\u001b[0m\n\u001b[1;32m     10\u001b[0m \u001b[0mprint\u001b[0m\u001b[0;34m(\u001b[0m\u001b[0;34m\"FROM MAIN MODULE, Var1 =\"\u001b[0m\u001b[0;34m,\u001b[0m \u001b[0mobj\u001b[0m\u001b[0;34m.\u001b[0m\u001b[0mvar1\u001b[0m \u001b[0;34m)\u001b[0m\u001b[0;34m\u001b[0m\u001b[0;34m\u001b[0m\u001b[0m\n\u001b[0;32m---> 11\u001b[0;31m \u001b[0mprint\u001b[0m\u001b[0;34m(\u001b[0m\u001b[0;34m\"FROM MAIN MODULE, Var2 =\"\u001b[0m\u001b[0;34m,\u001b[0m \u001b[0mobj\u001b[0m\u001b[0;34m.\u001b[0m\u001b[0m__var2\u001b[0m \u001b[0;34m)\u001b[0m\u001b[0;34m\u001b[0m\u001b[0;34m\u001b[0m\u001b[0m\n\u001b[0m",
      "\u001b[0;31mAttributeError\u001b[0m: 'ABC' object has no attribute '__var2'"
     ]
    }
   ],
   "source": [
    "class ABC():\n",
    "    def __init__(self, var1, var2 ):\n",
    "        self.var1 = var1\n",
    "        self.__var2 = var2\n",
    "    def display(self ):\n",
    "        print(\"FROM CLASS METHOD, var1 =\", self.var1) \n",
    "        print(\"FROM CLASS METHOD, var2 =\", self.__var2) \n",
    "obj = ABC(10,20)\n",
    "obj.display()\n",
    "print(\"FROM MAIN MODULE, Var1 =\", obj.var1 )\n",
    "print(\"FROM MAIN MODULE, Var2 =\", obj.__var2 )"
   ]
  },
  {
   "cell_type": "markdown",
   "metadata": {},
   "source": [
    "### How to access private variable from outside the class"
   ]
  },
  {
   "cell_type": "code",
   "execution_count": 34,
   "metadata": {},
   "outputs": [
    {
     "name": "stdout",
     "output_type": "stream",
     "text": [
      "FROM CLASS METHOD, var1 = 10\n",
      "FROM CLASS METHOD, var2 = 20\n",
      "FROM MAIN MODULE, Var1 = 10\n",
      "FROM MAIN MODULE, Var2 = 20\n"
     ]
    }
   ],
   "source": [
    "class ABC():\n",
    "    def __init__(self, var1, var2 ):\n",
    "        self.var1 = var1\n",
    "        self.__var2 = var2\n",
    "    def display(self ):\n",
    "        print(\"FROM CLASS METHOD, var1 =\", self.var1) \n",
    "        print(\"FROM CLASS METHOD, var2 =\", self.__var2) \n",
    "obj = ABC(10,20)\n",
    "obj.display()\n",
    "print(\"FROM MAIN MODULE, Var1 =\", obj.var1 )\n",
    "\n",
    "# To access private variable from outside the class\n",
    "print(\"FROM MAIN MODULE, Var2 =\", obj._ABC__var2)"
   ]
  },
  {
   "cell_type": "markdown",
   "metadata": {},
   "source": [
    "### Private Methods"
   ]
  },
  {
   "cell_type": "code",
   "execution_count": 35,
   "metadata": {},
   "outputs": [
    {
     "ename": "AttributeError",
     "evalue": "'ABC' object has no attribute '__display'",
     "output_type": "error",
     "traceback": [
      "\u001b[0;31m---------------------------------------------------------------------------\u001b[0m",
      "\u001b[0;31mAttributeError\u001b[0m                            Traceback (most recent call last)",
      "\u001b[0;32m<ipython-input-35-a66fd0e4bda6>\u001b[0m in \u001b[0;36m<module>\u001b[0;34m\u001b[0m\n\u001b[1;32m      5\u001b[0m         \u001b[0mprint\u001b[0m\u001b[0;34m(\u001b[0m\u001b[0;34m\"FROM CLASS METHOD, var =\"\u001b[0m\u001b[0;34m,\u001b[0m \u001b[0mself\u001b[0m\u001b[0;34m.\u001b[0m\u001b[0m__var\u001b[0m\u001b[0;34m)\u001b[0m\u001b[0;34m\u001b[0m\u001b[0;34m\u001b[0m\u001b[0m\n\u001b[1;32m      6\u001b[0m \u001b[0mobj\u001b[0m \u001b[0;34m=\u001b[0m \u001b[0mABC\u001b[0m\u001b[0;34m(\u001b[0m\u001b[0;36m10\u001b[0m\u001b[0;34m)\u001b[0m\u001b[0;34m\u001b[0m\u001b[0;34m\u001b[0m\u001b[0m\n\u001b[0;32m----> 7\u001b[0;31m \u001b[0mobj\u001b[0m\u001b[0;34m.\u001b[0m \u001b[0m__display\u001b[0m\u001b[0;34m(\u001b[0m\u001b[0;34m)\u001b[0m\u001b[0;34m\u001b[0m\u001b[0;34m\u001b[0m\u001b[0m\n\u001b[0m",
      "\u001b[0;31mAttributeError\u001b[0m: 'ABC' object has no attribute '__display'"
     ]
    }
   ],
   "source": [
    "class ABC():\n",
    "    def __init__(self, var ):\n",
    "        self.__var = var\n",
    "    def __display(self):\n",
    "        print(\"FROM CLASS METHOD, var =\", self.__var)\n",
    "obj = ABC(10)\n",
    "obj. __display()"
   ]
  },
  {
   "cell_type": "markdown",
   "metadata": {},
   "source": [
    "### How to access private method from outside the class"
   ]
  },
  {
   "cell_type": "code",
   "execution_count": 36,
   "metadata": {},
   "outputs": [
    {
     "name": "stdout",
     "output_type": "stream",
     "text": [
      "FROM CLASS METHOD, var = 10\n"
     ]
    }
   ],
   "source": [
    "class ABC():\n",
    "    def __init__(self, var ):\n",
    "        self.__var = var\n",
    "    def __display(self):\n",
    "        print(\"FROM CLASS METHOD, var =\", self.__var)\n",
    "obj = ABC(10)\n",
    "obj. _ABC__display()"
   ]
  },
  {
   "cell_type": "markdown",
   "metadata": {},
   "source": [
    "### Calling Class Methods from other method"
   ]
  },
  {
   "cell_type": "code",
   "execution_count": 37,
   "metadata": {},
   "outputs": [
    {
     "name": "stdout",
     "output_type": "stream",
     "text": [
      "Var is =  12\n"
     ]
    }
   ],
   "source": [
    "class ABC():\n",
    "    def __init__(self, var ):\n",
    "        self.var = var\n",
    "    def add_2(self):\n",
    "        self.var +=2\n",
    "        self.display()\n",
    "    def display(self):\n",
    "        print(\"Var is = \", self.var)\n",
    "obj = ABC(10)\n",
    "obj.add_2()"
   ]
  },
  {
   "cell_type": "markdown",
   "metadata": {},
   "source": [
    "### HOW A CLASS METHOD CALLS A FUNCTION DEFINED GLOBALLY"
   ]
  },
  {
   "cell_type": "code",
   "execution_count": 38,
   "metadata": {},
   "outputs": [
    {
     "name": "stdout",
     "output_type": "stream",
     "text": [
      "Var is =  10\n",
      "Var is =  100\n"
     ]
    }
   ],
   "source": [
    "def scale_10(x):\n",
    "    return x*10\n",
    "class ABC():\n",
    "    def __init__(self, var ):\n",
    "        self.var = var\n",
    "    def display(self):\n",
    "        print(\"Var is = \", self.var)\n",
    "    def modify(self):\n",
    "        self.var = scale_10(self.var)\n",
    "obj = ABC(10)\n",
    "obj.display()\n",
    "obj.modify()\n",
    "obj.display()"
   ]
  },
  {
   "cell_type": "markdown",
   "metadata": {},
   "source": [
    "### ADD VARIABLES TO A CLASS AT RUN TIME"
   ]
  },
  {
   "cell_type": "code",
   "execution_count": 40,
   "metadata": {},
   "outputs": [
    {
     "name": "stdout",
     "output_type": "stream",
     "text": [
      "Var is =  10\n",
      "New var = 20\n",
      "New var after modification = 30\n"
     ]
    }
   ],
   "source": [
    "class ABC():\n",
    "    def __init__(self, var ):\n",
    "        self.var = var\n",
    "    def display(self):\n",
    "        print(\"Var is = \", self.var)\n",
    "obj = ABC(10)\n",
    "obj.display()\n",
    "obj.new_var = 20\n",
    "\n",
    "#variable added at runtime\n",
    "\n",
    "print(\"New var =\", obj.new_var )\n",
    "obj.new_var = 30\n",
    "\n",
    "#modification new added variable\n",
    "\n",
    "print(\"New var after modification =\", obj.new_var )\n",
    "\n",
    "del obj.new_var\n",
    "#newly created variable is deleted"
   ]
  },
  {
   "cell_type": "markdown",
   "metadata": {},
   "source": [
    "# Class Method\n",
    "• called by a class (not by instance of class)\n",
    "\n",
    "• First argument is cls, not self.\n",
    "\n",
    "• Used for factory methods which instantiate an instance of class.\n",
    "\n",
    "• Class methods are marked with a ‘classmethod’decorator."
   ]
  },
  {
   "cell_type": "code",
   "execution_count": 41,
   "metadata": {},
   "outputs": [
    {
     "name": "stdout",
     "output_type": "stream",
     "text": [
      "AREA = 100\n"
     ]
    }
   ],
   "source": [
    "class Rectangle:\n",
    "    def __init__(self, length, breadth):\n",
    "        self.length = length\n",
    "        self.breadth = breadth\n",
    "    def area(self):\n",
    "        return self.length * self.breadth\n",
    "    @classmethod\n",
    "    def Square(cls, side):\n",
    "        return cls(side,side)\n",
    "S = Rectangle.Square(10)\n",
    "print(\"AREA =\", S.area())"
   ]
  },
  {
   "cell_type": "markdown",
   "metadata": {},
   "source": [
    "# STATIC METHOD\n",
    "• Special case of methods\n",
    "\n",
    "• Any functionality that belongs to a class, but that does not require the object is placed in static method.\n",
    "\n",
    "• Similar to class Methods, only difference is that a static method does not receive any additional arguments.\n",
    "\n",
    "• Doesn’t use self variable\n",
    "\n",
    "• Defined using built in function(decorator) named ‘staticmethod ‘.\n",
    "        \n",
    "• Static method can be called either on class or on an instance."
   ]
  },
  {
   "cell_type": "raw",
   "metadata": {},
   "source": [
    "Syntax:-\n",
    "\n",
    "@staticmethod\n",
    "def name(args...):\n",
    "    statements"
   ]
  },
  {
   "cell_type": "code",
   "execution_count": 46,
   "metadata": {},
   "outputs": [
    {
     "name": "stdout",
     "output_type": "stream",
     "text": [
      "You have allotted the Subjects : ['Big Data', 'ML', 'Deep Learning', 'Tensor Flow']\n"
     ]
    }
   ],
   "source": [
    "class Choice:\n",
    "    def __init__(self, subjects):\n",
    "        self.subjects = subjects\n",
    "    @staticmethod\n",
    "    def validate_subject(subjects):\n",
    "        if \"CSA\" in subjects:\n",
    "            print(\"This option is no longer availbale.\")\n",
    "        else:\n",
    "            return True\n",
    "subjects =[\"Big Data\",\"ML\",\"Deep Learning\",\"Tensor Flow\"]\n",
    "if all(Choice.validate_subject(i) for i in subjects):\n",
    "    ch = Choice(subjects)\n",
    "    print(\"You have allotted the Subjects :\", subjects)"
   ]
  },
  {
   "cell_type": "code",
   "execution_count": null,
   "metadata": {},
   "outputs": [],
   "source": []
  }
 ],
 "metadata": {
  "kernelspec": {
   "display_name": "Python 3",
   "language": "python",
   "name": "python3"
  },
  "language_info": {
   "codemirror_mode": {
    "name": "ipython",
    "version": 3
   },
   "file_extension": ".py",
   "mimetype": "text/x-python",
   "name": "python",
   "nbconvert_exporter": "python",
   "pygments_lexer": "ipython3",
   "version": "3.8.2"
  }
 },
 "nbformat": 4,
 "nbformat_minor": 2
}
