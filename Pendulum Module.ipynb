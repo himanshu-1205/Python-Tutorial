{
 "cells": [
  {
   "cell_type": "code",
   "execution_count": 2,
   "metadata": {},
   "outputs": [
    {
     "name": "stdout",
     "output_type": "stream",
     "text": [
      "Defaulting to user installation because normal site-packages is not writeable\n",
      "Collecting pendulum\n",
      "  Downloading pendulum-2.1.2-cp38-cp38-manylinux1_x86_64.whl (155 kB)\n",
      "\u001b[K     |████████████████████████████████| 155 kB 2.3 MB/s eta 0:00:01\n",
      "\u001b[?25hCollecting pytzdata>=2020.1\n",
      "  Downloading pytzdata-2020.1-py2.py3-none-any.whl (489 kB)\n",
      "\u001b[K     |████████████████████████████████| 489 kB 3.1 MB/s eta 0:00:01\n",
      "\u001b[?25hRequirement already satisfied: python-dateutil<3.0,>=2.6 in /usr/lib/python3/dist-packages (from pendulum) (2.7.3)\n",
      "Installing collected packages: pytzdata, pendulum\n",
      "Successfully installed pendulum-2.1.2 pytzdata-2020.1\n"
     ]
    }
   ],
   "source": [
    "!pip install pendulum"
   ]
  },
  {
   "cell_type": "code",
   "execution_count": 3,
   "metadata": {},
   "outputs": [],
   "source": [
    "import pendulum"
   ]
  },
  {
   "cell_type": "code",
   "execution_count": 2,
   "metadata": {},
   "outputs": [
    {
     "name": "stdout",
     "output_type": "stream",
     "text": [
      "Help on package pendulum:\n",
      "\n",
      "NAME\n",
      "    pendulum\n",
      "\n",
      "PACKAGE CONTENTS\n",
      "    __version__\n",
      "    _extensions (package)\n",
      "    constants\n",
      "    date\n",
      "    datetime\n",
      "    duration\n",
      "    exceptions\n",
      "    formatting (package)\n",
      "    helpers\n",
      "    locales (package)\n",
      "    mixins (package)\n",
      "    parser\n",
      "    parsing (package)\n",
      "    period\n",
      "    time\n",
      "    tz (package)\n",
      "    utils (package)\n",
      "\n",
      "FUNCTIONS\n",
      "    date(year, month, day)\n",
      "        Create a new Date instance.\n",
      "    \n",
      "    datetime(year, month, day, hour=0, minute=0, second=0, microsecond=0, tz=Timezone('UTC'), dst_rule='post')\n",
      "        Creates a new DateTime instance from a specific date and time.\n",
      "    \n",
      "    duration(days=0, seconds=0, microseconds=0, milliseconds=0, minutes=0, hours=0, weeks=0, years=0, months=0)\n",
      "        Create a Duration instance.\n",
      "    \n",
      "    from_format(string, fmt, tz=Timezone('UTC'), locale=None)\n",
      "        Creates a DateTime instance from a specific format.\n",
      "    \n",
      "    from_timestamp(timestamp, tz=Timezone('UTC'))\n",
      "        Create a DateTime instance from a timestamp.\n",
      "    \n",
      "    instance(dt, tz=Timezone('UTC'))\n",
      "        Create a DateTime instance from a datetime one.\n",
      "    \n",
      "    local(year, month, day, hour=0, minute=0, second=0, microsecond=0)\n",
      "        Return a DateTime in the local timezone.\n",
      "    \n",
      "    naive(year, month, day, hour=0, minute=0, second=0, microsecond=0)\n",
      "        Return a naive DateTime.\n",
      "    \n",
      "    now(tz=None)\n",
      "        Get a DateTime instance for the current date and time.\n",
      "    \n",
      "    period(start, end, absolute=False)\n",
      "        Create a Period instance.\n",
      "    \n",
      "    time(hour, minute=0, second=0, microsecond=0)\n",
      "        Create a new Time instance.\n",
      "    \n",
      "    today(tz='local')\n",
      "        Create a DateTime instance for today.\n",
      "    \n",
      "    tomorrow(tz='local')\n",
      "        Create a DateTime instance for today.\n",
      "    \n",
      "    yesterday(tz='local')\n",
      "        Create a DateTime instance for today.\n",
      "\n",
      "DATA\n",
      "    DAYS_PER_WEEK = 7\n",
      "    FRIDAY = 5\n",
      "    HOURS_PER_DAY = 24\n",
      "    MINUTES_PER_HOUR = 60\n",
      "    MONDAY = 1\n",
      "    MONTHS_PER_YEAR = 12\n",
      "    Optional = typing.Optional\n",
      "    POST_TRANSITION = 'post'\n",
      "    PRE_TRANSITION = 'pre'\n",
      "    SATURDAY = 6\n",
      "    SECONDS_PER_DAY = 86400\n",
      "    SECONDS_PER_HOUR = 3600\n",
      "    SECONDS_PER_MINUTE = 60\n",
      "    SUNDAY = 0\n",
      "    THURSDAY = 4\n",
      "    TRANSITION_ERROR = 'error'\n",
      "    TUESDAY = 2\n",
      "    UTC = Timezone('UTC')\n",
      "    Union = typing.Union\n",
      "    WEDNESDAY = 3\n",
      "    WEEKS_PER_YEAR = 52\n",
      "    YEARS_PER_CENTURY = 100\n",
      "    YEARS_PER_DECADE = 10\n",
      "    absolute_import = _Feature((2, 5, 0, 'alpha', 1), (3, 0, 0, 'alpha', 0...\n",
      "    timezones = ('Africa/Abidjan', 'Africa/Accra', 'Africa/Addis_Ababa', '...\n",
      "\n",
      "VERSION\n",
      "    2.1.2\n",
      "\n",
      "FILE\n",
      "    /home/himanshugoyal/.local/lib/python3.8/site-packages/pendulum/__init__.py\n",
      "\n",
      "\n"
     ]
    }
   ],
   "source": [
    "help(pendulum)"
   ]
  },
  {
   "cell_type": "code",
   "execution_count": 7,
   "metadata": {},
   "outputs": [
    {
     "name": "stdout",
     "output_type": "stream",
     "text": [
      "<class 'pendulum.tz.timezone.FixedTimezone'>\n",
      "Current Date Time in UTC = 2020-10-07 06:41:16.317574+00:00\n",
      "Current Date Time in PST = 2020-10-06 23:41:16.317964-07:00\n",
      "Current Date Time in IST = 2020-10-07 12:11:16.318556+05:30\n",
      "<class 'datetime.datetime'>\n",
      "<class 'pendulum.datetime.DateTime'>\n",
      "Current Date Time in UTC = 2020-10-07T06:41:16.322915+00:00\n"
     ]
    }
   ],
   "source": [
    "from datetime import datetime\n",
    "import pendulum\n",
    "\n",
    "utc = pendulum.timezone('UTC')\n",
    "pst = pendulum.timezone('America/Los_Angeles')\n",
    "ist = pendulum.timezone('Asia/Calcutta')\n",
    "\n",
    "print(type(utc))\n",
    "print('Current Date Time in UTC =', datetime.now(utc))\n",
    "print('Current Date Time in PST =', datetime.now(pst))\n",
    "print('Current Date Time in IST =', datetime.now(ist))\n",
    "print(type(datetime.now(ist)))\n",
    "\n",
    "#Let’s see how to use pendulum module as a replacement of datetime module. However, if you are already using datetime module then it’s better to not mix them up.\n",
    "\n",
    "utc_time = pendulum.now('UTC')\n",
    "print(type(utc_time))\n",
    "print('Current Date Time in UTC =', utc_time)"
   ]
  },
  {
   "cell_type": "markdown",
   "metadata": {},
   "source": [
    "### Converting Timezones\n"
   ]
  },
  {
   "cell_type": "code",
   "execution_count": 8,
   "metadata": {},
   "outputs": [
    {
     "name": "stdout",
     "output_type": "stream",
     "text": [
      "<class 'pendulum.datetime.DateTime'>\n",
      "Current Date Time in IST = 2020-10-07T12:14:52.066913+05:30\n",
      "Current Date Time in Paris = 2020-10-07T08:44:52.066913+02:00\n"
     ]
    }
   ],
   "source": [
    "utc_time = pendulum.now('UTC')\n",
    "ist_time = utc_time.in_timezone('Asia/Calcutta')\n",
    "print(type(ist_time))\n",
    "print('Current Date Time in IST =', ist_time)\n",
    "\n",
    "tz = pendulum.timezone('Europe/Paris')\n",
    "paris_time = tz.convert(ist_time)\n",
    "print('Current Date Time in Paris =', paris_time)"
   ]
  },
  {
   "cell_type": "markdown",
   "metadata": {},
   "source": [
    "### Date Time Manipulations\n",
    "    We can use add() and subtract() functions for date time manipulations."
   ]
  },
  {
   "cell_type": "code",
   "execution_count": 9,
   "metadata": {},
   "outputs": [
    {
     "name": "stdout",
     "output_type": "stream",
     "text": [
      "Updated UTC Time 2020-10-07T06:44:52.066913+00:00\n"
     ]
    }
   ],
   "source": [
    "utc_time.add(years=1)\n",
    "utc_time.subtract(months=2)\n",
    "print('Updated UTC Time', utc_time)"
   ]
  },
  {
   "cell_type": "markdown",
   "metadata": {},
   "source": [
    "### Date Time Formatting\n",
    "    There are some useful methods to convert date time to standard formatted string. Pendulum module also has strftime() function where we can specify our own format."
   ]
  },
  {
   "cell_type": "code",
   "execution_count": 12,
   "metadata": {},
   "outputs": [
    {
     "name": "stdout",
     "output_type": "stream",
     "text": [
      "2020-10-07T06:44:52.066913Z\n",
      "Oct 07, 2020\n",
      "2020-10-07T06:44:52+00:00\n",
      "2020-10-07\n",
      "2020-10-07 06:44:52 UTC+0000\n"
     ]
    }
   ],
   "source": [
    "print(utc_time.to_iso8601_string())\n",
    "print(utc_time.to_formatted_date_string())\n",
    "print(utc_time.to_w3c_string())\n",
    "print(utc_time.to_date_string())\n",
    "\n",
    "# supports strftime() too\n",
    "print(utc_time.strftime('%Y-%m-%d %H:%M:%S %Z%z'))"
   ]
  },
  {
   "cell_type": "markdown",
   "metadata": {},
   "source": [
    "### Parse String to Date Time\n",
    "    We can use parse() function to parse a string having commonly used formats to datetime object. If you want to specify format string, then use from_format() function."
   ]
  },
  {
   "cell_type": "code",
   "execution_count": 13,
   "metadata": {},
   "outputs": [
    {
     "name": "stdout",
     "output_type": "stream",
     "text": [
      "2018-05-21T22:00:00+00:00\n",
      "2018-05-21T22:00:00+02:00\n",
      "2018-05-21T00:00:00+00:00\n"
     ]
    }
   ],
   "source": [
    "dt = pendulum.parse('2018-05-21T22:00:00')\n",
    "print(dt)\n",
    "\n",
    "dt = pendulum.parse('2018-05-21T22:00:00', tz='Europe/Paris')\n",
    "print(dt)\n",
    "\n",
    "# parsing using specified format string\n",
    "dt = pendulum.from_format('2018/05/21', 'YYYY/MM/DD')\n",
    "print(dt)"
   ]
  },
  {
   "cell_type": "markdown",
   "metadata": {},
   "source": [
    "### Duration – timedelta replacement"
   ]
  },
  {
   "cell_type": "code",
   "execution_count": 14,
   "metadata": {},
   "outputs": [
    {
     "name": "stdout",
     "output_type": "stream",
     "text": [
      "2 years 1 day 10 hours\n",
      "time_delta years = 2\n",
      "time_delta in seconds = 63194400\n",
      "time_delta in words = 2 years 1 day 10 hours\n",
      "future date = 2022-10-08T22:25:51.367073+05:30\n"
     ]
    }
   ],
   "source": [
    "time_delta = pendulum.duration(days=1, hours=10, years=2)\n",
    "print(time_delta)\n",
    "print('time_delta years =', time_delta.years)\n",
    "\n",
    "print('time_delta in seconds =', time_delta.in_seconds())\n",
    "print('time_delta in words =', time_delta.in_words())\n",
    "\n",
    "print('future date =', pendulum.now() + time_delta)"
   ]
  },
  {
   "cell_type": "markdown",
   "metadata": {},
   "source": [
    "### Period of Time"
   ]
  },
  {
   "cell_type": "code",
   "execution_count": 15,
   "metadata": {},
   "outputs": [
    {
     "name": "stdout",
     "output_type": "stream",
     "text": [
      "period in words = 4 days\n",
      "2020-10-07T12:28:54.376095+05:30\n",
      "2020-10-08T12:28:54.376095+05:30\n",
      "2020-10-09T12:28:54.376095+05:30\n",
      "2020-10-10T12:28:54.376095+05:30\n",
      "2020-10-11T12:28:54.376095+05:30\n"
     ]
    }
   ],
   "source": [
    "\n",
    "current_date = pendulum.now()\n",
    "future_date = current_date.add(days=4)\n",
    "\n",
    "period_time = future_date - current_date\n",
    "\n",
    "print('period in words =', period_time.in_words())\n",
    "\n",
    "# period is iterable with days\n",
    "for dt in period_time:\n",
    "    print(dt)\n"
   ]
  },
  {
   "cell_type": "code",
   "execution_count": 17,
   "metadata": {},
   "outputs": [
    {
     "data": {
      "text/plain": [
       "'UTC'"
      ]
     },
     "execution_count": 17,
     "metadata": {},
     "output_type": "execute_result"
    }
   ],
   "source": [
    "import pendulum\n",
    "\n",
    "dt = pendulum.datetime(2015, 2, 5)\n",
    "isinstance(dt, datetime)\n",
    "dt.timezone.name"
   ]
  },
  {
   "cell_type": "code",
   "execution_count": null,
   "metadata": {},
   "outputs": [],
   "source": []
  }
 ],
 "metadata": {
  "kernelspec": {
   "display_name": "Python 3",
   "language": "python",
   "name": "python3"
  },
  "language_info": {
   "codemirror_mode": {
    "name": "ipython",
    "version": 3
   },
   "file_extension": ".py",
   "mimetype": "text/x-python",
   "name": "python",
   "nbconvert_exporter": "python",
   "pygments_lexer": "ipython3",
   "version": "3.8.2"
  }
 },
 "nbformat": 4,
 "nbformat_minor": 4
}
