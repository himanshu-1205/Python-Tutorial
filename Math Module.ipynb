{
 "cells": [
  {
   "cell_type": "markdown",
   "metadata": {},
   "source": [
    "# Math Module"
   ]
  },
  {
   "cell_type": "code",
   "execution_count": 1,
   "metadata": {},
   "outputs": [
    {
     "name": "stdout",
     "output_type": "stream",
     "text": [
      "Help on built-in module math:\n",
      "\n",
      "NAME\n",
      "    math\n",
      "\n",
      "DESCRIPTION\n",
      "    This module provides access to the mathematical functions\n",
      "    defined by the C standard.\n",
      "\n",
      "FUNCTIONS\n",
      "    acos(x, /)\n",
      "        Return the arc cosine (measured in radians) of x.\n",
      "    \n",
      "    acosh(x, /)\n",
      "        Return the inverse hyperbolic cosine of x.\n",
      "    \n",
      "    asin(x, /)\n",
      "        Return the arc sine (measured in radians) of x.\n",
      "    \n",
      "    asinh(x, /)\n",
      "        Return the inverse hyperbolic sine of x.\n",
      "    \n",
      "    atan(x, /)\n",
      "        Return the arc tangent (measured in radians) of x.\n",
      "    \n",
      "    atan2(y, x, /)\n",
      "        Return the arc tangent (measured in radians) of y/x.\n",
      "        \n",
      "        Unlike atan(y/x), the signs of both x and y are considered.\n",
      "    \n",
      "    atanh(x, /)\n",
      "        Return the inverse hyperbolic tangent of x.\n",
      "    \n",
      "    ceil(x, /)\n",
      "        Return the ceiling of x as an Integral.\n",
      "        \n",
      "        This is the smallest integer >= x.\n",
      "    \n",
      "    comb(n, k, /)\n",
      "        Number of ways to choose k items from n items without repetition and without order.\n",
      "        \n",
      "        Evaluates to n! / (k! * (n - k)!) when k <= n and evaluates\n",
      "        to zero when k > n.\n",
      "        \n",
      "        Also called the binomial coefficient because it is equivalent\n",
      "        to the coefficient of k-th term in polynomial expansion of the\n",
      "        expression (1 + x)**n.\n",
      "        \n",
      "        Raises TypeError if either of the arguments are not integers.\n",
      "        Raises ValueError if either of the arguments are negative.\n",
      "    \n",
      "    copysign(x, y, /)\n",
      "        Return a float with the magnitude (absolute value) of x but the sign of y.\n",
      "        \n",
      "        On platforms that support signed zeros, copysign(1.0, -0.0)\n",
      "        returns -1.0.\n",
      "    \n",
      "    cos(x, /)\n",
      "        Return the cosine of x (measured in radians).\n",
      "    \n",
      "    cosh(x, /)\n",
      "        Return the hyperbolic cosine of x.\n",
      "    \n",
      "    degrees(x, /)\n",
      "        Convert angle x from radians to degrees.\n",
      "    \n",
      "    dist(p, q, /)\n",
      "        Return the Euclidean distance between two points p and q.\n",
      "        \n",
      "        The points should be specified as sequences (or iterables) of\n",
      "        coordinates.  Both inputs must have the same dimension.\n",
      "        \n",
      "        Roughly equivalent to:\n",
      "            sqrt(sum((px - qx) ** 2.0 for px, qx in zip(p, q)))\n",
      "    \n",
      "    erf(x, /)\n",
      "        Error function at x.\n",
      "    \n",
      "    erfc(x, /)\n",
      "        Complementary error function at x.\n",
      "    \n",
      "    exp(x, /)\n",
      "        Return e raised to the power of x.\n",
      "    \n",
      "    expm1(x, /)\n",
      "        Return exp(x)-1.\n",
      "        \n",
      "        This function avoids the loss of precision involved in the direct evaluation of exp(x)-1 for small x.\n",
      "    \n",
      "    fabs(x, /)\n",
      "        Return the absolute value of the float x.\n",
      "    \n",
      "    factorial(x, /)\n",
      "        Find x!.\n",
      "        \n",
      "        Raise a ValueError if x is negative or non-integral.\n",
      "    \n",
      "    floor(x, /)\n",
      "        Return the floor of x as an Integral.\n",
      "        \n",
      "        This is the largest integer <= x.\n",
      "    \n",
      "    fmod(x, y, /)\n",
      "        Return fmod(x, y), according to platform C.\n",
      "        \n",
      "        x % y may differ.\n",
      "    \n",
      "    frexp(x, /)\n",
      "        Return the mantissa and exponent of x, as pair (m, e).\n",
      "        \n",
      "        m is a float and e is an int, such that x = m * 2.**e.\n",
      "        If x is 0, m and e are both 0.  Else 0.5 <= abs(m) < 1.0.\n",
      "    \n",
      "    fsum(seq, /)\n",
      "        Return an accurate floating point sum of values in the iterable seq.\n",
      "        \n",
      "        Assumes IEEE-754 floating point arithmetic.\n",
      "    \n",
      "    gamma(x, /)\n",
      "        Gamma function at x.\n",
      "    \n",
      "    gcd(x, y, /)\n",
      "        greatest common divisor of x and y\n",
      "    \n",
      "    hypot(...)\n",
      "        hypot(*coordinates) -> value\n",
      "        \n",
      "        Multidimensional Euclidean distance from the origin to a point.\n",
      "        \n",
      "        Roughly equivalent to:\n",
      "            sqrt(sum(x**2 for x in coordinates))\n",
      "        \n",
      "        For a two dimensional point (x, y), gives the hypotenuse\n",
      "        using the Pythagorean theorem:  sqrt(x*x + y*y).\n",
      "        \n",
      "        For example, the hypotenuse of a 3/4/5 right triangle is:\n",
      "        \n",
      "            >>> hypot(3.0, 4.0)\n",
      "            5.0\n",
      "    \n",
      "    isclose(a, b, *, rel_tol=1e-09, abs_tol=0.0)\n",
      "        Determine whether two floating point numbers are close in value.\n",
      "        \n",
      "          rel_tol\n",
      "            maximum difference for being considered \"close\", relative to the\n",
      "            magnitude of the input values\n",
      "          abs_tol\n",
      "            maximum difference for being considered \"close\", regardless of the\n",
      "            magnitude of the input values\n",
      "        \n",
      "        Return True if a is close in value to b, and False otherwise.\n",
      "        \n",
      "        For the values to be considered close, the difference between them\n",
      "        must be smaller than at least one of the tolerances.\n",
      "        \n",
      "        -inf, inf and NaN behave similarly to the IEEE 754 Standard.  That\n",
      "        is, NaN is not close to anything, even itself.  inf and -inf are\n",
      "        only close to themselves.\n",
      "    \n",
      "    isfinite(x, /)\n",
      "        Return True if x is neither an infinity nor a NaN, and False otherwise.\n",
      "    \n",
      "    isinf(x, /)\n",
      "        Return True if x is a positive or negative infinity, and False otherwise.\n",
      "    \n",
      "    isnan(x, /)\n",
      "        Return True if x is a NaN (not a number), and False otherwise.\n",
      "    \n",
      "    isqrt(n, /)\n",
      "        Return the integer part of the square root of the input.\n",
      "    \n",
      "    ldexp(x, i, /)\n",
      "        Return x * (2**i).\n",
      "        \n",
      "        This is essentially the inverse of frexp().\n",
      "    \n",
      "    lgamma(x, /)\n",
      "        Natural logarithm of absolute value of Gamma function at x.\n",
      "    \n",
      "    log(...)\n",
      "        log(x, [base=math.e])\n",
      "        Return the logarithm of x to the given base.\n",
      "        \n",
      "        If the base not specified, returns the natural logarithm (base e) of x.\n",
      "    \n",
      "    log10(x, /)\n",
      "        Return the base 10 logarithm of x.\n",
      "    \n",
      "    log1p(x, /)\n",
      "        Return the natural logarithm of 1+x (base e).\n",
      "        \n",
      "        The result is computed in a way which is accurate for x near zero.\n",
      "    \n",
      "    log2(x, /)\n",
      "        Return the base 2 logarithm of x.\n",
      "    \n",
      "    modf(x, /)\n",
      "        Return the fractional and integer parts of x.\n",
      "        \n",
      "        Both results carry the sign of x and are floats.\n",
      "    \n",
      "    perm(n, k=None, /)\n",
      "        Number of ways to choose k items from n items without repetition and with order.\n",
      "        \n",
      "        Evaluates to n! / (n - k)! when k <= n and evaluates\n",
      "        to zero when k > n.\n",
      "        \n",
      "        If k is not specified or is None, then k defaults to n\n",
      "        and the function returns n!.\n",
      "        \n",
      "        Raises TypeError if either of the arguments are not integers.\n",
      "        Raises ValueError if either of the arguments are negative.\n",
      "    \n",
      "    pow(x, y, /)\n",
      "        Return x**y (x to the power of y).\n",
      "    \n",
      "    prod(iterable, /, *, start=1)\n",
      "        Calculate the product of all the elements in the input iterable.\n",
      "        \n",
      "        The default start value for the product is 1.\n",
      "        \n",
      "        When the iterable is empty, return the start value.  This function is\n",
      "        intended specifically for use with numeric values and may reject\n",
      "        non-numeric types.\n",
      "    \n",
      "    radians(x, /)\n",
      "        Convert angle x from degrees to radians.\n",
      "    \n",
      "    remainder(x, y, /)\n",
      "        Difference between x and the closest integer multiple of y.\n",
      "        \n",
      "        Return x - n*y where n*y is the closest integer multiple of y.\n",
      "        In the case where x is exactly halfway between two multiples of\n",
      "        y, the nearest even value of n is used. The result is always exact.\n",
      "    \n",
      "    sin(x, /)\n",
      "        Return the sine of x (measured in radians).\n",
      "    \n",
      "    sinh(x, /)\n",
      "        Return the hyperbolic sine of x.\n",
      "    \n",
      "    sqrt(x, /)\n",
      "        Return the square root of x.\n",
      "    \n",
      "    tan(x, /)\n",
      "        Return the tangent of x (measured in radians).\n",
      "    \n",
      "    tanh(x, /)\n",
      "        Return the hyperbolic tangent of x.\n",
      "    \n",
      "    trunc(x, /)\n",
      "        Truncates the Real x to the nearest Integral toward 0.\n",
      "        \n",
      "        Uses the __trunc__ magic method.\n",
      "\n",
      "DATA\n",
      "    e = 2.718281828459045\n",
      "    inf = inf\n",
      "    nan = nan\n",
      "    pi = 3.141592653589793\n",
      "    tau = 6.283185307179586\n",
      "\n",
      "FILE\n",
      "    (built-in)\n",
      "\n",
      "\n"
     ]
    }
   ],
   "source": [
    "import math\n",
    "help(math)"
   ]
  },
  {
   "cell_type": "markdown",
   "metadata": {},
   "source": [
    "### acos(x, /)\n",
    "    Return the arc cosine (measured in radians) of x."
   ]
  },
  {
   "cell_type": "code",
   "execution_count": 5,
   "metadata": {},
   "outputs": [
    {
     "name": "stdout",
     "output_type": "stream",
     "text": [
      "0.9884320889261531\n",
      "2.15316056466364\n",
      "1.5707963267948966\n",
      "0.0\n",
      "3.141592653589793\n"
     ]
    }
   ],
   "source": [
    "import math\n",
    "\n",
    "# Return the arc cosine of numbers\n",
    "print(math.acos(0.55))\n",
    "print(math.acos(-0.55))\n",
    "print(math.acos(0))\n",
    "print(math.acos(1))\n",
    "print(math.acos(-1))"
   ]
  },
  {
   "cell_type": "markdown",
   "metadata": {},
   "source": [
    "### acosh(x, /)\n",
    "        Return the inverse hyperbolic cosine of x."
   ]
  },
  {
   "cell_type": "code",
   "execution_count": 6,
   "metadata": {},
   "outputs": [
    {
     "name": "stdout",
     "output_type": "stream",
     "text": [
      "2.6339157938496336\n",
      "4.718419142372879\n",
      "1.5447131178707394\n",
      "0.0\n"
     ]
    }
   ],
   "source": [
    "import math\n",
    "\n",
    "# Return the inverse hyperbolic cosine of different numbers\n",
    "print (math.acosh(7))\n",
    "print (math.acosh(56))\n",
    "print (math.acosh(2.45))\n",
    "print (math.acosh(1))"
   ]
  },
  {
   "cell_type": "markdown",
   "metadata": {},
   "source": [
    "### asin(x, /)\n",
    "    Return the arc sine (measured in radians) of x."
   ]
  },
  {
   "cell_type": "code",
   "execution_count": 7,
   "metadata": {},
   "outputs": [
    {
     "name": "stdout",
     "output_type": "stream",
     "text": [
      "0.5823642378687435\n",
      "-0.5823642378687435\n",
      "0.0\n",
      "1.5707963267948966\n",
      "-1.5707963267948966\n"
     ]
    }
   ],
   "source": [
    "import math\n",
    "\n",
    "# Return the arc sine of numbers\n",
    "print(math.asin(0.55))\n",
    "print(math.asin(-0.55))\n",
    "print(math.asin(0))\n",
    "print(math.asin(1))\n",
    "print(math.asin(-1))"
   ]
  },
  {
   "cell_type": "markdown",
   "metadata": {},
   "source": [
    "### asinh(x, /)\n",
    "    Return the inverse hyperbolic sine of x."
   ]
  },
  {
   "cell_type": "code",
   "execution_count": 8,
   "metadata": {},
   "outputs": [
    {
     "name": "stdout",
     "output_type": "stream",
     "text": [
      "2.644120761058629\n",
      "4.718578581151767\n",
      "1.6284998192841909\n",
      "0.881373587019543\n"
     ]
    }
   ],
   "source": [
    "# Return the inverse hyperbolic sine of numbers\n",
    "print(math.asinh(7))\n",
    "print(math.asinh(56))\n",
    "print(math.asinh(2.45))\n",
    "print(math.asinh(1))"
   ]
  },
  {
   "cell_type": "markdown",
   "metadata": {},
   "source": [
    "### atan(x, /)\n",
    "    Return the arc tangent (measured in radians) of x."
   ]
  },
  {
   "cell_type": "code",
   "execution_count": 9,
   "metadata": {},
   "outputs": [
    {
     "name": "stdout",
     "output_type": "stream",
     "text": [
      "0.37185607384858127\n",
      "1.5558720618048116\n",
      "-1.5232132235179132\n"
     ]
    }
   ],
   "source": [
    "#fReturn the arc tangent of different numbers\n",
    "print (math.atan(0.39))\n",
    "print (math.atan(67))\n",
    "print (math.atan(-21))"
   ]
  },
  {
   "cell_type": "markdown",
   "metadata": {},
   "source": [
    "### atan2(y, x, /)\n",
    "    Return the arc tangent (measured in radians) of y/x.\n",
    "\n",
    "    Unlike atan(y/x), the signs of both x and y are considered."
   ]
  },
  {
   "cell_type": "code",
   "execution_count": 10,
   "metadata": {},
   "outputs": [
    {
     "name": "stdout",
     "output_type": "stream",
     "text": [
      "1.0121970114513341\n",
      "1.1071487177940904\n",
      "1.7738415440483617\n"
     ]
    }
   ],
   "source": [
    "# Return the arc tangent of y/x in radians\n",
    "print(math.atan2(8, 5))\n",
    "print(math.atan2(20, 10))\n",
    "print(math.atan2(34, -7))"
   ]
  },
  {
   "cell_type": "markdown",
   "metadata": {},
   "source": [
    "### atanh(x, /)\n",
    "    Return the inverse hyperbolic tangent of x."
   ]
  },
  {
   "cell_type": "code",
   "execution_count": 11,
   "metadata": {},
   "outputs": [
    {
     "name": "stdout",
     "output_type": "stream",
     "text": [
      "0.6776660677579618\n",
      "-0.12058102840844404\n"
     ]
    }
   ],
   "source": [
    "#print the hyperbolic arctangent of different numbers\n",
    "print(math.atanh(0.59))\n",
    "print(math.atanh(-0.12))"
   ]
  },
  {
   "cell_type": "markdown",
   "metadata": {},
   "source": [
    "### ceil(x, /)\n",
    "    Return the ceiling of x as an Integral.\n",
    "\n",
    "    This is the smallest integer >= x."
   ]
  },
  {
   "cell_type": "code",
   "execution_count": 12,
   "metadata": {},
   "outputs": [
    {
     "name": "stdout",
     "output_type": "stream",
     "text": [
      "2\n",
      "6\n",
      "-5\n",
      "23\n",
      "10\n"
     ]
    }
   ],
   "source": [
    "# Round a number upward to its nearest integer\n",
    "print(math.ceil(1.4))\n",
    "print(math.ceil(5.3))\n",
    "print(math.ceil(-5.3))\n",
    "print(math.ceil(22.6))\n",
    "print(math.ceil(10.0))"
   ]
  },
  {
   "cell_type": "markdown",
   "metadata": {},
   "source": [
    "### comb(n, k, /)\n",
    "    Number of ways to choose k items from n items without repetition and without order.\n",
    "\n",
    "    Evaluates to n! / (k! * (n - k)!) when k <= n and evaluates\n",
    "    to zero when k > n.\n",
    "\n",
    "    Also called the binomial coefficient because it is equivalent\n",
    "    to the coefficient of k-th term in polynomial expansion of the\n",
    "    expression (1 + x)**n.\n",
    "\n",
    "    Raises TypeError if either of the arguments are not integers.\n",
    "    Raises ValueError if either of the arguments are negative."
   ]
  },
  {
   "cell_type": "code",
   "execution_count": 13,
   "metadata": {},
   "outputs": [
    {
     "name": "stdout",
     "output_type": "stream",
     "text": [
      "21\n"
     ]
    }
   ],
   "source": [
    "# Initialize the number of items to choose from\n",
    "n = 7\n",
    "\n",
    "# Initialize the number of possibilities to choose\n",
    "k = 5\n",
    "\n",
    "# Print total number of possible combinations\n",
    "print (math.comb(n, k))"
   ]
  },
  {
   "cell_type": "markdown",
   "metadata": {},
   "source": [
    "### copysign(x, y, /)\n",
    "    Return a float with the magnitude (absolute value) of x but the sign of y.\n",
    "\n",
    "    On platforms that support signed zeros, copysign(1.0, -0.0)\n",
    "    returns -1.0."
   ]
  },
  {
   "cell_type": "code",
   "execution_count": 14,
   "metadata": {},
   "outputs": [
    {
     "name": "stdout",
     "output_type": "stream",
     "text": [
      "-4.0\n",
      "8.0\n",
      "-43.0\n"
     ]
    }
   ],
   "source": [
    "#Return the value of the first parameter and the sign of the second parameter\n",
    "print(math.copysign(4, -1))\n",
    "print(math.copysign(-8, 97.21))\n",
    "print(math.copysign(-43, -76))"
   ]
  },
  {
   "cell_type": "markdown",
   "metadata": {},
   "source": [
    "### cos(x, /)\n",
    "    Return the cosine of x (measured in radians)."
   ]
  },
  {
   "cell_type": "code",
   "execution_count": 15,
   "metadata": {},
   "outputs": [
    {
     "name": "stdout",
     "output_type": "stream",
     "text": [
      "1.0\n",
      "0.3342377271245026\n",
      "-0.8390715290764524\n",
      "-1.0\n"
     ]
    }
   ],
   "source": [
    "# Return the cosine of different numbers\n",
    "print (math.cos(0.00))\n",
    "print (math.cos(-1.23))\n",
    "print (math.cos(10))\n",
    "print (math.cos(3.14159265359))"
   ]
  },
  {
   "cell_type": "markdown",
   "metadata": {},
   "source": [
    "### cosh(x, /)\n",
    "    Return the hyperbolic cosine of x."
   ]
  },
  {
   "cell_type": "code",
   "execution_count": 16,
   "metadata": {},
   "outputs": [
    {
     "name": "stdout",
     "output_type": "stream",
     "text": [
      "1.5430806348152437\n",
      "3665.986837772461\n",
      "1.0\n",
      "2.3954685410471868\n"
     ]
    }
   ],
   "source": [
    "# Return the hyperbolic cosine of different numbers\n",
    "print (math.cosh(1))\n",
    "print (math.cosh(8.90))\n",
    "print (math.cosh(0))\n",
    "print (math.cosh(1.52))"
   ]
  },
  {
   "cell_type": "markdown",
   "metadata": {},
   "source": [
    "### degrees(x, /)\n",
    "    Convert angle x from radians to degrees."
   ]
  },
  {
   "cell_type": "code",
   "execution_count": 17,
   "metadata": {},
   "outputs": [
    {
     "name": "stdout",
     "output_type": "stream",
     "text": [
      "509.9324376664327\n",
      "-1145.9155902616465\n",
      "57.29577951308232\n",
      "5156.620156177409\n"
     ]
    }
   ],
   "source": [
    "# Convert angles from radians to degrees:\n",
    "print (math.degrees(8.90))\n",
    "print (math.degrees(-20))\n",
    "print (math.degrees(1))\n",
    "print (math.degrees(90))"
   ]
  },
  {
   "cell_type": "markdown",
   "metadata": {},
   "source": [
    "### dist(p, q, /)\n",
    "    Return the Euclidean distance between two points p and q.\n",
    "\n",
    "    The points should be specified as sequences (or iterables) of\n",
    "    coordinates.  Both inputs must have the same dimension.\n",
    "\n",
    "    Roughly equivalent to:\n",
    "        sqrt(sum((px - qx) ** 2.0 for px, qx in zip(p, q)))"
   ]
  },
  {
   "cell_type": "code",
   "execution_count": 18,
   "metadata": {},
   "outputs": [
    {
     "name": "stdout",
     "output_type": "stream",
     "text": [
      "2.0\n"
     ]
    }
   ],
   "source": [
    "# The first point of Euclidean space\n",
    "p = [3]\n",
    "\n",
    "# The second point of Euclidean space\n",
    "q = [1]\n",
    "\n",
    "## Calculate the distance between point p and q\n",
    "print (math.dist(p, q))"
   ]
  },
  {
   "cell_type": "markdown",
   "metadata": {},
   "source": [
    "### erf(x, /)\n",
    "    Error function at x.\n",
    "    Error functions usually occur in probability, statistics and partial differential equation describing diffusion.\n",
    "    \n",
    "    The math.erf() method accepts a value range between [-x, x], and returns the error function in between [-1,1].\n",
    "\n",
    "    Note: erf(-x)==-erf(x), error function of a negative number is negative.\n",
    "\n"
   ]
  },
  {
   "cell_type": "code",
   "execution_count": 19,
   "metadata": {},
   "outputs": [
    {
     "name": "stdout",
     "output_type": "stream",
     "text": [
      "0.6566277023003051\n",
      "0.9419137152583653\n",
      "-1.0\n"
     ]
    }
   ],
   "source": [
    "# Print the error function of different numbers\n",
    "print (math.erf(0.67))\n",
    "print (math.erf(1.34))\n",
    "print (math.erf(-6))"
   ]
  },
  {
   "cell_type": "markdown",
   "metadata": {},
   "source": [
    "### erfc(x, /)\n",
    "    Complementary error function at x.\n",
    "    Error functions usually occur in probability, statistics and partial differential equation describing diffusion.\n",
    "\n",
    "    The math.erf() method accepts a value range between [-inf, inf] and returns error function in between [0, 2].\n",
    "\n",
    "    The relation between complementary error function and error function can be defined as, erfc(x) = 1- erf(x).\n",
    "\n"
   ]
  },
  {
   "cell_type": "code",
   "execution_count": 20,
   "metadata": {},
   "outputs": [
    {
     "name": "stdout",
     "output_type": "stream",
     "text": [
      "0.3433722976996949\n",
      "0.058086284741634665\n",
      "2.0\n"
     ]
    }
   ],
   "source": [
    "import math\n",
    "\n",
    "# Print the complementary error function of different numbers\n",
    "print (math.erfc(0.67))\n",
    "print (math.erfc(1.34))\n",
    "print (math.erfc(-6))"
   ]
  },
  {
   "cell_type": "markdown",
   "metadata": {},
   "source": [
    "### exp(x, /)\n",
    "    Return e raised to the power of x."
   ]
  },
  {
   "cell_type": "code",
   "execution_count": 21,
   "metadata": {},
   "outputs": [
    {
     "name": "stdout",
     "output_type": "stream",
     "text": [
      "1.6948892444103338e+28\n",
      "0.0010179138409954387\n"
     ]
    }
   ],
   "source": [
    "#find the exponential of the specified value\n",
    "print(math.exp(65))\n",
    "print(math.exp(-6.89))"
   ]
  },
  {
   "cell_type": "markdown",
   "metadata": {},
   "source": [
    "### expm1(x, /)\n",
    "    Return exp(x)-1.\n",
    "\n",
    "    This function avoids the loss of precision involved in the direct evaluation of exp(x)-1 for small x."
   ]
  },
  {
   "cell_type": "code",
   "execution_count": 22,
   "metadata": {},
   "outputs": [
    {
     "name": "stdout",
     "output_type": "stream",
     "text": [
      "1.6948892444103338e+28\n",
      "-0.9999813562576685\n"
     ]
    }
   ],
   "source": [
    "print(math.expm1(65))\n",
    "print(math.expm1(-10.89))"
   ]
  },
  {
   "cell_type": "markdown",
   "metadata": {},
   "source": [
    "### fabs(x, /)\n",
    "    Return the absolute value of the float x."
   ]
  },
  {
   "cell_type": "code",
   "execution_count": 23,
   "metadata": {},
   "outputs": [
    {
     "name": "stdout",
     "output_type": "stream",
     "text": [
      "66.43\n",
      "7.0\n"
     ]
    }
   ],
   "source": [
    "print(math.fabs(-66.43))\n",
    "print(math.fabs(-7))"
   ]
  },
  {
   "cell_type": "markdown",
   "metadata": {},
   "source": [
    "### factorial(x, /)\n",
    "    Find x!.\n",
    "\n",
    "    Raise a ValueError if x is negative or non-integral."
   ]
  },
  {
   "cell_type": "code",
   "execution_count": 26,
   "metadata": {},
   "outputs": [
    {
     "name": "stdout",
     "output_type": "stream",
     "text": [
      "362880\n",
      "720\n",
      "1307674368000\n"
     ]
    }
   ],
   "source": [
    "print(math.factorial(9))\n",
    "print(math.factorial(6))\n",
    "print(math.factorial(15))"
   ]
  },
  {
   "cell_type": "markdown",
   "metadata": {},
   "source": [
    "### floor(x, /)\n",
    "    Return the floor of x as an Integral.\n",
    "\n",
    "    This is the largest integer <= x."
   ]
  },
  {
   "cell_type": "code",
   "execution_count": 27,
   "metadata": {},
   "outputs": [
    {
     "name": "stdout",
     "output_type": "stream",
     "text": [
      "0\n",
      "1\n",
      "5\n",
      "-6\n",
      "22\n",
      "10\n"
     ]
    }
   ],
   "source": [
    "print(math.floor(0.6))\n",
    "print(math.floor(1.4))\n",
    "print(math.floor(5.3))\n",
    "print(math.floor(-5.3))\n",
    "print(math.floor(22.6))\n",
    "print(math.floor(10.0))"
   ]
  },
  {
   "cell_type": "markdown",
   "metadata": {},
   "source": [
    "### fmod(x, y, /)\n",
    "    Return fmod(x, y), according to platform C.\n",
    "\n",
    "    x % y may differ."
   ]
  },
  {
   "cell_type": "code",
   "execution_count": 29,
   "metadata": {},
   "outputs": [
    {
     "name": "stdout",
     "output_type": "stream",
     "text": [
      "0.0\n",
      "2.0\n",
      "3.0\n",
      "-1.0\n"
     ]
    },
    {
     "ename": "ValueError",
     "evalue": "math domain error",
     "output_type": "error",
     "traceback": [
      "\u001b[0;31m---------------------------------------------------------------------------\u001b[0m",
      "\u001b[0;31mValueError\u001b[0m                                Traceback (most recent call last)",
      "\u001b[0;32m<ipython-input-29-2f4ca98611a8>\u001b[0m in \u001b[0;36m<module>\u001b[0;34m\u001b[0m\n\u001b[1;32m      3\u001b[0m \u001b[0mprint\u001b[0m\u001b[0;34m(\u001b[0m\u001b[0mmath\u001b[0m\u001b[0;34m.\u001b[0m\u001b[0mfmod\u001b[0m\u001b[0;34m(\u001b[0m\u001b[0;36m15\u001b[0m\u001b[0;34m,\u001b[0m \u001b[0;36m6\u001b[0m\u001b[0;34m)\u001b[0m\u001b[0;34m)\u001b[0m\u001b[0;34m\u001b[0m\u001b[0;34m\u001b[0m\u001b[0m\n\u001b[1;32m      4\u001b[0m \u001b[0mprint\u001b[0m\u001b[0;34m(\u001b[0m\u001b[0mmath\u001b[0m\u001b[0;34m.\u001b[0m\u001b[0mfmod\u001b[0m\u001b[0;34m(\u001b[0m\u001b[0;34m-\u001b[0m\u001b[0;36m10\u001b[0m\u001b[0;34m,\u001b[0m \u001b[0;36m3\u001b[0m\u001b[0;34m)\u001b[0m\u001b[0;34m)\u001b[0m\u001b[0;34m\u001b[0m\u001b[0;34m\u001b[0m\u001b[0m\n\u001b[0;32m----> 5\u001b[0;31m \u001b[0mprint\u001b[0m\u001b[0;34m(\u001b[0m\u001b[0mmath\u001b[0m\u001b[0;34m.\u001b[0m\u001b[0mfmod\u001b[0m\u001b[0;34m(\u001b[0m\u001b[0;36m10\u001b[0m\u001b[0;34m,\u001b[0m \u001b[0;36m0\u001b[0m\u001b[0;34m)\u001b[0m\u001b[0;34m)\u001b[0m\u001b[0;34m\u001b[0m\u001b[0;34m\u001b[0m\u001b[0m\n\u001b[0m",
      "\u001b[0;31mValueError\u001b[0m: math domain error"
     ]
    }
   ],
   "source": [
    "print(math.fmod(20, 4))\n",
    "print(math.fmod(20, 3))\n",
    "print(math.fmod(15, 6))\n",
    "print(math.fmod(-10, 3))\n",
    "print(math.fmod(10, 0))"
   ]
  },
  {
   "cell_type": "markdown",
   "metadata": {},
   "source": [
    "### frexp(x, /)\n",
    "    Return the mantissa and exponent of x, as pair (m, e).\n",
    "\n",
    "    m is a float and e is an int, such that x = m * 2.**e.\n",
    "    If x is 0, m and e are both 0.  Else 0.5 <= abs(m) < 1.0."
   ]
  },
  {
   "cell_type": "code",
   "execution_count": 30,
   "metadata": {},
   "outputs": [
    {
     "name": "stdout",
     "output_type": "stream",
     "text": [
      "(0.5, 3)\n",
      "(0.9875, 3)\n"
     ]
    }
   ],
   "source": [
    "print(math.frexp(4))\n",
    "print(math.frexp(7.9))"
   ]
  },
  {
   "cell_type": "markdown",
   "metadata": {},
   "source": [
    "### fsum(seq, /)\n",
    "    Return an accurate floating point sum of values in the iterable seq.\n",
    "\n",
    "    Assumes IEEE-754 floating point arithmetic."
   ]
  },
  {
   "cell_type": "code",
   "execution_count": 31,
   "metadata": {},
   "outputs": [
    {
     "name": "stdout",
     "output_type": "stream",
     "text": [
      "15.0\n"
     ]
    }
   ],
   "source": [
    "# Add items in a tuple\n",
    "a = (1, 2, 3, 4, 5)\n",
    "\n",
    "# Print the sum of all items\n",
    "print(math.fsum(a))"
   ]
  },
  {
   "cell_type": "markdown",
   "metadata": {},
   "source": [
    "### gamma(x, /)\n",
    "    Gamma function at x."
   ]
  },
  {
   "cell_type": "code",
   "execution_count": 32,
   "metadata": {},
   "outputs": [
    {
     "name": "stdout",
     "output_type": "stream",
     "text": [
      "720.0\n",
      "-0.16406105047761402\n"
     ]
    }
   ],
   "source": [
    "# Return the gamma value of different numbers\n",
    "print (math.gamma(7))\n",
    "print (math.gamma(-4.2))"
   ]
  },
  {
   "cell_type": "markdown",
   "metadata": {},
   "source": [
    "### gcd(x, y, /)\n",
    "    greatest common divisor of x and y"
   ]
  },
  {
   "cell_type": "code",
   "execution_count": 33,
   "metadata": {},
   "outputs": [
    {
     "name": "stdout",
     "output_type": "stream",
     "text": [
      "2\n",
      "6\n",
      "10\n",
      "34\n",
      "0\n"
     ]
    }
   ],
   "source": [
    "#find the highest number that can divide two numbers\n",
    "print (math.gcd(26, 12))\n",
    "print (math.gcd(12, 6))\n",
    "print (math.gcd(10, 0))\n",
    "print (math.gcd(0, 34))\n",
    "print (math.gcd(0, 0))"
   ]
  },
  {
   "cell_type": "markdown",
   "metadata": {},
   "source": [
    "### hypot(...)\n",
    "    hypot(*coordinates) -> value\n",
    "\n",
    "    Multidimensional Euclidean distance from the origin to a point.\n",
    "\n",
    "    Roughly equivalent to:\n",
    "        sqrt(sum(x**2 for x in coordinates))\n",
    "\n",
    "    For a two dimensional point (x, y), gives the hypotenuse\n",
    "    using the Pythagorean theorem:  sqrt(x*x + y*y).\n",
    "\n",
    "    For example, the hypotenuse of a 3/4/5 right triangle is:\n",
    "\n",
    "        >>> hypot(3.0, 4.0)\n",
    "        5.0"
   ]
  },
  {
   "cell_type": "code",
   "execution_count": 35,
   "metadata": {},
   "outputs": [
    {
     "name": "stdout",
     "output_type": "stream",
     "text": [
      "13.0\n"
     ]
    }
   ],
   "source": [
    "#set perpendicular and base\n",
    "parendicular = 12\n",
    "base = 5\n",
    "\n",
    "#print the hypotenuse of a right-angled triangle\n",
    "print (math.hypot(parendicular, base))"
   ]
  },
  {
   "cell_type": "markdown",
   "metadata": {},
   "source": [
    "### isclose(a, b, *, rel_tol=1e-09, abs_tol=0.0)\n",
    "    Determine whether two floating point numbers are close in value.\n",
    "\n",
    "      rel_tol\n",
    "        maximum difference for being considered \"close\", relative to the\n",
    "        magnitude of the input values\n",
    "      abs_tol\n",
    "        maximum difference for being considered \"close\", regardless of the\n",
    "        magnitude of the input values\n",
    "\n",
    "    Return True if a is close in value to b, and False otherwise.\n",
    "\n",
    "    For the values to be considered close, the difference between them\n",
    "    must be smaller than at least one of the tolerances.\n",
    "\n",
    "    -inf, inf and NaN behave similarly to the IEEE 754 Standard.  That\n",
    "    is, NaN is not close to anything, even itself.  inf and -inf are\n",
    "    only close to themselves."
   ]
  },
  {
   "cell_type": "code",
   "execution_count": 36,
   "metadata": {},
   "outputs": [
    {
     "name": "stdout",
     "output_type": "stream",
     "text": [
      "False\n",
      "True\n",
      "True\n"
     ]
    }
   ],
   "source": [
    "#Import math Library\n",
    "import math\n",
    "\n",
    "#compare the closeness of two values\n",
    "print(math.isclose(1.233, 1.4566))\n",
    "print(math.isclose(1.233, 1.233))\n",
    "print(math.isclose(1.233, 1.233000001))"
   ]
  },
  {
   "cell_type": "markdown",
   "metadata": {},
   "source": [
    "### isfinite(x, /)\n",
    "    Return True if x is neither an infinity nor a NaN, and False otherwise."
   ]
  },
  {
   "cell_type": "code",
   "execution_count": 37,
   "metadata": {},
   "outputs": [
    {
     "name": "stdout",
     "output_type": "stream",
     "text": [
      "True\n",
      "True\n",
      "True\n",
      "False\n",
      "False\n",
      "False\n",
      "False\n",
      "False\n"
     ]
    }
   ],
   "source": [
    "# Check whether some values are finite\n",
    "print (math.isfinite (56))\n",
    "print (math.isfinite (-45.34))\n",
    "print (math.isfinite (+45.34))\n",
    "print (math.isfinite (math.inf))\n",
    "print (math.isfinite (float(\"nan\")))\n",
    "print (math.isfinite (float(\"inf\")))\n",
    "print (math.isfinite (float(\"-inf\")))\n",
    "print (math.isfinite (-math.inf))"
   ]
  },
  {
   "cell_type": "markdown",
   "metadata": {},
   "source": [
    "### isinf(x, /)\n",
    "    Return True if x is a positive or negative infinity, and False otherwise.  "
   ]
  },
  {
   "cell_type": "code",
   "execution_count": 38,
   "metadata": {},
   "outputs": [
    {
     "name": "stdout",
     "output_type": "stream",
     "text": [
      "False\n",
      "False\n",
      "False\n",
      "True\n",
      "False\n",
      "True\n",
      "True\n",
      "True\n"
     ]
    }
   ],
   "source": [
    "# Check whether some values are infinite\n",
    "print (math.isinf (56))\n",
    "print (math.isinf (-45.34))\n",
    "print (math.isinf (+45.34))\n",
    "print (math.isinf (math.inf))\n",
    "print (math.isinf (float(\"nan\")))\n",
    "print (math.isinf (float(\"inf\")))\n",
    "print (math.isinf (float(\"-inf\")))\n",
    "print (math.isinf (-math.inf))\n"
   ]
  },
  {
   "cell_type": "markdown",
   "metadata": {},
   "source": [
    "### isnan(x, /)\n",
    "    Return True if x is a NaN (not a number), and False otherwise."
   ]
  },
  {
   "cell_type": "code",
   "execution_count": 39,
   "metadata": {},
   "outputs": [
    {
     "name": "stdout",
     "output_type": "stream",
     "text": [
      "False\n",
      "False\n",
      "False\n",
      "False\n",
      "True\n",
      "False\n",
      "False\n",
      "True\n"
     ]
    }
   ],
   "source": [
    "print (math.isnan (56))\n",
    "print (math.isnan (-45.34))\n",
    "print (math.isnan (+45.34))\n",
    "print (math.isnan (math.inf))\n",
    "print (math.isnan (float(\"nan\")))\n",
    "print (math.isnan (float(\"inf\")))\n",
    "print (math.isnan (float(\"-inf\")))\n",
    "print (math.isnan (math.nan))"
   ]
  },
  {
   "cell_type": "markdown",
   "metadata": {},
   "source": [
    "### isqrt(n, /)\n",
    "    Return the integer part of the square root of the input."
   ]
  },
  {
   "cell_type": "code",
   "execution_count": 40,
   "metadata": {},
   "outputs": [
    {
     "name": "stdout",
     "output_type": "stream",
     "text": [
      "3.1622776601683795\n",
      "3.4641016151377544\n",
      "8.246211251235321\n",
      "10.0\n",
      "3\n",
      "3\n",
      "8\n",
      "10\n"
     ]
    }
   ],
   "source": [
    "# Examples to print the square root of different numbers\n",
    "print (math.sqrt(10))\n",
    "print (math.sqrt (12))\n",
    "print (math.sqrt (68))\n",
    "print (math.sqrt (100))\n",
    "\n",
    "# Round square root numbers downward to the nearest integer\n",
    "print (math.isqrt(10))\n",
    "print (math.isqrt (12))\n",
    "print (math.isqrt (68))\n",
    "print (math.isqrt (100))"
   ]
  },
  {
   "cell_type": "markdown",
   "metadata": {},
   "source": [
    "### ldexp(x, i, /)\n",
    "    Return x * (2**i).\n",
    "\n",
    "    This is essentially the inverse of frexp()."
   ]
  },
  {
   "cell_type": "code",
   "execution_count": 57,
   "metadata": {},
   "outputs": [
    {
     "name": "stdout",
     "output_type": "stream",
     "text": [
      "72.0\n",
      "-20.0\n",
      "14.0\n",
      "-54.40\n"
     ]
    }
   ],
   "source": [
    "import math  \n",
    "  \n",
    "# ldexp() Function on +ve nd -ve Numbers \n",
    "print(math.ldexp(9, 3)) \n",
    "print(math.ldexp(-5, 2)) \n",
    "  \n",
    "# ldexp() Function on fractional Number \n",
    "print(math.ldexp(3.5, 2)) \n",
    "print('%.2f' %math.ldexp(-6.8, 3)) \n"
   ]
  },
  {
   "cell_type": "markdown",
   "metadata": {},
   "source": [
    "### lgamma(x, /)\n",
    "    Natural logarithm of absolute value of Gamma function at x."
   ]
  },
  {
   "cell_type": "code",
   "execution_count": 41,
   "metadata": {},
   "outputs": [
    {
     "name": "stdout",
     "output_type": "stream",
     "text": [
      "6.579251212010102\n",
      "-1.8075166614192908\n"
     ]
    }
   ],
   "source": [
    "# Return the log gamma value of different numbers\n",
    "print (math.lgamma(7))\n",
    "print (math.lgamma(-4.2))"
   ]
  },
  {
   "cell_type": "markdown",
   "metadata": {},
   "source": [
    "### log(...)\n",
    "    log(x, [base=math.e])\n",
    "    Return the logarithm of x to the given base.\n",
    "\n",
    "    If the base not specified, returns the natural logarithm (base e) of x.  "
   ]
  },
  {
   "cell_type": "code",
   "execution_count": 42,
   "metadata": {},
   "outputs": [
    {
     "name": "stdout",
     "output_type": "stream",
     "text": [
      "1.0000066849139877\n",
      "0.6931471805599453\n",
      "0.0\n"
     ]
    }
   ],
   "source": [
    "# Return the natural logarithm of different numbers\n",
    "print(math.log(2.7183))\n",
    "print(math.log(2))\n",
    "print(math.log(1))"
   ]
  },
  {
   "cell_type": "markdown",
   "metadata": {},
   "source": [
    "### log10(x, /)\n",
    "    Return the base 10 logarithm of x."
   ]
  },
  {
   "cell_type": "code",
   "execution_count": 43,
   "metadata": {},
   "outputs": [
    {
     "name": "stdout",
     "output_type": "stream",
     "text": [
      "0.43429738512450866\n",
      "0.3010299956639812\n",
      "0.0\n"
     ]
    }
   ],
   "source": [
    "# Return the base-10 logarithm of different numbers\n",
    "print(math.log10(2.7183))\n",
    "print(math.log10(2))\n",
    "print(math.log10(1))"
   ]
  },
  {
   "cell_type": "markdown",
   "metadata": {},
   "source": [
    "### log1p(x, /)\n",
    "    Return the natural logarithm of 1+x (base e).\n",
    "\n",
    "    The result is computed in a way which is accurate for x near zero."
   ]
  },
  {
   "cell_type": "code",
   "execution_count": 44,
   "metadata": {},
   "outputs": [
    {
     "name": "stdout",
     "output_type": "stream",
     "text": [
      "1.3132665745863341\n",
      "1.0986122886681096\n",
      "0.6931471805599453\n"
     ]
    }
   ],
   "source": [
    "# Return the log(1+number) for different numbers\n",
    "print(math.log1p(2.7183))\n",
    "print(math.log1p(2))\n",
    "print(math.log1p(1))"
   ]
  },
  {
   "cell_type": "markdown",
   "metadata": {},
   "source": [
    "### log2(x, /)\n",
    "    Return the base 2 logarithm of x."
   ]
  },
  {
   "cell_type": "code",
   "execution_count": 45,
   "metadata": {},
   "outputs": [
    {
     "name": "stdout",
     "output_type": "stream",
     "text": [
      "1.4427046851812222\n",
      "1.0\n",
      "0.0\n"
     ]
    }
   ],
   "source": [
    "# Return the base-2 logarithm of different numbers\n",
    "print(math.log2(2.7183))\n",
    "print(math.log2(2))\n",
    "print(math.log2(1))"
   ]
  },
  {
   "cell_type": "markdown",
   "metadata": {},
   "source": [
    "###  modf(x, /)\n",
    "    Return the fractional and integer parts of x.\n",
    "\n",
    "    Both results carry the sign of x and are floats."
   ]
  },
  {
   "cell_type": "code",
   "execution_count": 59,
   "metadata": {},
   "outputs": [
    {
     "name": "stdout",
     "output_type": "stream",
     "text": [
      "math.modf(100.12) :  (0.12000000000000455, 100.0)\n",
      "math.modf(100.72) :  (0.7199999999999989, 100.0)\n",
      "math.modf(119L) :  (0.0, 119.0)\n",
      "math.modf(math.pi) :  (0.14159265358979312, 3.0)\n"
     ]
    }
   ],
   "source": [
    "print(\"math.modf(100.12) : \", math.modf(100.12))\n",
    "print(\"math.modf(100.72) : \", math.modf(100.72))\n",
    "print(\"math.modf(119L) : \", math.modf(119))\n",
    "print(\"math.modf(math.pi) : \", math.modf(math.pi))"
   ]
  },
  {
   "cell_type": "markdown",
   "metadata": {},
   "source": [
    "### perm(n, k=None, /)\n",
    "    Number of ways to choose k items from n items without repetition and with order.\n",
    "\n",
    "    Evaluates to n! / (n - k)! when k <= n and evaluates\n",
    "    to zero when k > n.\n",
    "\n",
    "    If k is not specified or is None, then k defaults to n\n",
    "    and the function returns n!.\n",
    "\n",
    "    Raises TypeError if either of the arguments are not integers.\n",
    "    Raises ValueError if either of the arguments are negative."
   ]
  },
  {
   "cell_type": "code",
   "execution_count": 46,
   "metadata": {},
   "outputs": [
    {
     "name": "stdout",
     "output_type": "stream",
     "text": [
      "2520\n"
     ]
    }
   ],
   "source": [
    "import math\n",
    "\n",
    "# Initialize the number of items to choose from\n",
    "n = 7\n",
    "\n",
    "# Initialize the number of items to choose\n",
    "k = 5\n",
    "\n",
    "# Print the number of ways to choose k items from n items\n",
    "print (math.perm(n, k))"
   ]
  },
  {
   "cell_type": "markdown",
   "metadata": {},
   "source": [
    "### pow(x, y, /)\n",
    "    Return x**y (x to the power of y)."
   ]
  },
  {
   "cell_type": "code",
   "execution_count": 47,
   "metadata": {},
   "outputs": [
    {
     "name": "stdout",
     "output_type": "stream",
     "text": [
      "729.0\n"
     ]
    }
   ],
   "source": [
    "print(math.pow(9, 3))"
   ]
  },
  {
   "cell_type": "markdown",
   "metadata": {},
   "source": [
    "### prod(iterable, /, *, start=1)\n",
    "    Calculate the product of all the elements in the input iterable.\n",
    "\n",
    "    The default start value for the product is 1.\n",
    "\n",
    "    When the iterable is empty, return the start value.  This function is\n",
    "    intended specifically for use with numeric values and may reject\n",
    "    non-numeric types."
   ]
  },
  {
   "cell_type": "code",
   "execution_count": 60,
   "metadata": {},
   "outputs": [
    {
     "name": "stdout",
     "output_type": "stream",
     "text": [
      "120\n",
      "0.21\n",
      "3628800\n"
     ]
    }
   ],
   "source": [
    "# list \n",
    "arr = [1, 2, 3, 4, 5] \n",
    "  \n",
    "# Calculate the product of \n",
    "# of all elements present \n",
    "# in the given list \n",
    "product = math.prod(arr) \n",
    "print(product) \n",
    "  \n",
    "  \n",
    "# tuple \n",
    "tup = (0.5, 0.6, 0.7) \n",
    "  \n",
    "# Calculate the product  \n",
    "# of all elements present \n",
    "# in the given tuple \n",
    "product = math.prod(tup) \n",
    "print(product) \n",
    "  \n",
    "  \n",
    "# range \n",
    "seq = range(1, 11) \n",
    "  \n",
    "# Calculate the product  \n",
    "# of all elements present \n",
    "# in the given range \n",
    "product = math.prod(seq) \n",
    "print(product) \n",
    "  \n",
    "# As the start value is not specified  \n",
    "# it will default to 1 "
   ]
  },
  {
   "cell_type": "markdown",
   "metadata": {},
   "source": [
    "### radians(x, /)\n",
    "    Convert angle x from degrees to radians."
   ]
  },
  {
   "cell_type": "code",
   "execution_count": 48,
   "metadata": {},
   "outputs": [
    {
     "name": "stdout",
     "output_type": "stream",
     "text": [
      "3.141592653589793\n",
      "1.7458528507699278\n",
      "-0.3490658503988659\n"
     ]
    }
   ],
   "source": [
    "print(math.radians(180))\n",
    "print(math.radians(100.03))\n",
    "print(math.radians(-20))"
   ]
  },
  {
   "cell_type": "markdown",
   "metadata": {},
   "source": [
    "### remainder(x, y, /)\n",
    "    Difference between x and the closest integer multiple of y.\n",
    "\n",
    "    Return x - n*y where n*y is the closest integer multiple of y.\n",
    "    In the case where x is exactly halfway between two multiples of\n",
    "    y, the nearest even value of n is used. The result is always exact."
   ]
  },
  {
   "cell_type": "code",
   "execution_count": 49,
   "metadata": {},
   "outputs": [
    {
     "name": "stdout",
     "output_type": "stream",
     "text": [
      "1.0\n",
      "1.0\n"
     ]
    }
   ],
   "source": [
    "print (math.remainder(9, 2))\n",
    "print (math.remainder(17, 4))"
   ]
  },
  {
   "cell_type": "markdown",
   "metadata": {},
   "source": [
    "### sin(x, /)\n",
    "    Return the sine of x (measured in radians)."
   ]
  },
  {
   "cell_type": "code",
   "execution_count": 50,
   "metadata": {},
   "outputs": [
    {
     "name": "stdout",
     "output_type": "stream",
     "text": [
      "0.0\n",
      "-0.9424888019316975\n",
      "-0.5440211108893698\n",
      "1.2246467991473532e-16\n",
      "1.0\n"
     ]
    }
   ],
   "source": [
    "print (math.sin(0.00))\n",
    "print (math.sin(-1.23))\n",
    "print (math.sin(10))\n",
    "print (math.sin(math.pi))\n",
    "print (math.sin(math.pi/2))"
   ]
  },
  {
   "cell_type": "markdown",
   "metadata": {},
   "source": [
    "### sinh(x, /)\n",
    "    Return the hyperbolic sine of x."
   ]
  },
  {
   "cell_type": "code",
   "execution_count": 52,
   "metadata": {},
   "outputs": [
    {
     "name": "stdout",
     "output_type": "stream",
     "text": [
      "0.0\n",
      "-7641446994.979367\n",
      "4872401723.124452\n",
      "1.1752011936438014\n",
      "11.548739357257748\n"
     ]
    }
   ],
   "source": [
    "# Return the hyperbolic sine of different values\n",
    "\n",
    "print(math.sinh(0.00))\n",
    "print(math.sinh(-23.45))\n",
    "print(math.sinh(23))\n",
    "print(math.sinh(1.00))\n",
    "print(math.sinh(math.pi))"
   ]
  },
  {
   "cell_type": "markdown",
   "metadata": {},
   "source": [
    "### sqrt(x, /)\n",
    "    Return the square root of x."
   ]
  },
  {
   "cell_type": "code",
   "execution_count": 53,
   "metadata": {},
   "outputs": [
    {
     "name": "stdout",
     "output_type": "stream",
     "text": [
      "3.0\n",
      "5.0\n",
      "4.0\n"
     ]
    }
   ],
   "source": [
    "# Return the square root of different numbers\n",
    "print (math.sqrt(9))\n",
    "print (math.sqrt(25))\n",
    "print (math.sqrt(16))"
   ]
  },
  {
   "cell_type": "markdown",
   "metadata": {},
   "source": [
    "### tan(x, /)\n",
    "    Return the tangent of x (measured in radians)."
   ]
  },
  {
   "cell_type": "code",
   "execution_count": 54,
   "metadata": {},
   "outputs": [
    {
     "name": "stdout",
     "output_type": "stream",
     "text": [
      "-1.995200412208242\n",
      "1.995200412208242\n",
      "1.6197751905438615\n",
      "0.320040389379563\n"
     ]
    }
   ],
   "source": [
    "# Return the tangent of different numbers\n",
    "print (math.tan(90))\n",
    "print (math.tan(-90))\n",
    "print (math.tan(45))\n",
    "print (math.tan(60))"
   ]
  },
  {
   "cell_type": "markdown",
   "metadata": {},
   "source": [
    "### tanh(x, /)\n",
    "    Return the hyperbolic tangent of x."
   ]
  },
  {
   "cell_type": "code",
   "execution_count": 55,
   "metadata": {},
   "outputs": [
    {
     "name": "stdout",
     "output_type": "stream",
     "text": [
      "0.9999997749296758\n",
      "0.7615941559557649\n",
      "-0.9999917628565104\n"
     ]
    }
   ],
   "source": [
    "# Return the hyperbolic tangent of different numbers\n",
    "print(math.tanh(8))\n",
    "print(math.tanh(1))\n",
    "print(math.tanh(-6.2))"
   ]
  },
  {
   "cell_type": "markdown",
   "metadata": {},
   "source": [
    "### trunc(x, /)\n",
    "    Truncates the Real x to the nearest Integral toward 0.\n",
    "\n",
    "    Uses the __trunc__ magic method."
   ]
  },
  {
   "cell_type": "code",
   "execution_count": 56,
   "metadata": {},
   "outputs": [
    {
     "name": "stdout",
     "output_type": "stream",
     "text": [
      "2\n",
      "8\n",
      "-99\n"
     ]
    }
   ],
   "source": [
    "# Return the truncated integer parts of different numbers\n",
    "print(math.trunc(2.77))\n",
    "print(math.trunc(8.32))\n",
    "print(math.trunc(-99.29))"
   ]
  },
  {
   "cell_type": "code",
   "execution_count": null,
   "metadata": {},
   "outputs": [],
   "source": []
  }
 ],
 "metadata": {
  "kernelspec": {
   "display_name": "Python 3",
   "language": "python",
   "name": "python3"
  },
  "language_info": {
   "codemirror_mode": {
    "name": "ipython",
    "version": 3
   },
   "file_extension": ".py",
   "mimetype": "text/x-python",
   "name": "python",
   "nbconvert_exporter": "python",
   "pygments_lexer": "ipython3",
   "version": "3.8.2"
  }
 },
 "nbformat": 4,
 "nbformat_minor": 4
}
