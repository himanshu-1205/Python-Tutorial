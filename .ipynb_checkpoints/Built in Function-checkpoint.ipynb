{
 "cells": [
  {
   "cell_type": "markdown",
   "metadata": {},
   "source": [
    "# Built in functions\n",
    "There are total 69 built in function in python"
   ]
  },
  {
   "cell_type": "markdown",
   "metadata": {},
   "source": [
    "## abs"
   ]
  },
  {
   "cell_type": "code",
   "execution_count": 2,
   "metadata": {},
   "outputs": [
    {
     "name": "stdout",
     "output_type": "stream",
     "text": [
      "11.11\n",
      "11.11\n",
      "3.605551275463989\n"
     ]
    }
   ],
   "source": [
    "print(abs(11.11))\n",
    "print(abs(-11.11))\n",
    "print(abs(2+3j))  # abs of complex number is sqrt(x^2 + y^2)"
   ]
  },
  {
   "cell_type": "markdown",
   "metadata": {},
   "source": [
    "## all\n",
    "Check if all items in a list are True:\n",
    "\n"
   ]
  },
  {
   "cell_type": "code",
   "execution_count": 4,
   "metadata": {},
   "outputs": [
    {
     "name": "stdout",
     "output_type": "stream",
     "text": [
      "True\n",
      "False\n",
      "False\n",
      "False\n"
     ]
    }
   ],
   "source": [
    "# Synatx = all(iterable)\n",
    "mylist = [True, True, True]\n",
    "x = all(mylist)\n",
    "print(x)\n",
    "\n",
    "mylist = [0, 1, 1]\n",
    "x = all(mylist)\n",
    "print(x)\n",
    "\n",
    "myset = {0, 1, 0}\n",
    "x = all(myset)\n",
    "print(x)\n",
    "\n",
    "mydict = {0 : \"Apple\", 1 : \"Orange\"}\n",
    "x = all(mydict)\n",
    "print(x)"
   ]
  },
  {
   "cell_type": "markdown",
   "metadata": {},
   "source": [
    "## any\n",
    "Check if any of the items in a list are True:"
   ]
  },
  {
   "cell_type": "code",
   "execution_count": 6,
   "metadata": {},
   "outputs": [
    {
     "name": "stdout",
     "output_type": "stream",
     "text": [
      "True\n",
      "True\n",
      "True\n",
      "True\n"
     ]
    }
   ],
   "source": [
    "mylist = [False, True, False]\n",
    "x = any(mylist)\n",
    "print(x)\n",
    "\n",
    "mylist = [0, 1, 1]\n",
    "x = any(mylist)\n",
    "print(x)\n",
    "\n",
    "myset = {0, 1, 0}\n",
    "x = any(myset)\n",
    "print(x)\n",
    "\n",
    "mydict = {0 : \"Apple\", 1 : \"Orange\"}\n",
    "x = any(mydict)\n",
    "print(x)"
   ]
  },
  {
   "cell_type": "markdown",
   "metadata": {},
   "source": [
    "## ascii\n",
    "The ascii() function returns a readable version of any object (Strings, Tuples, Lists, etc).\n",
    "\n",
    "The ascii() function will replace any non-ascii characters with escape characters:"
   ]
  },
  {
   "cell_type": "code",
   "execution_count": 7,
   "metadata": {},
   "outputs": [
    {
     "name": "stdout",
     "output_type": "stream",
     "text": [
      "'My name is St\\xe5le'\n"
     ]
    }
   ],
   "source": [
    "x = ascii(\"My name is Ståle\")\n",
    "print(x)"
   ]
  },
  {
   "cell_type": "markdown",
   "metadata": {},
   "source": [
    "## bin"
   ]
  },
  {
   "cell_type": "code",
   "execution_count": 14,
   "metadata": {},
   "outputs": [],
   "source": [
    "# Already done in datatype numbers"
   ]
  },
  {
   "cell_type": "markdown",
   "metadata": {},
   "source": [
    "## bool"
   ]
  },
  {
   "cell_type": "code",
   "execution_count": 15,
   "metadata": {},
   "outputs": [],
   "source": [
    "# Already done in datatype bool"
   ]
  },
  {
   "cell_type": "markdown",
   "metadata": {},
   "source": [
    "## breakpoint\n",
    "break point is used to debug the script at any point and to close the pdb type 'c'\n",
    "\n",
    "The Python breakpoint() built-in function is a tool that allows developers to set points in code at which a debugger is called. By default, this function results in an instantiation of Python’s native debugger class. Since 3.7 however, developers can easily override this behavior and use the Python breakpoint() function to execute custom actions.\n",
    "\n",
    "### PDB Command\n",
    "\n",
    "##### h(elp)\n",
    "Without argument, print the list of available commands. With a command name as argument, print help about that command.\n",
    "\n",
    "##### w(here)\n",
    "Print a stack trace, with the most recent frame at the bottom. An arrow indicates the “current frame”, which determines the context of most commands.\n",
    "\n",
    "##### d(own)\n",
    "Move the current frame one level down in the stack trace (to a newer frame).\n",
    "\n",
    "##### u(p)\n",
    "Move the current frame one level up in the stack trace (to an older frame).\n",
    "\n",
    "##### b(reak): [ ([filename:]lineno | function) [, condition] ]\n",
    "With a filename:line number argument, set a break there. If filename is omitted, use the current file. With a function name, set a break at the first executable line of that function. Without argument, list all breaks. Each breakpoint is assigned a number to which all the other breakpoint commands refer.\n",
    "\n",
    "The condition argument, if present, is a string which must evaluate to true in order for the breakpoint to be honored.\n",
    "\n",
    "##### tbreak: [ ([filename:]lineno | function) [, condition] ]\n",
    "Temporary breakpoint, which is removed automatically when it is first hit. The arguments are the same as break.\n",
    "\n",
    "##### cl(ear): [bpnumber [bpnumber ...] ]\n",
    "With a space separated list of breakpoint numbers, clear those breakpoints. Without argument, clear all breaks (but first ask confirmation).\n",
    "\n",
    "##### disable bpnumber: [bpnumber ...]\n",
    "Disables the breakpoints given as a space separated list of breakpoint numbers. Disabling a breakpoint means it cannot cause the program to stop execution, but unlike clearing a breakpoint, it remains in the list of breakpoints and can be (re-)enabled.\n",
    "\n",
    "##### enable bpnumber: [bpnumber ...]\n",
    "Enables the breakpoints specified.\n",
    "\n",
    "##### ignore bpnumber count\n",
    "Sets the ignore count for the given breakpoint number. If count is omitted, the ignore count is set to 0. A breakpoint becomes active when the ignore count is zero. When non-zero, the count is decremented each time the breakpoint is reached and the breakpoint is not disabled and any associated condition evaluates to true.\n",
    "\n",
    "##### condition bpnumber condition\n",
    "condition is an expression which must evaluate to true before the breakpoint is honored. If condition is absent, any existing condition is removed; i.e., the breakpoint is made unconditional.\n",
    "\n",
    "##### s(tep)\n",
    "Execute the current line, stop at the first possible occasion (either in a function that is called or in the current function).\n",
    "\n",
    "##### n(ext)\n",
    "Continue execution until the next line in the current function is reached or it returns.\n",
    "\n",
    "##### unt(il)\n",
    "Continue execution until the line with a number greater than the current one is reached or until the current frame returns.\n",
    "\n",
    "##### r(eturn)\n",
    "Continue execution until the current function returns.\n",
    "\n",
    "##### run [args ...]\n",
    "Restart the debugged python program. If a string is supplied it is splitted with “shlex”, and the result is used as the new sys.argv. History, breakpoints, actions and debugger options are preserved. “restart” is an alias for “run”.\n",
    "\n",
    "##### c(ont(inue))\n",
    "Continue execution, only stop when a breakpoint is encountered.\n",
    "\n",
    "##### l(ist): [first [,last]]\n",
    "List source code for the current file. Without arguments, list 11 lines around the current line or continue the previous listing. With one argument, list 11 lines starting at that line. With two arguments, list the given range; if the second argument is less than the first, it is a count.\n",
    "\n",
    "##### a(rgs)\n",
    "Print the argument list of the current function.\n",
    "\n",
    "##### p expression\n",
    "Print the value of the expression."
   ]
  },
  {
   "cell_type": "code",
   "execution_count": 1,
   "metadata": {},
   "outputs": [
    {
     "name": "stdout",
     "output_type": "stream",
     "text": [
      "num: 9 smallest: 0\n",
      "num: 6 smallest: 0\n",
      "num: 3 smallest: 0\n"
     ]
    },
    {
     "data": {
      "text/plain": [
       "0"
      ]
     },
     "execution_count": 1,
     "metadata": {},
     "output_type": "execute_result"
    }
   ],
   "source": [
    "# Simple program to debug the code without using breakpoint\n",
    "def find_min(nums: [int]) -> int:\n",
    "    \"\"\"Finds the smallest integer value in a list\"\"\"\n",
    "    smallest = 0\n",
    "    for num in nums:\n",
    "        \n",
    "        print('num:', num, 'smallest:', smallest)\n",
    "        if num < smallest:\n",
    "            \n",
    "            print('num smaller; re-assigning value:', num)\n",
    "            smallest = num\n",
    "            \n",
    "    return smallest\n",
    "find_min([9, 6, 3])"
   ]
  },
  {
   "cell_type": "code",
   "execution_count": 12,
   "metadata": {},
   "outputs": [
    {
     "name": "stdout",
     "output_type": "stream",
     "text": [
      "> \u001b[1;32mc:\\users\\himanshu\\appdata\\local\\temp\\ipykernel_14012\\4092239413.py\u001b[0m(11)\u001b[0;36mfind_min\u001b[1;34m()\u001b[0m\n",
      "\n",
      "ipdb> n\n",
      "> \u001b[1;32mc:\\users\\himanshu\\appdata\\local\\temp\\ipykernel_14012\\4092239413.py\u001b[0m(8)\u001b[0;36mfind_min\u001b[1;34m()\u001b[0m\n",
      "\n",
      "ipdb> num\n",
      "9\n",
      "ipdb> smallest\n",
      "0\n",
      "ipdb> n\n",
      "> \u001b[1;32mc:\\users\\himanshu\\appdata\\local\\temp\\ipykernel_14012\\4092239413.py\u001b[0m(10)\u001b[0;36mfind_min\u001b[1;34m()\u001b[0m\n",
      "\n",
      "ipdb> num\n",
      "6\n",
      "ipdb> smallest\n",
      "0\n",
      "ipdb> n\n",
      "> \u001b[1;32mc:\\users\\himanshu\\appdata\\local\\temp\\ipykernel_14012\\4092239413.py\u001b[0m(11)\u001b[0;36mfind_min\u001b[1;34m()\u001b[0m\n",
      "\n",
      "ipdb> num\n",
      "6\n",
      "ipdb> smallest\n",
      "0\n",
      "ipdb> n\n",
      "> \u001b[1;32mc:\\users\\himanshu\\appdata\\local\\temp\\ipykernel_14012\\4092239413.py\u001b[0m(8)\u001b[0;36mfind_min\u001b[1;34m()\u001b[0m\n",
      "\n",
      "ipdb> num\n",
      "6\n",
      "ipdb> smallest\n",
      "0\n",
      "ipdb> c\n",
      "> \u001b[1;32mc:\\users\\himanshu\\appdata\\local\\temp\\ipykernel_14012\\4092239413.py\u001b[0m(11)\u001b[0;36mfind_min\u001b[1;34m()\u001b[0m\n",
      "\n",
      "ipdb> n\n",
      "> \u001b[1;32mc:\\users\\himanshu\\appdata\\local\\temp\\ipykernel_14012\\4092239413.py\u001b[0m(8)\u001b[0;36mfind_min\u001b[1;34m()\u001b[0m\n",
      "\n",
      "ipdb> num\n",
      "3\n",
      "ipdb> smallest\n",
      "0\n",
      "ipdb> b\n",
      "ipdb> b\n",
      "ipdb> c\n"
     ]
    },
    {
     "data": {
      "text/plain": [
       "0"
      ]
     },
     "execution_count": 12,
     "metadata": {},
     "output_type": "execute_result"
    }
   ],
   "source": [
    "# Simple program to debug the code using breakpoint\n",
    "from IPython.core.debugger import set_trace\n",
    "def find_min(nums: [int]) -> int:\n",
    "    \"\"\"Finds the smallest integer value in a list\"\"\"\n",
    "    # Instantiate initial smallest value\n",
    "    smallest = 0\n",
    "    # consider each number in arguments\n",
    "    for num in nums:\n",
    "        # compare to current smallest value\n",
    "        set_trace() # enter debug mode\n",
    "        if num < smallest:\n",
    "            # assign to smallest if value less\n",
    "            smallest = num\n",
    "    \n",
    "    # return final value for smallest\n",
    "    return smallest\n",
    "find_min([9, 6, 3])\n",
    "# Run this code in command terminal in which PDP debugger will work or use spyder.\n",
    "# type n\n",
    "# type num\n",
    "# type smallest\n",
    "# Do until the dubugging will complete."
   ]
  },
  {
   "cell_type": "markdown",
   "metadata": {},
   "source": [
    "## bytearray"
   ]
  },
  {
   "cell_type": "code",
   "execution_count": 17,
   "metadata": {},
   "outputs": [],
   "source": [
    "# Already done in byte and bytearray"
   ]
  },
  {
   "cell_type": "markdown",
   "metadata": {},
   "source": [
    "## bytes"
   ]
  },
  {
   "cell_type": "code",
   "execution_count": 18,
   "metadata": {},
   "outputs": [],
   "source": [
    "# Already done in byte and bytearray"
   ]
  },
  {
   "cell_type": "markdown",
   "metadata": {},
   "source": [
    "## callable\n",
    "This built-in method in Python checks and returns True if the object passed appears to be callable, but may not be, otherwise False."
   ]
  },
  {
   "cell_type": "code",
   "execution_count": 20,
   "metadata": {},
   "outputs": [
    {
     "name": "stdout",
     "output_type": "stream",
     "text": [
      "True\n",
      "False\n"
     ]
    }
   ],
   "source": [
    "def Geek(): \n",
    "    return 5\n",
    "  \n",
    "# an object is created of Geek() \n",
    "let = Geek \n",
    "print(callable(let)) \n",
    "  \n",
    "# a test variable \n",
    "num = 5 * 5\n",
    "print(callable(num))"
   ]
  },
  {
   "cell_type": "markdown",
   "metadata": {},
   "source": [
    "## chr\n",
    "The chr() method returns a string representing a character whose Unicode code point is an integer."
   ]
  },
  {
   "cell_type": "code",
   "execution_count": 24,
   "metadata": {},
   "outputs": [
    {
     "name": "stdout",
     "output_type": "stream",
     "text": [
      "G e e k s   f o r   G e e k s \n",
      "\n",
      "Character of ASCII value 17 is  \u0011\n",
      "Character of ASCII value 38 is  &\n",
      "Character of ASCII value 75 is  K\n"
     ]
    }
   ],
   "source": [
    "# Python program to illustrate  \n",
    "# chr() builtin function \n",
    "  \n",
    "print(chr(71), chr(101), \n",
    "chr(101), chr(107), \n",
    "chr(115), chr(32), \n",
    "chr(102), chr(111), \n",
    "chr(114),chr(32), \n",
    "chr(71), chr(101), \n",
    "chr(101), chr(107),  \n",
    "chr(115),\"\\n\") \n",
    "\n",
    "numbers = [17, 38, 75] \n",
    "  \n",
    "for number in numbers: \n",
    "      \n",
    "    # Convert ASCII-based number to character. \n",
    "    letter = chr(number) \n",
    "    print(\"Character of ASCII value\", number, \"is \", letter) "
   ]
  },
  {
   "cell_type": "markdown",
   "metadata": {},
   "source": [
    "## classmethod \n",
    "The classmethod() is an inbuilt function in Python, which returns a class method for a given function.\n",
    "\n"
   ]
  },
  {
   "cell_type": "code",
   "execution_count": 26,
   "metadata": {},
   "outputs": [
    {
     "name": "stdout",
     "output_type": "stream",
     "text": [
      "The name is :  Geeksforgeeks\n"
     ]
    }
   ],
   "source": [
    "class Student: \n",
    "      \n",
    "    # create a variable \n",
    "    name = \"Geeksforgeeks\"\n",
    "      \n",
    "    # create a function \n",
    "    def print_name(obj): \n",
    "        print(\"The name is : \", obj.name) \n",
    "          \n",
    "# create print_name classmethod \n",
    "# before creating this line print_name() \n",
    "# It can be called only with object not with class \n",
    "Student.print_name = classmethod(Student.print_name) \n",
    "  \n",
    "# now this method can be called as classmethod \n",
    "# print_name() method is called a class method \n",
    "Student.print_name() \n",
    "\n",
    "# Classmethod is also work as a decorator which we study in oops concept"
   ]
  },
  {
   "cell_type": "markdown",
   "metadata": {},
   "source": [
    "## compile\n",
    "Compile text as code, and the execute it:\n",
    "\n"
   ]
  },
  {
   "cell_type": "code",
   "execution_count": 34,
   "metadata": {},
   "outputs": [
    {
     "name": "stdout",
     "output_type": "stream",
     "text": [
      "55\n",
      "sum = 11\n"
     ]
    }
   ],
   "source": [
    "x = compile('print(55)', 'test', 'eval')\n",
    "exec(x)\n",
    "\n",
    "codeInString = 'a = 5\\nb=6\\nsum=a+b\\nprint(\"sum =\",sum)'\n",
    "codeObejct = compile(codeInString, 'sumstring', 'exec')\n",
    "\n",
    "exec(codeObejct)"
   ]
  },
  {
   "cell_type": "markdown",
   "metadata": {},
   "source": [
    "## complex"
   ]
  },
  {
   "cell_type": "code",
   "execution_count": 36,
   "metadata": {},
   "outputs": [],
   "source": [
    "# Already done in number datatype"
   ]
  },
  {
   "cell_type": "markdown",
   "metadata": {},
   "source": [
    "## delattr\n",
    "The delattr() function will delete the specified attribute from the specified object.\n",
    "\n"
   ]
  },
  {
   "cell_type": "code",
   "execution_count": 40,
   "metadata": {},
   "outputs": [
    {
     "name": "stdout",
     "output_type": "stream",
     "text": [
      "John\n",
      "36\n",
      "John\n"
     ]
    },
    {
     "ename": "AttributeError",
     "evalue": "'Person' object has no attribute 'age'",
     "output_type": "error",
     "traceback": [
      "\u001b[0;31m---------------------------------------------------------------------------\u001b[0m",
      "\u001b[0;31mAttributeError\u001b[0m                            Traceback (most recent call last)",
      "\u001b[0;32m<ipython-input-40-e47a43e0ac4e>\u001b[0m in \u001b[0;36m<module>\u001b[0;34m\u001b[0m\n\u001b[1;32m      9\u001b[0m \u001b[0;34m\u001b[0m\u001b[0m\n\u001b[1;32m     10\u001b[0m \u001b[0mprint\u001b[0m\u001b[0;34m(\u001b[0m\u001b[0ma\u001b[0m\u001b[0;34m.\u001b[0m\u001b[0mname\u001b[0m\u001b[0;34m)\u001b[0m\u001b[0;34m\u001b[0m\u001b[0;34m\u001b[0m\u001b[0m\n\u001b[0;32m---> 11\u001b[0;31m \u001b[0mprint\u001b[0m\u001b[0;34m(\u001b[0m\u001b[0ma\u001b[0m\u001b[0;34m.\u001b[0m\u001b[0mage\u001b[0m\u001b[0;34m)\u001b[0m\u001b[0;34m\u001b[0m\u001b[0;34m\u001b[0m\u001b[0m\n\u001b[0m",
      "\u001b[0;31mAttributeError\u001b[0m: 'Person' object has no attribute 'age'"
     ]
    }
   ],
   "source": [
    "class Person:\n",
    "  name = \"John\"\n",
    "  age = 36\n",
    "  country = \"Norway\"\n",
    "\n",
    "a = Person()\n",
    "print(a.name)\n",
    "print(a.age)\n",
    "\n",
    "delattr(Person, 'age')\n",
    "\n",
    "print(a.name)\n",
    "print(a.age)"
   ]
  },
  {
   "cell_type": "markdown",
   "metadata": {},
   "source": [
    "## dict"
   ]
  },
  {
   "cell_type": "code",
   "execution_count": 41,
   "metadata": {},
   "outputs": [],
   "source": [
    "# Already done in dict datatype"
   ]
  },
  {
   "cell_type": "markdown",
   "metadata": {},
   "source": [
    "## dir\n",
    "The dir() function returns all properties and methods of the specified object, without the values.\n",
    "\n"
   ]
  },
  {
   "cell_type": "code",
   "execution_count": 42,
   "metadata": {},
   "outputs": [
    {
     "name": "stdout",
     "output_type": "stream",
     "text": [
      "['__class__', '__delattr__', '__dict__', '__dir__', '__doc__', '__eq__', '__format__', '__ge__', '__getattribute__', '__gt__', '__hash__', '__init__', '__init_subclass__', '__le__', '__lt__', '__module__', '__ne__', '__new__', '__reduce__', '__reduce_ex__', '__repr__', '__setattr__', '__sizeof__', '__str__', '__subclasshook__', '__weakref__', 'age', 'country', 'name']\n"
     ]
    }
   ],
   "source": [
    "class Person:\n",
    "  name = \"John\"\n",
    "  age = 36\n",
    "  country = \"Norway\"\n",
    "\n",
    "print(dir(Person))\n"
   ]
  },
  {
   "cell_type": "markdown",
   "metadata": {},
   "source": [
    "## divmod\n",
    "The divmod() function returns a tuple containing the quotient  and the remainder when argument1 (divident) is divided by argument2 (divisor).\n",
    "\n"
   ]
  },
  {
   "cell_type": "code",
   "execution_count": 43,
   "metadata": {},
   "outputs": [
    {
     "name": "stdout",
     "output_type": "stream",
     "text": [
      "(2, 1)\n"
     ]
    }
   ],
   "source": [
    "x = divmod(5, 2)\n",
    "\n",
    "print(x)"
   ]
  },
  {
   "cell_type": "markdown",
   "metadata": {},
   "source": [
    "## enumerate\n",
    "Enumerate() method adds a counter to an iterable and returns it in a form of enumerate object. This enumerate object can then be used directly in for loops or be converted into a list of tuples using list() method."
   ]
  },
  {
   "cell_type": "code",
   "execution_count": 47,
   "metadata": {},
   "outputs": [
    {
     "name": "stdout",
     "output_type": "stream",
     "text": [
      "Return type: <class 'enumerate'>\n",
      "[(0, 'eat'), (1, 'sleep'), (2, 'repeat')]\n",
      "[(2, 'g'), (3, 'e'), (4, 'e'), (5, 'k')]\n",
      "\n",
      "\n",
      "(0, 'eat')\n",
      "(1, 'sleep')\n",
      "(2, 'repeat')\n",
      "100 eat\n",
      "101 sleep\n",
      "102 repeat\n"
     ]
    }
   ],
   "source": [
    "# Python program to illustrate \n",
    "# enumerate function \n",
    "l1 = [\"eat\",\"sleep\",\"repeat\"] \n",
    "s1 = \"geek\"\n",
    "  \n",
    "# creating enumerate objects \n",
    "obj1 = enumerate(l1) \n",
    "obj2 = enumerate(s1) \n",
    "  \n",
    "print(\"Return type:\",type(obj1)) \n",
    "print(list(enumerate(l1)))\n",
    "  \n",
    "# changing start index to 2 from 0 \n",
    "print(list(enumerate(s1,2))) \n",
    "\n",
    "\n",
    "l1 = [\"eat\",\"sleep\",\"repeat\"] \n",
    "print(\"\\n\") \n",
    "# printing the tuples in object directly \n",
    "for ele in enumerate(l1): \n",
    "    print(ele) \n",
    "print \n",
    "# changing index and printing separately \n",
    "for count,ele in enumerate(l1,100): \n",
    "    print(count,ele)"
   ]
  },
  {
   "cell_type": "markdown",
   "metadata": {},
   "source": [
    "## eval"
   ]
  },
  {
   "cell_type": "code",
   "execution_count": 51,
   "metadata": {},
   "outputs": [
    {
     "name": "stdout",
     "output_type": "stream",
     "text": [
      "2\n",
      "Type a function: calculateArea(l)\n",
      "If length is  1 , Area =  1\n",
      "If length is  2 , Area =  4\n",
      "If length is  3 , Area =  9\n",
      "If length is  4 , Area =  16\n",
      "\n",
      "\n",
      "\n",
      "\n",
      "['Geek', 'In', 'Out', 'Person', 'Student', '_', '__', '___', '__builtin__', '__builtins__', '__doc__', '__loader__', '__name__', '__package__', '__return__', '__spec__', '_dh', '_i', '_i1', '_i10', '_i11', '_i12', '_i13', '_i14', '_i15', '_i16', '_i17', '_i18', '_i19', '_i2', '_i20', '_i21', '_i22', '_i23', '_i24', '_i25', '_i26', '_i27', '_i28', '_i29', '_i3', '_i30', '_i31', '_i32', '_i33', '_i34', '_i35', '_i36', '_i37', '_i38', '_i39', '_i4', '_i40', '_i41', '_i42', '_i43', '_i44', '_i45', '_i46', '_i47', '_i48', '_i49', '_i5', '_i50', '_i51', '_i6', '_i7', '_i8', '_i9', '_ih', '_ii', '_iii', '_oh', 'a', 'acos', 'acosh', 'asin', 'asinh', 'atan', 'atan2', 'atanh', 'b', 'calculateArea', 'calculatePerimeter', 'ceil', 'codeInString', 'codeObejct', 'copysign', 'cos', 'cosh', 'count', 'degrees', 'e', 'ele', 'erf', 'erfc', 'exit', 'exp', 'expm1', 'expression', 'fabs', 'factorial', 'floor', 'fmod', 'frexp', 'fsum', 'gamma', 'gcd', 'get_ipython', 'hypot', 'inf', 'isclose', 'isfinite', 'isinf', 'isnan', 'l', 'l1', 'ldexp', 'let', 'letter', 'lgamma', 'log', 'log10', 'log1p', 'log2', 'modf', 'mydict', 'mylist', 'myset', 'nan', 'num', 'number', 'numbers', 'obj1', 'obj2', 'pi', 'pow', 'quit', 'radians', 'remainder', 's1', 'sin', 'sinh', 'sqrt', 'sum', 'tan', 'tanh', 'tau', 'trunc', 'x', 'y', 'z']\n"
     ]
    }
   ],
   "source": [
    "x = 1\n",
    "print(eval('x + 1'))\n",
    "\n",
    "# Perimeter of Square\n",
    "def calculatePerimeter(l):\n",
    "    return 4*l\n",
    "\n",
    "# Area of Square\n",
    "def calculateArea(l):\n",
    "    return l*l\n",
    "\n",
    "\n",
    "expression = input(\"Type a function: \")\n",
    "\n",
    "for l in range(1, 5):\n",
    "    if (expression == 'calculatePerimeter(l)'):\n",
    "        print(\"If length is \", l, \", Perimeter = \", eval(expression))\n",
    "    elif (expression == 'calculateArea(l)'):\n",
    "        print(\"If length is \", l, \", Area = \", eval(expression))\n",
    "    else:\n",
    "        print('Wrong Function')\n",
    "        break\n",
    "        \n",
    "print(\"\\n\\n\\n\")\n",
    "        \n",
    "from math import *\n",
    "print(eval('dir()'))"
   ]
  },
  {
   "cell_type": "markdown",
   "metadata": {},
   "source": [
    "## exec"
   ]
  },
  {
   "cell_type": "code",
   "execution_count": 52,
   "metadata": {},
   "outputs": [
    {
     "name": "stdout",
     "output_type": "stream",
     "text": [
      "The sum of 5 and 10 is 15\n"
     ]
    }
   ],
   "source": [
    "prog = 'print(\"The sum of 5 and 10 is\", (5+10))'\n",
    "exec(prog) "
   ]
  },
  {
   "cell_type": "markdown",
   "metadata": {},
   "source": [
    "## filter\n",
    "The filter() method filters the given sequence with the help of a function that tests each element in the sequence to be true or not."
   ]
  },
  {
   "cell_type": "code",
   "execution_count": 54,
   "metadata": {},
   "outputs": [
    {
     "name": "stdout",
     "output_type": "stream",
     "text": [
      "The filtered letters are:\n",
      "e\n",
      "e\n",
      "[1, 3, 5, 13]\n",
      "[0, 2, 8]\n"
     ]
    }
   ],
   "source": [
    "def fun(variable): \n",
    "    letters = ['a', 'e', 'i', 'o', 'u'] \n",
    "    if (variable in letters): \n",
    "        return True\n",
    "    else: \n",
    "        return False\n",
    "  \n",
    "  \n",
    "# sequence \n",
    "sequence = ['g', 'e', 'e', 'j', 'k', 's', 'p', 'r'] \n",
    "  \n",
    "# using filter function \n",
    "filtered = filter(fun, sequence) \n",
    "  \n",
    "print('The filtered letters are:') \n",
    "for s in filtered: \n",
    "    print(s) \n",
    "    \n",
    "    \n",
    "\n",
    "# a list contains both even and odd numbers.  \n",
    "seq = [0, 1, 2, 3, 5, 8, 13] \n",
    "  \n",
    "# result contains odd numbers of the list \n",
    "result = filter(lambda x: x % 2 != 0, seq) \n",
    "print(list(result)) \n",
    "  \n",
    "# result contains even numbers of the list \n",
    "result = filter(lambda x: x % 2 == 0, seq) \n",
    "print(list(result)) "
   ]
  },
  {
   "cell_type": "markdown",
   "metadata": {},
   "source": [
    "## float"
   ]
  },
  {
   "cell_type": "code",
   "execution_count": 55,
   "metadata": {},
   "outputs": [],
   "source": [
    "# Already done in number datatype"
   ]
  },
  {
   "cell_type": "markdown",
   "metadata": {},
   "source": [
    "## format"
   ]
  },
  {
   "cell_type": "code",
   "execution_count": 56,
   "metadata": {},
   "outputs": [],
   "source": [
    "# Already done in str datatype"
   ]
  },
  {
   "cell_type": "markdown",
   "metadata": {},
   "source": [
    "## frozenset"
   ]
  },
  {
   "cell_type": "code",
   "execution_count": 58,
   "metadata": {},
   "outputs": [],
   "source": [
    "# Already done in frozenset datatype"
   ]
  },
  {
   "cell_type": "markdown",
   "metadata": {},
   "source": [
    "## getattr\n",
    "The getattr() function returns the value of the specified attribute from the specified object.\n",
    "\n"
   ]
  },
  {
   "cell_type": "code",
   "execution_count": 61,
   "metadata": {},
   "outputs": [
    {
     "name": "stdout",
     "output_type": "stream",
     "text": [
      "36\n"
     ]
    }
   ],
   "source": [
    "class Person:\n",
    "  name = \"John\"\n",
    "  age = 36\n",
    "  country = \"Norway\"\n",
    "\n",
    "x = getattr(Person, 'age')\n",
    "print(x)"
   ]
  },
  {
   "cell_type": "markdown",
   "metadata": {},
   "source": [
    "## globals"
   ]
  },
  {
   "cell_type": "code",
   "execution_count": 1,
   "metadata": {},
   "outputs": [
    {
     "name": "stdout",
     "output_type": "stream",
     "text": [
      "5\n",
      "5\n",
      "15\n",
      "15\n",
      "15\n"
     ]
    }
   ],
   "source": [
    "a = 5\n",
    "  \n",
    "def func(): \n",
    "    c = 10\n",
    "    d = c + a \n",
    "      \n",
    "    # Calling globals() \n",
    "    print(a)\n",
    "    globals()['a'] = d \n",
    "    print(d) \n",
    "    print(a)  \n",
    "# Driver Code\n",
    "print(a)\n",
    "func() \n",
    "print(a)"
   ]
  },
  {
   "cell_type": "markdown",
   "metadata": {},
   "source": [
    "## hasattr\n",
    "hasattr() is an inbuilt utility function in Python which is used in many day-to-day programming applications.\n",
    "Its main task is to check if an object has the given named attribute and return true if present, else false."
   ]
  },
  {
   "cell_type": "code",
   "execution_count": 2,
   "metadata": {},
   "outputs": [
    {
     "name": "stdout",
     "output_type": "stream",
     "text": [
      "Does name exist ? True\n",
      "Does motto exist ? False\n"
     ]
    }
   ],
   "source": [
    "class GfG : \n",
    "    name = \"GeeksforGeeks\"\n",
    "    age = 24\n",
    "  \n",
    "# initializing object \n",
    "obj = GfG() \n",
    "  \n",
    "# using hasattr() to check name \n",
    "print (\"Does name exist ? \" + str(hasattr(obj, 'name'))) \n",
    "  \n",
    "# using hasattr() to check motto \n",
    "print (\"Does motto exist ? \" + str(hasattr(obj, 'motto'))) \n"
   ]
  },
  {
   "cell_type": "markdown",
   "metadata": {},
   "source": [
    "## hash\n",
    "Python offers hash() method to encode the data into unrecognisable value.\n",
    "\n"
   ]
  },
  {
   "cell_type": "code",
   "execution_count": 3,
   "metadata": {},
   "outputs": [
    {
     "name": "stdout",
     "output_type": "stream",
     "text": [
      "The integer hash value is : 4\n",
      "The string hash value is : 2681647002492885781\n",
      "The float hash value is : 1291272085159665688\n"
     ]
    }
   ],
   "source": [
    "int_val = 4\n",
    "str_val = 'GeeksforGeeks'\n",
    "flt_val = 24.56\n",
    "  \n",
    "# Printing the hash values. \n",
    "# Notice Integer value doesn't change \n",
    "# You'l have answer later in article. \n",
    "print (\"The integer hash value is : \" + str(hash(int_val))) \n",
    "print (\"The string hash value is : \" + str(hash(str_val))) \n",
    "print (\"The float hash value is : \" + str(hash(flt_val))) "
   ]
  },
  {
   "cell_type": "markdown",
   "metadata": {},
   "source": [
    "## help\n",
    "The python help function is used to display the documentation of modules, functions, classes, keywords etc."
   ]
  },
  {
   "cell_type": "code",
   "execution_count": 4,
   "metadata": {},
   "outputs": [
    {
     "name": "stdout",
     "output_type": "stream",
     "text": [
      "Help on built-in function print in module builtins:\n",
      "\n",
      "print(...)\n",
      "    print(value, ..., sep=' ', end='\\n', file=sys.stdout, flush=False)\n",
      "    \n",
      "    Prints the values to a stream, or to sys.stdout by default.\n",
      "    Optional keyword arguments:\n",
      "    file:  a file-like object (stream); defaults to the current sys.stdout.\n",
      "    sep:   string inserted between values, default a space.\n",
      "    end:   string appended after the last value, default a newline.\n",
      "    flush: whether to forcibly flush the stream.\n",
      "\n"
     ]
    }
   ],
   "source": [
    "help(print) "
   ]
  },
  {
   "cell_type": "markdown",
   "metadata": {},
   "source": [
    "## hex"
   ]
  },
  {
   "cell_type": "code",
   "execution_count": 5,
   "metadata": {},
   "outputs": [],
   "source": [
    "# Already done in number datatype"
   ]
  },
  {
   "cell_type": "markdown",
   "metadata": {},
   "source": [
    "## id\n",
    "id function accepts a single parameter and is used to return the identity of an object. This identity has to be unique and constant for this object during the lifetime."
   ]
  },
  {
   "cell_type": "code",
   "execution_count": 6,
   "metadata": {},
   "outputs": [
    {
     "name": "stdout",
     "output_type": "stream",
     "text": [
      "140603743607344\n",
      "140603743607344\n",
      "True\n",
      "140603743607152\n",
      "140603743608688\n",
      "False\n"
     ]
    }
   ],
   "source": [
    "str1 = \"geek\"\n",
    "print(id(str1)) \n",
    "  \n",
    "str2 = \"geek\"\n",
    "print(id(str2)) \n",
    "  \n",
    "# This will return True \n",
    "print(id(str1) == id(str2)) \n",
    "  \n",
    "# Use in Lists \n",
    "list1 = [\"aakash\", \"priya\", \"abdul\"] \n",
    "print(id(list1[0])) \n",
    "print(id(list1[2])) \n",
    "  \n",
    "# This returns false \n",
    "print(id(list1[0])==id(list1[2])) \n"
   ]
  },
  {
   "cell_type": "markdown",
   "metadata": {},
   "source": [
    "## input\n",
    "This function first takes the input from the user and then evaluates the expression, which means Python automatically identifies whether user entered a string or a number or list. If the input provided is not correct then either syntax error or exception is raised by python."
   ]
  },
  {
   "cell_type": "code",
   "execution_count": 8,
   "metadata": {},
   "outputs": [
    {
     "name": "stdout",
     "output_type": "stream",
     "text": [
      "Enter your value: 20\n",
      "20\n",
      "Enter number :12\n",
      "12\n",
      "Enter name : 11\n",
      "11\n",
      "type of number <class 'str'>\n",
      "type of name <class 'str'>\n"
     ]
    }
   ],
   "source": [
    "val = input(\"Enter your value: \") \n",
    "print(val) \n",
    "\n",
    "num = input (\"Enter number :\") \n",
    "print(num) \n",
    "name1 = input(\"Enter name : \") \n",
    "print(name1) \n",
    "  \n",
    "# Printing type of input value \n",
    "print (\"type of number\", type(num)) \n",
    "print (\"type of name\", type(name1)) "
   ]
  },
  {
   "cell_type": "markdown",
   "metadata": {},
   "source": [
    "## int"
   ]
  },
  {
   "cell_type": "code",
   "execution_count": 9,
   "metadata": {},
   "outputs": [],
   "source": [
    "# Already done in number datatype"
   ]
  },
  {
   "cell_type": "markdown",
   "metadata": {},
   "source": [
    "## isinstance\n",
    "Python supports object-oriented programming and hence classes can be created using python. Sometimes, it is essential to know mid-program that which objects belong to which class. isinstance() performs this function and hence makes our programming tasks easier."
   ]
  },
  {
   "cell_type": "code",
   "execution_count": 10,
   "metadata": {},
   "outputs": [
    {
     "name": "stdout",
     "output_type": "stream",
     "text": [
      "Is test_int integer? : True\n",
      "Is test_int string? : False\n",
      "Is test_str string? : True\n",
      "Is test_list integer? : False\n",
      "Is test_list list? : True\n",
      "Is test_int integer or list or string? : True\n",
      "Is test_list string or tuple? : False\n"
     ]
    }
   ],
   "source": [
    "test_int = 5\n",
    "test_str = \"GeeksforGeeks\"\n",
    "test_list = [1, 2, 3] \n",
    "  \n",
    "# testing with isinstance \n",
    "print (\"Is test_int integer? : \" + str(isinstance(test_int, int))) \n",
    "print (\"Is test_int string? : \" + str(isinstance(test_int, str))) \n",
    "print (\"Is test_str string? : \" + str(isinstance(test_str, str))) \n",
    "print (\"Is test_list integer? : \" + str(isinstance(test_list, int))) \n",
    "print (\"Is test_list list? : \" + str(isinstance(test_list, list))) \n",
    "  \n",
    "# testing with tuple \n",
    "print (\"Is test_int integer or list or string? : \" \n",
    "        + str(isinstance(test_int, (list, str, int)))) \n",
    "          \n",
    "print (\"Is test_list string or tuple? : \" \n",
    "        + str(isinstance(test_list, (str, tuple)))) "
   ]
  },
  {
   "cell_type": "code",
   "execution_count": 11,
   "metadata": {},
   "outputs": [
    {
     "name": "stdout",
     "output_type": "stream",
     "text": [
      "Is obj1 instance of gfg1? : True\n",
      "Is obj2 instance of gfg2? : True\n",
      "Is obj1 instance of gfg2? : False\n",
      "Is obj2 instance of gfg1? : True\n"
     ]
    }
   ],
   "source": [
    "class gfg1 : \n",
    "    a = 10\n",
    "  \n",
    "# inherited class \n",
    "class gfg2(gfg1) : \n",
    "    strng = 'GeeksforGeeks'\n",
    "      \n",
    "      \n",
    "# initializing objects \n",
    "obj1 = gfg1() \n",
    "obj2 = gfg2() \n",
    "  \n",
    "# checking istances \n",
    "print (\"Is obj1 instance of gfg1? : \" + str(isinstance(obj1, gfg1))) \n",
    "print (\"Is obj2 instance of gfg2? : \" + str(isinstance(obj2, gfg2))) \n",
    "print (\"Is obj1 instance of gfg2? : \" + str(isinstance(obj1, gfg2))) \n",
    "  \n",
    "  \n",
    "# check inhertance case \n",
    "# return true \n",
    "print (\"Is obj2 instance of gfg1? : \" + str(isinstance(obj2, gfg1))) "
   ]
  },
  {
   "cell_type": "markdown",
   "metadata": {},
   "source": [
    "## issubclass\n",
    "Python issubclass() is built-in function used to check if a class is a subclass of another class or not. This function returns True if the given class is the subclass of given class else it returns False.\n"
   ]
  },
  {
   "cell_type": "code",
   "execution_count": 12,
   "metadata": {},
   "outputs": [
    {
     "name": "stdout",
     "output_type": "stream",
     "text": [
      "True\n",
      "False\n",
      "True\n",
      "True\n"
     ]
    }
   ],
   "source": [
    "class Vehicles: \n",
    "  \n",
    "    # Constructor \n",
    "    def __init__(vehicleType): \n",
    "        print('Vehicles is a ', vehicleType) \n",
    "  \n",
    "# Defining Child class \n",
    "class Car(Vehicles): \n",
    "  \n",
    "    # Constructor \n",
    "    def __init__(self): \n",
    "        Vehicles.__init__('Car') \n",
    "  \n",
    "# Driver's code    \n",
    "print(issubclass(Car, Vehicles)) \n",
    "print(issubclass(Car, list)) \n",
    "print(issubclass(Car, Car)) \n",
    "print(issubclass(Car, (list, Vehicles))) "
   ]
  },
  {
   "cell_type": "markdown",
   "metadata": {},
   "source": [
    "## iter\n",
    "In python, iter() method is used to convert to convert an iterable to iterator. This presents another way to iterate the container i.e access its elements. iter() uses next() for accessing values."
   ]
  },
  {
   "cell_type": "code",
   "execution_count": 14,
   "metadata": {},
   "outputs": [
    {
     "name": "stdout",
     "output_type": "stream",
     "text": [
      "The list is of type : <class 'list'>\n",
      "The iterator is of type : <class 'list_iterator'>\n",
      "1\n",
      "2\n",
      "3\n",
      "4\n",
      "5\n",
      "Values at 1st iteration : \n",
      "1\n",
      "2\n",
      "3\n",
      "4\n",
      "5\n",
      "Values at 2nd iteration : \n"
     ]
    },
    {
     "ename": "StopIteration",
     "evalue": "",
     "output_type": "error",
     "traceback": [
      "\u001b[0;31m---------------------------------------------------------------------------\u001b[0m",
      "\u001b[0;31mStopIteration\u001b[0m                             Traceback (most recent call last)",
      "\u001b[0;32m<ipython-input-14-798b4929de9d>\u001b[0m in \u001b[0;36m<module>\u001b[0;34m\u001b[0m\n\u001b[1;32m     32\u001b[0m \u001b[0mprint\u001b[0m \u001b[0;34m(\u001b[0m\u001b[0;34m\"Values at 2nd iteration : \"\u001b[0m\u001b[0;34m)\u001b[0m\u001b[0;34m\u001b[0m\u001b[0;34m\u001b[0m\u001b[0m\n\u001b[1;32m     33\u001b[0m \u001b[0;32mfor\u001b[0m \u001b[0mi\u001b[0m \u001b[0;32min\u001b[0m \u001b[0mrange\u001b[0m\u001b[0;34m(\u001b[0m\u001b[0;36m0\u001b[0m\u001b[0;34m,\u001b[0m \u001b[0;36m5\u001b[0m\u001b[0;34m)\u001b[0m\u001b[0;34m:\u001b[0m\u001b[0;34m\u001b[0m\u001b[0;34m\u001b[0m\u001b[0m\n\u001b[0;32m---> 34\u001b[0;31m     \u001b[0mprint\u001b[0m \u001b[0;34m(\u001b[0m\u001b[0mnext\u001b[0m\u001b[0;34m(\u001b[0m\u001b[0mlis1\u001b[0m\u001b[0;34m)\u001b[0m\u001b[0;34m)\u001b[0m\u001b[0;34m\u001b[0m\u001b[0;34m\u001b[0m\u001b[0m\n\u001b[0m",
      "\u001b[0;31mStopIteration\u001b[0m: "
     ]
    }
   ],
   "source": [
    "lis1 = [1, 2, 3, 4, 5] \n",
    "  \n",
    "# printing type  \n",
    "print (\"The list is of type : \" + str(type(lis1))) \n",
    "  \n",
    "# converting list using iter() \n",
    "lis1 = iter(lis1) \n",
    "  \n",
    "# printing type  \n",
    "print (\"The iterator is of type : \" + str(type(lis1))) \n",
    "  \n",
    "# using next() to print iterator values \n",
    "print (next(lis1)) \n",
    "print (next(lis1)) \n",
    "print (next(lis1)) \n",
    "print (next(lis1)) \n",
    "print (next(lis1)) \n",
    "\n",
    "\n",
    "\n",
    "lis1 = [1, 2, 3, 4, 5] \n",
    "  \n",
    "# converting list using iter() \n",
    "lis1 = iter(lis1) \n",
    "  \n",
    "# prints this  \n",
    "print (\"Values at 1st iteration : \") \n",
    "for i in range(0, 5): \n",
    "    print (next(lis1)) \n",
    "  \n",
    "# doesn't print this \n",
    "print (\"Values at 2nd iteration : \") \n",
    "for i in range(0, 5): \n",
    "    print (next(lis1)) \n"
   ]
  },
  {
   "cell_type": "markdown",
   "metadata": {},
   "source": [
    "## len\n",
    "len() function is an inbuilt function in Python programming language that returns the length of the string.\n",
    "\n"
   ]
  },
  {
   "cell_type": "code",
   "execution_count": 15,
   "metadata": {},
   "outputs": [
    {
     "name": "stdout",
     "output_type": "stream",
     "text": [
      "5\n",
      "15\n"
     ]
    }
   ],
   "source": [
    "string = \"geeks\" \n",
    "print(len(string)) \n",
    "  \n",
    "# Length of below string is 15 \n",
    "string = \"geeks for geeks\" \n",
    "print(len(string)) "
   ]
  },
  {
   "cell_type": "markdown",
   "metadata": {},
   "source": [
    "## list"
   ]
  },
  {
   "cell_type": "code",
   "execution_count": 17,
   "metadata": {},
   "outputs": [],
   "source": [
    "# Already done in list datatype"
   ]
  },
  {
   "cell_type": "markdown",
   "metadata": {},
   "source": [
    "## locals\n",
    "locals() function in Python returns the dictionary of current local symbol table."
   ]
  },
  {
   "cell_type": "code",
   "execution_count": 18,
   "metadata": {},
   "outputs": [
    {
     "name": "stdout",
     "output_type": "stream",
     "text": [
      "Here no local variable  is present :  {}\n",
      "Here local variables are present :  {'name': 'Ankit'}\n"
     ]
    }
   ],
   "source": [
    "def demo1(): \n",
    "    print(\"Here no local variable  is present : \", locals()) \n",
    "      \n",
    "# here local variables are present \n",
    "def demo2(): \n",
    "     name = \"Ankit\"\n",
    "     print(\"Here local variables are present : \", locals()) \n",
    "       \n",
    "# driver code \n",
    "demo1() \n",
    "demo2() "
   ]
  },
  {
   "cell_type": "markdown",
   "metadata": {},
   "source": [
    "## map\n",
    "map() function returns a map object(which is an iterator) of the results after applying the given function to each item of a given iterable (list, tuple etc.)"
   ]
  },
  {
   "cell_type": "code",
   "execution_count": 20,
   "metadata": {},
   "outputs": [
    {
     "name": "stdout",
     "output_type": "stream",
     "text": [
      "[2, 4, 6, 8]\n",
      "[2, 4, 6, 8]\n"
     ]
    }
   ],
   "source": [
    "def addition(n): \n",
    "    return n + n \n",
    "  \n",
    "# We double all numbers using map() \n",
    "numbers = (1, 2, 3, 4) \n",
    "result = map(addition, numbers) \n",
    "print(list(result)) \n",
    "\n",
    "\n",
    "numbers = (1, 2, 3, 4) \n",
    "result = map(lambda x: x + x, numbers) \n",
    "print(list(result)) "
   ]
  },
  {
   "cell_type": "markdown",
   "metadata": {},
   "source": [
    "## max\n",
    "This function is used to compute the maximum of the values passed in its argument and lexicographically largest value if strings are passed as arguments."
   ]
  },
  {
   "cell_type": "code",
   "execution_count": 21,
   "metadata": {},
   "outputs": [
    {
     "name": "stdout",
     "output_type": "stream",
     "text": [
      "Maximum of 4,12,43.3,19 and 100 is : 100\n"
     ]
    }
   ],
   "source": [
    "print(\"Maximum of 4,12,43.3,19 and 100 is : \",end=\"\")\n",
    "print (max( 4,12,43.3,19,100 ) )\n"
   ]
  },
  {
   "cell_type": "markdown",
   "metadata": {},
   "source": [
    "## memoryview\n",
    "memoryview objects allow Python code to access the internal data of an object that supports the buffer protocol without copying.\n",
    "The memoryview() function allows direct read and write access to an object’s byte-oriented data without needing to copy it first. That can yield large performance gains when operating on large objects since it doesn’t create a copy when slicing."
   ]
  },
  {
   "cell_type": "code",
   "execution_count": 23,
   "metadata": {},
   "outputs": [
    {
     "name": "stdout",
     "output_type": "stream",
     "text": [
      "Before update: bytearray(b'XYZ')\n",
      "After update: bytearray(b'XYJ')\n"
     ]
    }
   ],
   "source": [
    "byte_array = bytearray('XYZ', 'utf-8') \n",
    "print('Before update:', byte_array) \n",
    "  \n",
    "mem_view = memoryview(byte_array) \n",
    "  \n",
    "# update 2nd index of mem_view to J  \n",
    "mem_view[2]= 74\n",
    "print('After update:', byte_array) \n"
   ]
  },
  {
   "cell_type": "markdown",
   "metadata": {},
   "source": [
    "## min\n",
    "This function is used to compute the minimum of the values passed in its argument and lexicographically smallest value if strings are passed as arguments."
   ]
  },
  {
   "cell_type": "code",
   "execution_count": 22,
   "metadata": {},
   "outputs": [
    {
     "name": "stdout",
     "output_type": "stream",
     "text": [
      "Minimum of 4,12,43.3,19 and 100 is : 4\n"
     ]
    }
   ],
   "source": [
    "print(\"Minimum of 4,12,43.3,19 and 100 is : \",end=\"\")\n",
    "print (min( 4,12,43.3,19,100 ) )"
   ]
  },
  {
   "cell_type": "markdown",
   "metadata": {},
   "source": [
    "## next"
   ]
  },
  {
   "cell_type": "code",
   "execution_count": 24,
   "metadata": {},
   "outputs": [],
   "source": [
    "# Already done in iter built in function"
   ]
  },
  {
   "cell_type": "markdown",
   "metadata": {},
   "source": [
    "## object\n",
    "The object() function returns a featureless object which is a base for all classes.\n"
   ]
  },
  {
   "cell_type": "code",
   "execution_count": 25,
   "metadata": {},
   "outputs": [
    {
     "name": "stdout",
     "output_type": "stream",
     "text": [
      "<object object at 0x7fe0dfd63330>\n",
      "<class 'object'>\n",
      "['__class__', '__delattr__', '__dir__', '__doc__', '__eq__', '__format__', '__ge__', '__getattribute__', '__gt__', '__hash__', '__init__', '__init_subclass__', '__le__', '__lt__', '__ne__', '__new__', '__reduce__', '__reduce_ex__', '__repr__', '__setattr__', '__sizeof__', '__str__', '__subclasshook__']\n"
     ]
    }
   ],
   "source": [
    "o = object()\n",
    "print(o)\n",
    "test = object()\n",
    "print(type(test))\n",
    "print(dir(test))"
   ]
  },
  {
   "cell_type": "markdown",
   "metadata": {},
   "source": [
    "## oct"
   ]
  },
  {
   "cell_type": "code",
   "execution_count": 26,
   "metadata": {},
   "outputs": [],
   "source": [
    "# Already done in number datatype"
   ]
  },
  {
   "cell_type": "markdown",
   "metadata": {},
   "source": [
    "## open\n",
    "The open() function opens the file (if possible) and returns the corresponding file object.\n"
   ]
  },
  {
   "cell_type": "code",
   "execution_count": 27,
   "metadata": {},
   "outputs": [],
   "source": [
    "# We will cover this in file handling topic."
   ]
  },
  {
   "cell_type": "markdown",
   "metadata": {},
   "source": [
    "## ord\n",
    "The ord() function returns an integer representing the Unicode character.\n"
   ]
  },
  {
   "cell_type": "code",
   "execution_count": 28,
   "metadata": {},
   "outputs": [
    {
     "name": "stdout",
     "output_type": "stream",
     "text": [
      "53\n",
      "65\n",
      "36\n"
     ]
    }
   ],
   "source": [
    "print(ord('5'))    # 53\n",
    "print(ord('A'))    # 65\n",
    "print(ord('$'))    # 36"
   ]
  },
  {
   "cell_type": "markdown",
   "metadata": {},
   "source": [
    "## pow\n",
    "The pow() function returns the power of a number.\n"
   ]
  },
  {
   "cell_type": "code",
   "execution_count": 30,
   "metadata": {},
   "outputs": [
    {
     "name": "stdout",
     "output_type": "stream",
     "text": [
      "8\n",
      "4\n"
     ]
    }
   ],
   "source": [
    "'''\n",
    "The syntax of pow() is:\n",
    "\n",
    "pow(x, y, z)\n",
    "\n",
    "The pow() function takes three parameters:\n",
    "\n",
    "x - a number, the base\n",
    "y - a number, the exponent\n",
    "z (optional) - a number, used for modulus\n",
    "Hence,\n",
    "\n",
    "pow(x, y) is equal to (x^y)\n",
    "pow(x, y, z) is equal to (x^y) % z\n",
    "'''\n",
    "print(pow(2, 3))    # 8\n",
    "x = 7\n",
    "y = 2\n",
    "z = 5\n",
    "print(pow(x, y, z))    # 4\n"
   ]
  },
  {
   "cell_type": "markdown",
   "metadata": {},
   "source": [
    "## print"
   ]
  },
  {
   "cell_type": "code",
   "execution_count": 31,
   "metadata": {},
   "outputs": [],
   "source": [
    "# Already done in \"about python\""
   ]
  },
  {
   "cell_type": "markdown",
   "metadata": {},
   "source": [
    "## property\n",
    "The property() construct returns the property attribute.\n"
   ]
  },
  {
   "cell_type": "code",
   "execution_count": 33,
   "metadata": {},
   "outputs": [
    {
     "name": "stdout",
     "output_type": "stream",
     "text": [
      "Getting name\n",
      "Adam\n",
      "Setting name to John\n",
      "Deleting name\n",
      "\n",
      "\n",
      "\n",
      "\n",
      "Getting name\n",
      "The name is: Adam\n",
      "Setting name to John\n",
      "Deleting name\n"
     ]
    }
   ],
   "source": [
    "class Person:\n",
    "    def __init__(self, name):\n",
    "        self._name = name\n",
    "\n",
    "    def get_name(self):\n",
    "        print('Getting name')\n",
    "        return self._name\n",
    "\n",
    "    def set_name(self, value):\n",
    "        print('Setting name to ' + value)\n",
    "        self._name = value\n",
    "\n",
    "    def del_name(self):\n",
    "        print('Deleting name')\n",
    "        del self._name\n",
    "\n",
    "    # Set property to use get_name, set_name\n",
    "    # and del_name methods\n",
    "    name = property(get_name, set_name, del_name, 'Name property')\n",
    "\n",
    "p = Person('Adam')\n",
    "print(p.name)\n",
    "p.name = 'John'\n",
    "del p.name\n",
    "\n",
    "\n",
    "#Using @property decorator\n",
    "print(\"\\n\\n\\n\")\n",
    "\n",
    "class Person:\n",
    "    def __init__(self, name):\n",
    "        self._name = name\n",
    "\n",
    "    @property\n",
    "    def name(self):\n",
    "        print('Getting name')\n",
    "        return self._name\n",
    "\n",
    "    @name.setter\n",
    "    def name(self, value):\n",
    "        print('Setting name to ' + value)\n",
    "        self._name = value\n",
    "\n",
    "    @name.deleter\n",
    "    def name(self):\n",
    "        print('Deleting name')\n",
    "        del self._name\n",
    "\n",
    "p = Person('Adam')\n",
    "print('The name is:', p.name)\n",
    "p.name = 'John'\n",
    "del p.name"
   ]
  },
  {
   "cell_type": "markdown",
   "metadata": {},
   "source": [
    "## range"
   ]
  },
  {
   "cell_type": "code",
   "execution_count": 35,
   "metadata": {},
   "outputs": [],
   "source": [
    "# Already done in range datatype"
   ]
  },
  {
   "cell_type": "markdown",
   "metadata": {},
   "source": [
    "## repr\n",
    "The repr() function returns a printable representation of the given object.\n"
   ]
  },
  {
   "cell_type": "code",
   "execution_count": 40,
   "metadata": {},
   "outputs": [
    {
     "name": "stdout",
     "output_type": "stream",
     "text": [
      "'foo'\n",
      "foo\n",
      "'Hello Adam'\n"
     ]
    }
   ],
   "source": [
    "var = 'foo'\n",
    "\n",
    "print(repr(var))\n",
    "print(eval(repr(var)))\n",
    "\n",
    "#Implement __repr__() for custom objects\n",
    "\n",
    "class Person:\n",
    "    name = 'Adam'\n",
    "\n",
    "    def __repr__(self):\n",
    "        return repr('Hello ' + self.name )\n",
    "\n",
    "print(repr(Person()))"
   ]
  },
  {
   "cell_type": "markdown",
   "metadata": {},
   "source": [
    "## reversed\n",
    "The reversed() function returns the reversed iterator of the given sequence.\n"
   ]
  },
  {
   "cell_type": "code",
   "execution_count": 42,
   "metadata": {},
   "outputs": [
    {
     "name": "stdout",
     "output_type": "stream",
     "text": [
      "['n', 'o', 'h', 't', 'y', 'P']\n",
      "['n', 'o', 'h', 't', 'y', 'P']\n",
      "[8, 7, 6, 5]\n",
      "[5, 3, 4, 2, 1]\n",
      "['u', 'o', 'i', 'e', 'a']\n"
     ]
    }
   ],
   "source": [
    "seq_string = 'Python'\n",
    "print(list(reversed(seq_string)))\n",
    "\n",
    "# for tuple\n",
    "seq_tuple = ('P', 'y', 't', 'h', 'o', 'n')\n",
    "print(list(reversed(seq_tuple)))\n",
    "\n",
    "# for range\n",
    "seq_range = range(5, 9)\n",
    "print(list(reversed(seq_range)))\n",
    "\n",
    "# for list\n",
    "seq_list = [1, 2, 4, 3, 5]\n",
    "print(list(reversed(seq_list)))\n",
    "\n",
    "#reversed() in custom objects\n",
    "\n",
    "class Vowels:\n",
    "    vowels = ['a', 'e', 'i', 'o', 'u']\n",
    "\n",
    "    def __reversed__(self):\n",
    "        return reversed(self.vowels)\n",
    "\n",
    "v = Vowels()\n",
    "print(list(reversed(v)))"
   ]
  },
  {
   "cell_type": "markdown",
   "metadata": {},
   "source": [
    "## round\n",
    "The round() function returns a floating-point number rounded to the specified number of decimals."
   ]
  },
  {
   "cell_type": "code",
   "execution_count": 45,
   "metadata": {},
   "outputs": [
    {
     "name": "stdout",
     "output_type": "stream",
     "text": [
      "10\n",
      "11\n",
      "6\n",
      "2.67\n",
      "2.67\n",
      "2.67\n",
      "2.68\n"
     ]
    }
   ],
   "source": [
    "# for integers\n",
    "print(round(10))\n",
    "\n",
    "# for floating point\n",
    "print(round(10.7))\n",
    "\n",
    "# even choice\n",
    "print(round(5.5))\n",
    "\n",
    "print(round(2.665, 2))\n",
    "print(round(2.675, 2))\n",
    "\n",
    "from decimal import Decimal\n",
    "\n",
    "# normal float\n",
    "num = 2.675\n",
    "print(round(num, 2))\n",
    "\n",
    "# using decimal.Decimal (passed float as string for precision)\n",
    "num = Decimal('2.675')\n",
    "print(round(num, 2))"
   ]
  },
  {
   "cell_type": "markdown",
   "metadata": {},
   "source": [
    "## set"
   ]
  },
  {
   "cell_type": "code",
   "execution_count": 46,
   "metadata": {},
   "outputs": [],
   "source": [
    "# Already done in set datatype"
   ]
  },
  {
   "cell_type": "markdown",
   "metadata": {},
   "source": [
    "## setatr\n",
    "The setattr() function sets the value of the attribute of an object.\n",
    "\n",
    "The syntax of the setattr() function is:\n",
    "setattr(object, name, value)\n",
    "\n",
    "object - object whose attribute has to be set\n",
    "\n",
    "name - attribute name\n",
    "\n",
    "value - value given to the attribute\n"
   ]
  },
  {
   "cell_type": "code",
   "execution_count": 47,
   "metadata": {},
   "outputs": [
    {
     "name": "stdout",
     "output_type": "stream",
     "text": [
      "Before modification: Adam\n",
      "After modification: John\n"
     ]
    }
   ],
   "source": [
    "class Person:\n",
    "    name = 'Adam'\n",
    "    \n",
    "p = Person()\n",
    "print('Before modification:', p.name)\n",
    "\n",
    "# setting name to 'John'\n",
    "setattr(p, 'name', 'John')\n",
    "\n",
    "print('After modification:', p.name)"
   ]
  },
  {
   "cell_type": "markdown",
   "metadata": {},
   "source": [
    "## slice\n",
    "The slice() function returns a slice object that can use used to slice strings, lists, tuple etc.\n",
    "\n",
    "The syntax of slice() is:\n",
    "\n",
    "slice(start, stop, step)\n"
   ]
  },
  {
   "cell_type": "code",
   "execution_count": 48,
   "metadata": {},
   "outputs": [
    {
     "name": "stdout",
     "output_type": "stream",
     "text": [
      "Pyt\n",
      "yhn\n"
     ]
    }
   ],
   "source": [
    "# Program to get a substring from the given string \n",
    "\n",
    "py_string = 'Python'\n",
    "\n",
    "# stop = 3\n",
    "# contains 0, 1 and 2 indices\n",
    "slice_object = slice(3) \n",
    "print(py_string[slice_object])  # Pyt\n",
    "\n",
    "# start = 1, stop = 6, step = 2\n",
    "# contains 1, 3 and 5 indices\n",
    "slice_object = slice(1, 6, 2)\n",
    "print(py_string[slice_object])   # yhn"
   ]
  },
  {
   "cell_type": "markdown",
   "metadata": {},
   "source": [
    "## sorted\n",
    "The sorted() function returns a sorted list from the items in an iterable.\n",
    "\n",
    "sorted(iterable, key=None, reverse=False)\n"
   ]
  },
  {
   "cell_type": "code",
   "execution_count": 51,
   "metadata": {},
   "outputs": [
    {
     "name": "stdout",
     "output_type": "stream",
     "text": [
      "['a', 'e', 'i', 'o', 'u']\n",
      "['P', 'h', 'n', 'o', 't', 'y']\n",
      "['a', 'e', 'i', 'o', 'u']\n",
      "['u', 'o', 'i', 'e', 'a']\n",
      "['u', 'o', 'i', 'e', 'a']\n",
      "['u', 'o', 'i', 'e', 'a']\n",
      "Sorted list: [(4, 1), (2, 2), (1, 3), (3, 4)]\n"
     ]
    }
   ],
   "source": [
    "py_list = ['e', 'a', 'u', 'o', 'i']\n",
    "print(sorted(py_list))\n",
    "\n",
    "# string\n",
    "py_string = 'Python'\n",
    "print(sorted(py_string))\n",
    "\n",
    "# vowels tuple\n",
    "py_tuple = ('e', 'a', 'u', 'o', 'i')\n",
    "print(sorted(py_tuple))\n",
    "\n",
    "# set\n",
    "py_set = {'e', 'a', 'u', 'o', 'i'}\n",
    "print(sorted(py_set, reverse=True))\n",
    "\n",
    "# dictionary\n",
    "py_dict = {'e': 1, 'a': 2, 'u': 3, 'o': 4, 'i': 5}\n",
    "print(sorted(py_dict, reverse=True))\n",
    "\n",
    "# frozen set\n",
    "frozen_set = frozenset(('e', 'a', 'u', 'o', 'i'))\n",
    "print(sorted(frozen_set, reverse=True))\n",
    "\n",
    "# Sort the list using sorted() having a key function\n",
    "# take the second element for sort\n",
    "def take_second(elem):\n",
    "    return elem[1]\n",
    "\n",
    "\n",
    "# random list\n",
    "random = [(2, 2), (3, 4), (4, 1), (1, 3)]\n",
    "\n",
    "# sort list with key\n",
    "sorted_list = sorted(random, key=take_second)\n",
    "\n",
    "# print list\n",
    "print('Sorted list:', sorted_list)"
   ]
  },
  {
   "cell_type": "markdown",
   "metadata": {},
   "source": [
    "## staticmethod\n",
    "The staticmethod() built-in function returns a static method for a given function.\n"
   ]
  },
  {
   "cell_type": "code",
   "execution_count": 70,
   "metadata": {},
   "outputs": [
    {
     "name": "stdout",
     "output_type": "stream",
     "text": [
      "The sum is: 15\n",
      "Equal\n",
      "Equal\n"
     ]
    }
   ],
   "source": [
    "class Mathematics:\n",
    "\n",
    "    def addNumbers(x, y):\n",
    "        return x + y\n",
    "\n",
    "# create addNumbers static method\n",
    "Mathematics.addNumbers = staticmethod(Mathematics.addNumbers)\n",
    "\n",
    "print('The sum is:', Mathematics.addNumbers(5, 10))\n",
    "\n",
    "\n",
    "# It is used to Grouping utility function to a class\n",
    "\n",
    "class Dates:\n",
    "    def __init__(self, date):\n",
    "        self.date = date\n",
    "        \n",
    "    def getDate(self):\n",
    "        return self.date\n",
    "\n",
    "    @staticmethod\n",
    "    def toDashDate(date):\n",
    "        return date.replace(\"/\", \"-\")\n",
    "\n",
    "date = Dates(\"15-12-2016\")\n",
    "dateFromDB = \"15/12/2016\"\n",
    "dateWithDash = Dates.toDashDate(dateFromDB)\n",
    "\n",
    "if(date.getDate() == dateWithDash):\n",
    "    print(\"Equal\")\n",
    "else:\n",
    "    print(\"Unequal\")\n",
    "    \n",
    "    \n",
    "# It is used to Having a single implementation\n",
    "\n",
    "class Dates:\n",
    "    def __init__(self, date):\n",
    "        self.date = date\n",
    "        \n",
    "    def getDate(self):\n",
    "        return self.date\n",
    "\n",
    "    @staticmethod\n",
    "    def toDashDate(date):\n",
    "        return date.replace(\"/\", \"-\")\n",
    "\n",
    "class DatesWithSlashes(Dates):\n",
    "    def getDate(self):\n",
    "        return Dates.toDashDate(self.date)\n",
    "\n",
    "date = Dates(\"15-12-2016\")\n",
    "dateFromDB = DatesWithSlashes(\"15/12/2016\")\n",
    "\n",
    "if(date.getDate() == dateFromDB.getDate()):\n",
    "    print(\"Equal\")\n",
    "else:\n",
    "    print(\"Unequal\")"
   ]
  },
  {
   "cell_type": "markdown",
   "metadata": {},
   "source": [
    "## str"
   ]
  },
  {
   "cell_type": "code",
   "execution_count": 52,
   "metadata": {},
   "outputs": [],
   "source": [
    "# Already in string datatype"
   ]
  },
  {
   "cell_type": "markdown",
   "metadata": {},
   "source": [
    "## sum\n",
    "The sum() function adds the items of an iterable and returns the sum.\n"
   ]
  },
  {
   "cell_type": "code",
   "execution_count": 53,
   "metadata": {},
   "outputs": [
    {
     "name": "stdout",
     "output_type": "stream",
     "text": [
      "4.5\n",
      "14.5\n"
     ]
    }
   ],
   "source": [
    "numbers = [2.5, 3, 4, -5]\n",
    "\n",
    "# start parameter is not provided\n",
    "numbers_sum = sum(numbers)\n",
    "print(numbers_sum)\n",
    "\n",
    "# start = 10\n",
    "numbers_sum = sum(numbers, 10)\n",
    "print(numbers_sum)"
   ]
  },
  {
   "cell_type": "markdown",
   "metadata": {},
   "source": [
    "## super"
   ]
  },
  {
   "cell_type": "code",
   "execution_count": 67,
   "metadata": {},
   "outputs": [],
   "source": [
    "# We can better learn this in OOPS concept"
   ]
  },
  {
   "cell_type": "markdown",
   "metadata": {},
   "source": [
    "## tuple"
   ]
  },
  {
   "cell_type": "code",
   "execution_count": 54,
   "metadata": {},
   "outputs": [],
   "source": [
    "# Already done in tuple datatype"
   ]
  },
  {
   "cell_type": "markdown",
   "metadata": {},
   "source": [
    "## type\n",
    "The type() function either returns the type of the object or returns a new type object based on the arguments passed.\n"
   ]
  },
  {
   "cell_type": "code",
   "execution_count": 55,
   "metadata": {},
   "outputs": [
    {
     "name": "stdout",
     "output_type": "stream",
     "text": [
      "<class 'list'>\n",
      "<class 'dict'>\n",
      "<class '__main__.Foo'>\n"
     ]
    }
   ],
   "source": [
    "numbers_list = [1, 2]\n",
    "print(type(numbers_list))\n",
    "\n",
    "numbers_dict = {1: 'one', 2: 'two'}\n",
    "print(type(numbers_dict))\n",
    "\n",
    "class Foo:\n",
    "    a = 0\n",
    "\n",
    "foo = Foo()\n",
    "print(type(foo))"
   ]
  },
  {
   "cell_type": "markdown",
   "metadata": {},
   "source": [
    "## vars\n",
    "The vars() function returns the __dict__ attribute of the given object.\n"
   ]
  },
  {
   "cell_type": "code",
   "execution_count": 56,
   "metadata": {},
   "outputs": [
    {
     "name": "stdout",
     "output_type": "stream",
     "text": [
      "{'a': 5, 'b': 10}\n"
     ]
    }
   ],
   "source": [
    "class Foo:\n",
    "  def __init__(self, a = 5, b = 10):\n",
    "    self.a = a\n",
    "    self.b = b\n",
    "  \n",
    "object = Foo()\n",
    "print(vars(object))"
   ]
  },
  {
   "cell_type": "markdown",
   "metadata": {},
   "source": [
    "## zip\n",
    "The zip() function takes iterables (can be zero or more), aggregates them in a tuple, and return it.\n"
   ]
  },
  {
   "cell_type": "code",
   "execution_count": 60,
   "metadata": {},
   "outputs": [
    {
     "name": "stdout",
     "output_type": "stream",
     "text": [
      "[]\n",
      "{(2, 'two'), (1, 'one'), (3, 'three')}\n"
     ]
    }
   ],
   "source": [
    "number_list = [1, 2, 3]\n",
    "str_list = ['one', 'two', 'three']\n",
    "\n",
    "# No iterables are passed\n",
    "result = zip()\n",
    "\n",
    "# Converting itertor to list\n",
    "result_list = list(result)\n",
    "print(result_list)\n",
    "\n",
    "# Two iterables are passed\n",
    "result = zip(number_list, str_list)\n",
    "\n",
    "# Converting itertor to set\n",
    "result_set = set(result)\n",
    "print(result_set)"
   ]
  },
  {
   "cell_type": "markdown",
   "metadata": {},
   "source": [
    "## _ _import_ _\n",
    "The _ _import_ _() is a function that is called by the import statement."
   ]
  },
  {
   "cell_type": "code",
   "execution_count": 65,
   "metadata": {},
   "outputs": [
    {
     "name": "stdout",
     "output_type": "stream",
     "text": [
      "2.5\n",
      "4.33\n",
      "12.2\n"
     ]
    }
   ],
   "source": [
    "# How __import()__ works?\n",
    "mathematics = __import__('math', globals(), locals(), [], 0)\n",
    "print(mathematics.fabs(-2.5))\n",
    "\n",
    "# or\n",
    "\n",
    "import math\n",
    "print(math.fabs(-4.33))\n",
    "\n",
    "print(mathematics.fabs(-12.2))"
   ]
  },
  {
   "cell_type": "code",
   "execution_count": null,
   "metadata": {},
   "outputs": [],
   "source": []
  }
 ],
 "metadata": {
  "kernelspec": {
   "display_name": "Python 3 (ipykernel)",
   "language": "python",
   "name": "python3"
  },
  "language_info": {
   "codemirror_mode": {
    "name": "ipython",
    "version": 3
   },
   "file_extension": ".py",
   "mimetype": "text/x-python",
   "name": "python",
   "nbconvert_exporter": "python",
   "pygments_lexer": "ipython3",
   "version": "3.9.12"
  }
 },
 "nbformat": 4,
 "nbformat_minor": 2
}
