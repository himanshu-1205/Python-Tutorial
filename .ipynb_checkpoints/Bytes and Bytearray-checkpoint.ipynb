{
 "cells": [
  {
   "cell_type": "markdown",
   "metadata": {},
   "source": [
    "# Bytes and Bytearray"
   ]
  },
  {
   "cell_type": "code",
   "execution_count": 1,
   "metadata": {},
   "outputs": [
    {
     "name": "stdout",
     "output_type": "stream",
     "text": [
      "b'Bytes objects are immutable sequences of single bytes'\n"
     ]
    }
   ],
   "source": [
    "# Create a bytes object in Python\n",
    "\n",
    "x = b\"Bytes objects are immutable sequences of single bytes\"\n",
    "print(x)\n"
   ]
  },
  {
   "cell_type": "code",
   "execution_count": 2,
   "metadata": {},
   "outputs": [
    {
     "name": "stdout",
     "output_type": "stream",
     "text": [
      "b'Python Tutorial,\\nJavascript Tutorial,\\nMySQL Tutorial'\n"
     ]
    }
   ],
   "source": [
    "#triple single or double quotes allows multiple lines\n",
    "\n",
    "x = b'''Python Tutorial,\n",
    "Javascript Tutorial,\n",
    "MySQL Tutorial'''\n",
    "print(x)"
   ]
  },
  {
   "cell_type": "code",
   "execution_count": 3,
   "metadata": {},
   "outputs": [
    {
     "name": "stdout",
     "output_type": "stream",
     "text": [
      "b'Python, bytes'\n"
     ]
    }
   ],
   "source": [
    "#created from a iterable of ints, string, bytes or buffer objects.\n",
    "\n",
    "x = bytes('Python, bytes', 'utf8')\n",
    "print(x)"
   ]
  },
  {
   "cell_type": "markdown",
   "metadata": {},
   "source": [
    "## Convert bytes to string"
   ]
  },
  {
   "cell_type": "code",
   "execution_count": 4,
   "metadata": {},
   "outputs": [
    {
     "name": "stdout",
     "output_type": "stream",
     "text": [
      "b'El ni\\xc3\\xb1o come camar\\xc3\\xb3n'\n"
     ]
    }
   ],
   "source": [
    "#create a bytes object\n",
    "\n",
    "x = b'El ni\\xc3\\xb1o come camar\\xc3\\xb3n'\n",
    "print(x)"
   ]
  },
  {
   "cell_type": "code",
   "execution_count": 5,
   "metadata": {},
   "outputs": [
    {
     "name": "stdout",
     "output_type": "stream",
     "text": [
      "<class 'str'>\n",
      "El niño come camarón\n"
     ]
    }
   ],
   "source": [
    "# create a string using the decode() method of bytes. \n",
    "#This method takes an encoding argument, such as UTF-8, and optionally an errors argument.\n",
    "\n",
    "x = b'El ni\\xc3\\xb1o come camar\\xc3\\xb3n'\n",
    "s = x.decode()\n",
    "print(type(s))\n",
    "print(s)"
   ]
  },
  {
   "cell_type": "code",
   "execution_count": 8,
   "metadata": {},
   "outputs": [
    {
     "name": "stdout",
     "output_type": "stream",
     "text": [
      "b'\\xd8\\xe1\\xb7\\xeb\\xa8\\xe5 \\xd2\\xb7\\xe1'\n",
      "привет мир\n"
     ]
    }
   ],
   "source": [
    "#create a bytes object encoded using 'cp855'\n",
    "x = b'\\xd8\\xe1\\xb7\\xeb\\xa8\\xe5 \\xd2\\xb7\\xe1'\n",
    "print(x)\n",
    "#return a string using decode 'cp855'\n",
    "y = x.decode('cp855')\n",
    "print(y)"
   ]
  },
  {
   "cell_type": "code",
   "execution_count": 9,
   "metadata": {},
   "outputs": [
    {
     "name": "stdout",
     "output_type": "stream",
     "text": [
      "45678c6c56f205876f72c64\n"
     ]
    }
   ],
   "source": [
    "# Convert hex string to bytes\n",
    "\n",
    "#create a string with hexadecimal data\n",
    "x = '45678c6c56f205876f72c64'\n",
    "print(x)"
   ]
  },
  {
   "cell_type": "code",
   "execution_count": 14,
   "metadata": {},
   "outputs": [
    {
     "name": "stdout",
     "output_type": "stream",
     "text": [
      "b'Eg\\x8clV'\n"
     ]
    }
   ],
   "source": [
    "#this class method returns a bytes object, decoding the given string object.\n",
    "#the string must contain two hexadecimal digits per byte.\n",
    "\n",
    "x = '45678c6c56'\n",
    "y = bytes.fromhex(x)\n",
    "print(y)"
   ]
  },
  {
   "cell_type": "markdown",
   "metadata": {},
   "source": [
    "## Numeric code representing a character of a bytes object in Python\n"
   ]
  },
  {
   "cell_type": "code",
   "execution_count": 15,
   "metadata": {},
   "outputs": [
    {
     "name": "stdout",
     "output_type": "stream",
     "text": [
      "109\n"
     ]
    }
   ],
   "source": [
    "#return an integer representing the Unicode code point of that character.\n",
    "\n",
    "x = ord(b'm')\n",
    "print(x)"
   ]
  },
  {
   "cell_type": "code",
   "execution_count": 16,
   "metadata": {},
   "outputs": [
    {
     "name": "stdout",
     "output_type": "stream",
     "text": [
      "[80, 121, 116, 104, 111, 110, 32, 98, 121, 116, 101, 115]\n"
     ]
    }
   ],
   "source": [
    "#create a bytes object\n",
    "\n",
    "y = b'Python bytes'\n",
    "\n",
    "#generates a list of codes from the characters of bytes\n",
    "\"\"\n",
    "z = list(y)\n",
    "print(z)"
   ]
  },
  {
   "cell_type": "markdown",
   "metadata": {},
   "source": [
    "## Define a mapping table characters for use with a bytes object in Python"
   ]
  },
  {
   "cell_type": "code",
   "execution_count": 17,
   "metadata": {},
   "outputs": [
    {
     "name": "stdout",
     "output_type": "stream",
     "text": [
      "b'Python mapping table characters'\n"
     ]
    }
   ],
   "source": [
    "#create a str\n",
    "x = b'Python mapping table characters'\n",
    "print(x)"
   ]
  },
  {
   "cell_type": "code",
   "execution_count": 18,
   "metadata": {},
   "outputs": [
    {
     "name": "stdout",
     "output_type": "stream",
     "text": [
      "<class 'bytes'>\n",
      "b'\\x00\\x01\\x02\\x03\\x04\\x05\\x06\\x07\\x08\\t\\n\\x0b\\x0c\\r\\x0e\\x0f\\x10\\x11\\x12\\x13\\x14\\x15\\x16\\x17\\x18\\x19\\x1a\\x1b\\x1c\\x1d\\x1e\\x1f !\"#$%&\\'()*+,-./0123456789:;<=>?@ABCDEFGHIJKLMNOPQRSTUVWXYZ[\\\\]^_`uvwxyzghijklmnopqrstuvwxyz{|}~\\x7f\\x80\\x81\\x82\\x83\\x84\\x85\\x86\\x87\\x88\\x89\\x8a\\x8b\\x8c\\x8d\\x8e\\x8f\\x90\\x91\\x92\\x93\\x94\\x95\\x96\\x97\\x98\\x99\\x9a\\x9b\\x9c\\x9d\\x9e\\x9f\\xa0\\xa1\\xa2\\xa3\\xa4\\xa5\\xa6\\xa7\\xa8\\xa9\\xaa\\xab\\xac\\xad\\xae\\xaf\\xb0\\xb1\\xb2\\xb3\\xb4\\xb5\\xb6\\xb7\\xb8\\xb9\\xba\\xbb\\xbc\\xbd\\xbe\\xbf\\xc0\\xc1\\xc2\\xc3\\xc4\\xc5\\xc6\\xc7\\xc8\\xc9\\xca\\xcb\\xcc\\xcd\\xce\\xcf\\xd0\\xd1\\xd2\\xd3\\xd4\\xd5\\xd6\\xd7\\xd8\\xd9\\xda\\xdb\\xdc\\xdd\\xde\\xdf\\xe0\\xe1\\xe2\\xe3\\xe4\\xe5\\xe6\\xe7\\xe8\\xe9\\xea\\xeb\\xec\\xed\\xee\\xef\\xf0\\xf1\\xf2\\xf3\\xf4\\xf5\\xf6\\xf7\\xf8\\xf9\\xfa\\xfb\\xfc\\xfd\\xfe\\xff'\n"
     ]
    }
   ],
   "source": [
    "b_table = bytes.maketrans(b'abcdef', b'uvwxyz')\n",
    "print(type(b_table))\n",
    "print(b_table)"
   ]
  },
  {
   "cell_type": "code",
   "execution_count": 19,
   "metadata": {},
   "outputs": [
    {
     "name": "stdout",
     "output_type": "stream",
     "text": [
      "Writy u Python zunwtion to zinx u xistinwt puir oz numvyrs whosy proxuwt is oxx zrom u syquynwy oz intygyr vuluys.\n"
     ]
    }
   ],
   "source": [
    "b_table = bytes.maketrans(b'abcdef', b'uvwxyz')\n",
    "str = 'Write a Python function to find a distinct pair of numbers whose product is odd from a sequence of integer values.'\n",
    "b_new = str.translate(b_table)\n",
    "print(b_new)"
   ]
  },
  {
   "cell_type": "code",
   "execution_count": 20,
   "metadata": {},
   "outputs": [
    {
     "name": "stdout",
     "output_type": "stream",
     "text": [
      "b'507974686f6e'\n",
      "\n"
     ]
    }
   ],
   "source": [
    "# Convert bytes to hex in Python\n",
    "\n",
    "import binascii\n",
    "print(binascii.hexlify(\"Python\".encode(\"utf8\")))\n",
    "print(binascii.unhexlify(_).decode(\"utf8\"))"
   ]
  },
  {
   "cell_type": "code",
   "execution_count": 22,
   "metadata": {},
   "outputs": [
    {
     "name": "stdout",
     "output_type": "stream",
     "text": [
      "<\n",
      "2\n",
      "[70, 111, 106, 94, 101, 100, 22, 95, 105, 22, 91, 87, 125, 135]\n",
      "b'Foj^ed\\x16_i\\x16[W}\\x87'\n"
     ]
    }
   ],
   "source": [
    "# How to get the character from the numeric code in bytes objects in Python\n",
    "\n",
    "#this method return a single character based on the integer value.\n",
    "\n",
    "x = chr(60)\n",
    "print(x)\n",
    "\n",
    "x = chr(50)\n",
    "print(x)\n",
    "\n",
    "#create a list with integers in the range 0 through 255\n",
    "\n",
    "y = [70, 111, 106, 94, 101, 100, 22, 95, 105, 22, 91, 87, 125, 135]\n",
    "print(y)\n",
    "\n",
    "#create a bytes object from a list of integers in the range 0 through 255.\n",
    "\n",
    "z = bytes(y)\n",
    "print(z)"
   ]
  },
  {
   "cell_type": "markdown",
   "metadata": {},
   "source": [
    "## ByteArray\n",
    "Bytearray objects are a mutable counterpart to bytes objects"
   ]
  },
  {
   "cell_type": "code",
   "execution_count": 23,
   "metadata": {},
   "outputs": [
    {
     "name": "stdout",
     "output_type": "stream",
     "text": [
      "bytearray(b'Python Bytes')\n",
      "bytearray(b'Python Bytes')\n",
      "bytearray(b'^[e}o#xese\\xc8')\n"
     ]
    }
   ],
   "source": [
    "#create a bytearray from a bytes object\n",
    "\n",
    "x = bytearray(b\"Python Bytes\")\n",
    "print(x)\n",
    "\n",
    "#create a bytearray from a string defining the standard of coding\n",
    "\n",
    "x = bytearray(\"Python Bytes\", \"utf8\")\n",
    "print(x)\n",
    "\n",
    "#create a bytearray from a list of integers in the range 0 through 255\n",
    "\n",
    "x = bytearray([94, 91, 101, 125, 111, 35, 120, 101, 115, 101, 200])\n",
    "print(x)"
   ]
  },
  {
   "cell_type": "markdown",
   "metadata": {},
   "source": [
    "### Difference between bytes and bytearray object in Python"
   ]
  },
  {
   "cell_type": "code",
   "execution_count": 24,
   "metadata": {},
   "outputs": [
    {
     "name": "stdout",
     "output_type": "stream",
     "text": [
      "bytearray(b'Python bytearray')\n",
      "bytearray(b'Python bytey')\n",
      "bytearray(b'Python byte object')\n",
      "bytearray(b'Python byte object-')\n"
     ]
    }
   ],
   "source": [
    "x = bytearray(\"Python bytearray\", \"utf8\")\n",
    "print(x)\n",
    "\n",
    "#can remove items from the bytes\n",
    "\n",
    "del x[11:15]\n",
    "print(x)\n",
    "\n",
    "#can add items from the bytes\n",
    "\n",
    "x[11:15] = b\" object\"\n",
    "print(x)\n",
    "\n",
    "#can use the methods of mutable type iterable objects as the lists\n",
    "\n",
    "x.append(45)\n",
    "print(x)"
   ]
  },
  {
   "cell_type": "markdown",
   "metadata": {},
   "source": [
    "### Convert a bytes to bytearray"
   ]
  },
  {
   "cell_type": "code",
   "execution_count": 25,
   "metadata": {},
   "outputs": [
    {
     "name": "stdout",
     "output_type": "stream",
     "text": [
      "b'idkp\\x84vkp\\xc8'\n",
      "bytearray(b'idkp\\x84vkp\\xc8')\n"
     ]
    }
   ],
   "source": [
    "#create a bytes object from a list of integers in the range 0 through 255\n",
    "\n",
    "x = bytes([105, 100, 107, 112, 132, 118, 107, 112, 200])\n",
    "print(x)\n",
    "\n",
    "#generates a new array of bytes from a bytes object\n",
    "\n",
    "x1 = bytearray(x)\n",
    "print(x1)\n"
   ]
  },
  {
   "cell_type": "markdown",
   "metadata": {},
   "source": [
    "### Slice of a bytes object in Python"
   ]
  },
  {
   "cell_type": "code",
   "execution_count": 26,
   "metadata": {},
   "outputs": [
    {
     "name": "stdout",
     "output_type": "stream",
     "text": [
      "b'Python slice'\n",
      "b'thon'\n",
      "b'slice'\n",
      "b'Pyth'\n",
      "b'Python slice'\n"
     ]
    }
   ],
   "source": [
    "#create a bytes object\n",
    "\n",
    "x = b\"Python slice\"\n",
    "print(x)\n",
    "\n",
    "#b[start:stop] the start index is inclusive and the end index is exclusive.\n",
    "\n",
    "x1 = x[2:6]\n",
    "print(x1)\n",
    "\n",
    "#if the start index isn't defined, is starts from the beginning\n",
    "\n",
    "x1 = x[-5:]\n",
    "print(x1)\n",
    "\n",
    "#if the end index isn't defined, it goes until the end\n",
    "\n",
    "x1 = x[:4]\n",
    "print(x1)\n",
    "\n",
    "#if neither is defined, returns the full bytes object\n",
    "x1 = x[:]\n",
    "print(x1)"
   ]
  },
  {
   "cell_type": "markdown",
   "metadata": {},
   "source": [
    "### Difference between bytes and string object"
   ]
  },
  {
   "cell_type": "code",
   "execution_count": 27,
   "metadata": {},
   "outputs": [
    {
     "name": "stdout",
     "output_type": "stream",
     "text": [
      "Python String\n",
      "b'Python String'\n",
      "Python\n",
      "b'Python'\n"
     ]
    }
   ],
   "source": [
    "# bytes objects are immutable sequences of integers, each value in the sequence\n",
    "# string objects are immutable sequences of unicode characters.\n",
    "\n",
    "x = \"Python String\"\n",
    "y = b\"Python String\"\n",
    "print(x)\n",
    "print(y)\n",
    "\n",
    "# Found in unicode representation of characters but not in ascii\n",
    "\n",
    "x = \"Python\"\n",
    "y = bytes(\"Python\", \"utf8\")\n",
    "print(x)\n",
    "print(y)"
   ]
  },
  {
   "cell_type": "code",
   "execution_count": null,
   "metadata": {},
   "outputs": [],
   "source": []
  }
 ],
 "metadata": {
  "kernelspec": {
   "display_name": "Python 3 (ipykernel)",
   "language": "python",
   "name": "python3"
  },
  "language_info": {
   "codemirror_mode": {
    "name": "ipython",
    "version": 3
   },
   "file_extension": ".py",
   "mimetype": "text/x-python",
   "name": "python",
   "nbconvert_exporter": "python",
   "pygments_lexer": "ipython3",
   "version": "3.9.12"
  }
 },
 "nbformat": 4,
 "nbformat_minor": 2
}
