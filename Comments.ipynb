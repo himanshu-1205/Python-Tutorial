{
 "cells": [
  {
   "cell_type": "markdown",
   "metadata": {},
   "source": [
    "# Comments in python\n"
   ]
  },
  {
   "cell_type": "markdown",
   "metadata": {},
   "source": [
    "Comments can be used to explain Python code.\n",
    "\n",
    "Comments can be used to make the code more readable.\n",
    "\n",
    "Comments can be used to prevent execution when testing code.\n",
    "\n",
    "There are two types of comment in python\n",
    "\n",
    "1. Single Line Comment\n",
    "2. Multi Line Comment"
   ]
  },
  {
   "cell_type": "markdown",
   "metadata": {},
   "source": [
    "## Single Line Comment"
   ]
  },
  {
   "cell_type": "markdown",
   "metadata": {},
   "source": [
    "\"#\" Symbol is used for single line comment. For Example"
   ]
  },
  {
   "cell_type": "code",
   "execution_count": 1,
   "metadata": {},
   "outputs": [
    {
     "name": "stdout",
     "output_type": "stream",
     "text": [
      "Values of a and b before swapping\n",
      "a =  34\n",
      "b =  21\n",
      "\n",
      "\n",
      "Values of a and b after swapping\n",
      "a =  21\n",
      "b =  34\n"
     ]
    }
   ],
   "source": [
    "# Write a program to swap the two number without using third variable\n",
    "a = 34\n",
    "b = 21\n",
    "\n",
    "# Values of a and b before swapping\n",
    "print(\"Values of a and b before swapping\")\n",
    "print(\"a = \" , a)\n",
    "print(\"b = \" , b)\n",
    "print(\"\\n\")\n",
    "\n",
    "# Swapping Operation\n",
    "a = a + b\n",
    "b = a - b\n",
    "a = a - b\n",
    "\n",
    "# Values of a and b after swapping\n",
    "print(\"Values of a and b after swapping\")\n",
    "print(\"a = \" , a)\n",
    "print(\"b = \" , b)"
   ]
  },
  {
   "cell_type": "markdown",
   "metadata": {},
   "source": [
    "## Multi line comment "
   ]
  },
  {
   "cell_type": "raw",
   "metadata": {},
   "source": [
    "''' or \"\"\" is used to create multi line comment. For example"
   ]
  },
  {
   "cell_type": "code",
   "execution_count": 2,
   "metadata": {},
   "outputs": [
    {
     "name": "stdout",
     "output_type": "stream",
     "text": [
      "Comment Defination\n"
     ]
    }
   ],
   "source": [
    "\"\"\"\n",
    "Comments can be used to explain Python code.\n",
    "\n",
    "Comments can be used to make the code more readable.\n",
    "\n",
    "Comments can be used to prevent execution when testing code.\n",
    "\n",
    "There are two types of comment in python\n",
    "\n",
    "Single Line Comment\n",
    "Multi Line Comment\n",
    "\"\"\"\n",
    "print(\"Comment Defination\")"
   ]
  },
  {
   "cell_type": "code",
   "execution_count": null,
   "metadata": {},
   "outputs": [],
   "source": []
  }
 ],
 "metadata": {
  "kernelspec": {
   "display_name": "Python 3",
   "language": "python",
   "name": "python3"
  },
  "language_info": {
   "codemirror_mode": {
    "name": "ipython",
    "version": 3
   },
   "file_extension": ".py",
   "mimetype": "text/x-python",
   "name": "python",
   "nbconvert_exporter": "python",
   "pygments_lexer": "ipython3",
   "version": "3.7.6"
  }
 },
 "nbformat": 4,
 "nbformat_minor": 2
}
